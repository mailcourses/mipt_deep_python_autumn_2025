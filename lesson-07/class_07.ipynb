{
 "cells": [
  {
   "cell_type": "code",
   "execution_count": 2,
   "id": "a5fb1df3-e2b5-4e51-ba52-cb57723d6244",
   "metadata": {},
   "outputs": [],
   "source": [
    "import multiprocessing as mp\n",
    "import socket\n",
    "import time"
   ]
  },
  {
   "cell_type": "code",
   "execution_count": 4,
   "id": "010131fb-35c5-454a-9676-02531ebab675",
   "metadata": {},
   "outputs": [
    {
     "data": {
      "text/plain": [
       "(['spawn', 'fork', 'forkserver'], 'spawn')"
      ]
     },
     "execution_count": 4,
     "metadata": {},
     "output_type": "execute_result"
    }
   ],
   "source": [
    "mp.get_all_start_methods(), mp.get_start_method()"
   ]
  },
  {
   "cell_type": "code",
   "execution_count": null,
   "id": "447963b2-86ed-40ec-aa03-ec252da1ec2a",
   "metadata": {},
   "outputs": [],
   "source": []
  },
  {
   "cell_type": "code",
   "execution_count": null,
   "id": "7de80674-8ffe-4bc1-9d1b-5c096e8e9601",
   "metadata": {},
   "outputs": [],
   "source": []
  },
  {
   "cell_type": "code",
   "execution_count": 6,
   "id": "5ff7b582-b2eb-41a4-8598-2698c58cda13",
   "metadata": {},
   "outputs": [
    {
     "name": "stderr",
     "output_type": "stream",
     "text": [
      "Traceback (most recent call last):\n",
      "  File \u001b[35m\"<string>\"\u001b[0m, line \u001b[35m1\u001b[0m, in \u001b[35m<module>\u001b[0m\n",
      "    from multiprocessing.spawn import spawn_main; \u001b[31mspawn_main\u001b[0m\u001b[1;31m(tracker_fd=89, pipe_handle=93)\u001b[0m\n",
      "                                                  \u001b[31m~~~~~~~~~~\u001b[0m\u001b[1;31m^^^^^^^^^^^^^^^^^^^^^^^^^^^^^^^\u001b[0m\n",
      "  File \u001b[35m\"/Library/Frameworks/Python.framework/Versions/3.14/lib/python3.14/multiprocessing/spawn.py\"\u001b[0m, line \u001b[35m122\u001b[0m, in \u001b[35mspawn_main\u001b[0m\n",
      "    exitcode = _main(fd, parent_sentinel)\n",
      "  File \u001b[35m\"/Library/Frameworks/Python.framework/Versions/3.14/lib/python3.14/multiprocessing/spawn.py\"\u001b[0m, line \u001b[35m132\u001b[0m, in \u001b[35m_main\u001b[0m\n",
      "    self = reduction.pickle.load(from_parent)\n",
      "\u001b[1;35mAttributeError\u001b[0m: \u001b[35mmodule '__main__' has no attribute 'print_data'\u001b[0m\n"
     ]
    }
   ],
   "source": [
    "def print_data(data):\n",
    "    print(\"print_data\", data)\n",
    "\n",
    "data = {1: 11}\n",
    "\n",
    "proc = mp.Process(target=print_data, args=(data,))\n",
    "proc.start()\n",
    "proc.join()"
   ]
  },
  {
   "cell_type": "code",
   "execution_count": 16,
   "id": "734c4276-4b8a-487f-a3e1-eca01bbc0eb9",
   "metadata": {},
   "outputs": [
    {
     "name": "stdout",
     "output_type": "stream",
     "text": [
      "current pid 80640\n",
      "print_data {1: 11, '234': User[99]} os.getpid()=29709, os.getppid()=80640\n",
      "finish\n"
     ]
    }
   ],
   "source": [
    "import os\n",
    "\n",
    "class User:\n",
    "    def __init__(self, val):\n",
    "        self.val = val\n",
    "\n",
    "    def __repr__(self):\n",
    "        return f\"User[{self.val}]\"\n",
    "\n",
    "\n",
    "def print_data(data):\n",
    "    print(\"print_data\", data, f\"{os.getpid()=}, {os.getppid()=}\")\n",
    "\n",
    "data = {1: 11, \"234\": User(99)}\n",
    "\n",
    "\n",
    "proc_ctx = mp.get_context(\"fork\")\n",
    "\n",
    "print(\"current pid\", os.getpid())\n",
    "\n",
    "proc = proc_ctx.Process(target=print_data, args=(data,))\n",
    "proc.start()\n",
    "proc.join()\n",
    "\n",
    "print(\"finish\")"
   ]
  },
  {
   "cell_type": "code",
   "execution_count": null,
   "id": "ca5dd1ed-37b2-41b1-b0b9-8351cfd93600",
   "metadata": {},
   "outputs": [],
   "source": []
  },
  {
   "cell_type": "code",
   "execution_count": null,
   "id": "07d453d6-c392-4a45-8f86-0b60f9a57007",
   "metadata": {},
   "outputs": [],
   "source": []
  },
  {
   "cell_type": "code",
   "execution_count": null,
   "id": "1945c348-9862-4b51-8474-cc577dea5357",
   "metadata": {},
   "outputs": [],
   "source": []
  },
  {
   "cell_type": "code",
   "execution_count": 21,
   "id": "2fded9ae-239e-46e9-8743-fff01ec7bf30",
   "metadata": {},
   "outputs": [
    {
     "name": "stdout",
     "output_type": "stream",
     "text": [
      "data before: {22: '22 init', 33: 99}\n",
      "update data {22: '22 init', 33: 99}\n",
      "updated data {22: '202', 33: 99, ('qw', '77'): 'qwerty', '234': User[99]}\n",
      "data after: {22: '22 init', 33: 99}\n",
      "finish\n"
     ]
    }
   ],
   "source": [
    "class User:\n",
    "    def __init__(self, val):\n",
    "        self.val = val\n",
    "\n",
    "    def __repr__(self):\n",
    "        return f\"User[{self.val}]\"\n",
    "\n",
    "\n",
    "def update_data(data):\n",
    "    print(\"update data\", data)\n",
    "\n",
    "    data[22] = \"202\"\n",
    "    data[(\"qw\", \"77\")] = \"qwerty\"\n",
    "    data[\"234\"] = User(99)\n",
    "    \n",
    "    print(\"updated data\", data)\n",
    "\n",
    "\n",
    "data = {22: \"22 init\", 33: 99}\n",
    "print(\"data before:\", data)\n",
    "\n",
    "proc = proc_ctx.Process(target=update_data, args=(data,))\n",
    "proc.start()\n",
    "proc.join()\n",
    "\n",
    "print(\"data after:\", data)\n",
    "print(\"finish\")"
   ]
  },
  {
   "cell_type": "code",
   "execution_count": null,
   "id": "4d72a11b-fd40-48c5-84fb-b6cfef673380",
   "metadata": {},
   "outputs": [],
   "source": []
  },
  {
   "cell_type": "code",
   "execution_count": null,
   "id": "c5034325-c6e6-455b-810f-ac5c4c2d24d6",
   "metadata": {},
   "outputs": [],
   "source": []
  },
  {
   "cell_type": "code",
   "execution_count": 25,
   "id": "5f0b3ee4-ff70-4fc0-ac3b-cec2f74fea6a",
   "metadata": {},
   "outputs": [
    {
     "name": "stdout",
     "output_type": "stream",
     "text": [
      "data before: {22: '22 init', 33: 99}\n",
      "update data {22: '22 init', 33: 99}\n",
      "updated data {22: '202', 33: 99, ('qw', '77'): 'qwerty', '234': User[99]}\n",
      "data after: {22: '202', 33: 99, ('qw', '77'): 'qwerty', '234': User[99]}\n",
      "finish\n"
     ]
    }
   ],
   "source": [
    "class User:\n",
    "    def __init__(self, val):\n",
    "        self.val = val\n",
    "\n",
    "    def __repr__(self):\n",
    "        return f\"User[{self.val}]\"\n",
    "\n",
    "\n",
    "def update_data(data):\n",
    "    print(\"update data\", data)\n",
    "\n",
    "    data[22] = \"202\"\n",
    "    data[(\"qw\", \"77\")] = \"qwerty\"\n",
    "    data[\"234\"] = User(99)\n",
    "    \n",
    "    print(\"updated data\", data)\n",
    "\n",
    "\n",
    "with proc_ctx.Manager() as manager:\n",
    "    data = manager.dict()\n",
    "    data[22] = \"22 init\"\n",
    "    data[33] = 99\n",
    "    print(\"data before:\", data)\n",
    "    \n",
    "    proc = proc_ctx.Process(target=update_data, args=(data,))\n",
    "    proc.start()\n",
    "    proc.join()\n",
    "\n",
    "    print(\"data after:\", data)\n",
    "    data_bkp = dict(data)\n",
    "\n",
    "print(\"finish\")"
   ]
  },
  {
   "cell_type": "code",
   "execution_count": 29,
   "id": "652ace92-21b3-4588-b5a4-3bb037e4e124",
   "metadata": {},
   "outputs": [
    {
     "data": {
      "text/plain": [
       "99"
      ]
     },
     "execution_count": 29,
     "metadata": {},
     "output_type": "execute_result"
    }
   ],
   "source": [
    "data_bkp[\"234\"].val"
   ]
  },
  {
   "cell_type": "code",
   "execution_count": null,
   "id": "777b69dd-efaa-44b7-b1ae-7086e3b1bb55",
   "metadata": {},
   "outputs": [],
   "source": []
  },
  {
   "cell_type": "code",
   "execution_count": null,
   "id": "a9072b2d-09ae-449b-b328-0b60388d48fe",
   "metadata": {},
   "outputs": [],
   "source": []
  },
  {
   "cell_type": "code",
   "execution_count": 11,
   "id": "56dfc5b6-9a1d-4460-9c28-5daf8ada7c7d",
   "metadata": {},
   "outputs": [],
   "source": [
    "def server():\n",
    "    print(\"start server\")\n",
    "    with socket.socket(socket.AF_INET, socket.SOCK_STREAM) as sock:\n",
    "        sock.setsockopt(socket.SOL_SOCKET, socket.SO_REUSEADDR, 1)\n",
    "\n",
    "        sock.bind((\"localhost\", 15000))\n",
    "        sock.listen(5)\n",
    "\n",
    "        i = 5\n",
    "        while i > 0:\n",
    "            i -= 1\n",
    "\n",
    "            client_sock, client_addr = sock.accept()\n",
    "            print(\"server: conn from\", client_addr, client_sock)\n",
    "    \n",
    "            data = client_sock.recv(1024)\n",
    "            data = data.decode()\n",
    "            print(f\"server: recv {data=}\")\n",
    "    \n",
    "            client_sock.sendall(data.upper().encode())\n",
    "            print(\"server: finished client\", client_addr)\n",
    "\n",
    "    print(\"server: stop\")\n",
    "\n",
    "\n",
    "def client(data):\n",
    "    print(\"start client\")\n",
    "    with socket.socket(socket.AF_INET, socket.SOCK_STREAM) as sock:\n",
    "        sock.connect((\"localhost\", 15000))\n",
    "        \n",
    "        sock.sendall(data.encode())\n",
    "        print(\"client: recv data = \", sock.recv(1024).decode())\n",
    "\n",
    "    print(\"client: stop\")"
   ]
  },
  {
   "cell_type": "code",
   "execution_count": 3,
   "id": "0e678c09-9276-478b-9a23-af841f041bc1",
   "metadata": {},
   "outputs": [],
   "source": [
    "proc_ctx = mp.get_context(\"fork\")"
   ]
  },
  {
   "cell_type": "code",
   "execution_count": 12,
   "id": "5c980ddd-47bb-4e33-a292-571a225ecb03",
   "metadata": {},
   "outputs": [
    {
     "name": "stdout",
     "output_type": "stream",
     "text": [
      "start server\n",
      "server: conn from ('127.0.0.1', 53883) <socket.socket fd=36, family=2, type=1, proto=0, laddr=('127.0.0.1', 15000), raddr=('127.0.0.1', 53883)>\n",
      "server: recv data='Планета Земля'\n",
      "server: finished client ('127.0.0.1', 53883)\n",
      "server: conn from ('127.0.0.1', 53918) <socket.socket fd=48, family=2, type=1, proto=0, laddr=('127.0.0.1', 15000), raddr=('127.0.0.1', 53918)>\n",
      "server: recv data='Планета Марс'\n",
      "server: finished client ('127.0.0.1', 53918)\n",
      "server: conn from ('127.0.0.1', 53958) <socket.socket fd=36, family=2, type=1, proto=0, laddr=('127.0.0.1', 15000), raddr=('127.0.0.1', 53958)>\n",
      "server: recv data='Море'\n",
      "server: finished client ('127.0.0.1', 53958)\n",
      "server: conn from ('127.0.0.1', 53988) <socket.socket fd=48, family=2, type=1, proto=0, laddr=('127.0.0.1', 15000), raddr=('127.0.0.1', 53988)>\n",
      "server: recv data='Солнце'\n",
      "server: finished client ('127.0.0.1', 53988)\n",
      "server: conn from ('127.0.0.1', 54022) <socket.socket fd=36, family=2, type=1, proto=0, laddr=('127.0.0.1', 15000), raddr=('127.0.0.1', 54022)>\n",
      "server: recv data='Солнце 123'\n",
      "server: finished client ('127.0.0.1', 54022)\n",
      "server: stop\n"
     ]
    }
   ],
   "source": [
    "proc_server = proc_ctx.Process(target=server)\n",
    "proc_server.start()"
   ]
  },
  {
   "cell_type": "code",
   "execution_count": 13,
   "id": "4dc7eff4-6343-4053-827e-461b98442bdb",
   "metadata": {},
   "outputs": [
    {
     "data": {
      "text/plain": [
       "True"
      ]
     },
     "execution_count": 13,
     "metadata": {},
     "output_type": "execute_result"
    }
   ],
   "source": [
    "proc_server.is_alive()"
   ]
  },
  {
   "cell_type": "code",
   "execution_count": 14,
   "id": "68a086b1-14e2-4a5d-bdca-3ee25e64bfdd",
   "metadata": {},
   "outputs": [
    {
     "name": "stdout",
     "output_type": "stream",
     "text": [
      "start client\n",
      "client: recv data =  ПЛАНЕТА ЗЕМЛЯ\n",
      "client: stop\n"
     ]
    }
   ],
   "source": [
    "proc_client = proc_ctx.Process(target=client, args=(\"Планета Земля\",))\n",
    "proc_client.start()"
   ]
  },
  {
   "cell_type": "code",
   "execution_count": 15,
   "id": "786b3799-4b41-4e2a-b4a1-821a92c11fb6",
   "metadata": {},
   "outputs": [
    {
     "name": "stdout",
     "output_type": "stream",
     "text": [
      "start client\n",
      "client: recv data =  ПЛАНЕТА МАРС\n",
      "client: stop\n"
     ]
    }
   ],
   "source": [
    "proc_client = proc_ctx.Process(target=client, args=(\"Планета Марс\",))\n",
    "proc_client.start()"
   ]
  },
  {
   "cell_type": "code",
   "execution_count": 16,
   "id": "f74af743-7c02-4d46-847e-ba48b3c876c1",
   "metadata": {},
   "outputs": [
    {
     "name": "stdout",
     "output_type": "stream",
     "text": [
      "start client\n",
      "client: recv data =  МОРЕ\n",
      "client: stop\n"
     ]
    }
   ],
   "source": [
    "proc_client = proc_ctx.Process(target=client, args=(\"Море\",))\n",
    "proc_client.start()"
   ]
  },
  {
   "cell_type": "code",
   "execution_count": 17,
   "id": "a8a43d11-a1ab-499a-9a89-c79218f6221e",
   "metadata": {},
   "outputs": [
    {
     "name": "stdout",
     "output_type": "stream",
     "text": [
      "start client\n",
      "client: recv data =  СОЛНЦЕ\n",
      "client: stop\n"
     ]
    }
   ],
   "source": [
    "proc_client = proc_ctx.Process(target=client, args=(\"Солнце\",))\n",
    "proc_client.start()"
   ]
  },
  {
   "cell_type": "code",
   "execution_count": 18,
   "id": "da6c1daa-f073-4ba7-abc9-1ee22205ee3f",
   "metadata": {},
   "outputs": [
    {
     "name": "stdout",
     "output_type": "stream",
     "text": [
      "start client\n",
      "client: recv data =  СОЛНЦЕ 123\n",
      "client: stop\n"
     ]
    }
   ],
   "source": [
    "proc_client = proc_ctx.Process(target=client, args=(\"Солнце 123\",))\n",
    "proc_client.start()"
   ]
  },
  {
   "cell_type": "code",
   "execution_count": 19,
   "id": "587fb17e-79d3-4e2b-abc8-5ce652a263c3",
   "metadata": {},
   "outputs": [
    {
     "name": "stdout",
     "output_type": "stream",
     "text": [
      "start client\n"
     ]
    },
    {
     "name": "stderr",
     "output_type": "stream",
     "text": [
      "Process ForkProcess-11:\n",
      "Traceback (most recent call last):\n",
      "  File \"/Library/Frameworks/Python.framework/Versions/3.14/lib/python3.14/multiprocessing/process.py\", line 320, in _bootstrap\n",
      "    self.run()\n",
      "    ~~~~~~~~^^\n",
      "  File \"/Library/Frameworks/Python.framework/Versions/3.14/lib/python3.14/multiprocessing/process.py\", line 108, in run\n",
      "    self._target(*self._args, **self._kwargs)\n",
      "    ~~~~~~~~~~~~^^^^^^^^^^^^^^^^^^^^^^^^^^^^^\n",
      "  File \"/var/folders/j3/m947cq0j0fx8t0rrdzw5kmb00000gp/T/ipykernel_42456/763150226.py\", line 29, in client\n",
      "    sock.connect((\"localhost\", 15000))\n",
      "    ~~~~~~~~~~~~^^^^^^^^^^^^^^^^^^^^^^\n",
      "ConnectionRefusedError: [Errno 61] Connection refused\n"
     ]
    }
   ],
   "source": [
    "proc_client = proc_ctx.Process(target=client, args=(\"Солнце 123\",))\n",
    "proc_client.start()"
   ]
  },
  {
   "cell_type": "code",
   "execution_count": null,
   "id": "5db23689-e987-412d-81bb-0d1b570d7a83",
   "metadata": {},
   "outputs": [],
   "source": []
  },
  {
   "cell_type": "code",
   "execution_count": null,
   "id": "5eb50102-80b0-4303-adc2-18897c8cdf97",
   "metadata": {},
   "outputs": [],
   "source": []
  },
  {
   "cell_type": "code",
   "execution_count": null,
   "id": "01fc1ef9-c45c-4f7b-bc35-54319ad74584",
   "metadata": {},
   "outputs": [],
   "source": []
  },
  {
   "cell_type": "code",
   "execution_count": 23,
   "id": "e7c3978a-bb9e-4ac5-9949-51f8891f38bf",
   "metadata": {},
   "outputs": [],
   "source": [
    "import aiohttp"
   ]
  },
  {
   "cell_type": "code",
   "execution_count": 24,
   "id": "a28e3374-3726-4fa8-8164-216937e54460",
   "metadata": {},
   "outputs": [],
   "source": [
    "import asyncio\n",
    "import time"
   ]
  },
  {
   "cell_type": "code",
   "execution_count": 25,
   "id": "9c6436a9-05ba-4793-9c97-9529812d7066",
   "metadata": {},
   "outputs": [
    {
     "name": "stdout",
     "output_type": "stream",
     "text": [
      "started at 19:49:52\n",
      "hello\n",
      "world\n",
      "finished at 19:49:55\n",
      "TT 3.001940965652466\n"
     ]
    }
   ],
   "source": [
    "async def say_after(delay, what):\n",
    "    await asyncio.sleep(delay)\n",
    "    print(what)\n",
    "\n",
    "\n",
    "async def main():\n",
    "    print(f\"started at {time.strftime('%X')}\")\n",
    "    await say_after(1, 'hello')\n",
    "    await say_after(2, 'world')\n",
    "    print(f\"finished at {time.strftime('%X')}\")\n",
    "\n",
    "\n",
    "async def run():\n",
    "    t1 = time.time()\n",
    "    await main()\n",
    "    t2 = time.time()\n",
    "    print(\"TT\", t2 - t1)\n",
    "\n",
    "\n",
    "await run()"
   ]
  },
  {
   "cell_type": "code",
   "execution_count": 26,
   "id": "8d8d4cf4-f9aa-48af-9007-e796f41ef949",
   "metadata": {},
   "outputs": [
    {
     "data": {
      "text/plain": [
       "<coroutine object main at 0x10a7da500>"
      ]
     },
     "execution_count": 26,
     "metadata": {},
     "output_type": "execute_result"
    }
   ],
   "source": [
    "main()"
   ]
  },
  {
   "cell_type": "code",
   "execution_count": 27,
   "id": "e3e6e70d-76f1-4381-bf31-93206a0ae6b8",
   "metadata": {},
   "outputs": [
    {
     "name": "stdout",
     "output_type": "stream",
     "text": [
      "started at 19:51:47\n",
      "world\n",
      "hello\n",
      "finished at 19:51:50\n",
      "TT 3.002268075942993\n"
     ]
    }
   ],
   "source": [
    "async def say_after(delay, what):\n",
    "    await asyncio.sleep(delay)\n",
    "    print(what)\n",
    "\n",
    "\n",
    "async def main():\n",
    "    print(f\"started at {time.strftime('%X')}\")\n",
    "    say1 = say_after(1, 'hello')\n",
    "    await say_after(2, 'world')\n",
    "    await say1\n",
    "    print(f\"finished at {time.strftime('%X')}\")\n",
    "\n",
    "\n",
    "async def run():\n",
    "    t1 = time.time()\n",
    "    await main()\n",
    "    t2 = time.time()\n",
    "    print(\"TT\", t2 - t1)\n",
    "\n",
    "\n",
    "await run()"
   ]
  },
  {
   "cell_type": "code",
   "execution_count": null,
   "id": "b87ea64d-2308-4193-8fec-7e7dc3c3f861",
   "metadata": {},
   "outputs": [],
   "source": []
  },
  {
   "cell_type": "code",
   "execution_count": null,
   "id": "5f084c53-339a-48e1-a8a5-c452498443f9",
   "metadata": {},
   "outputs": [],
   "source": []
  },
  {
   "cell_type": "code",
   "execution_count": 28,
   "id": "1f26a75a-d509-47cf-a088-ed86186496d7",
   "metadata": {},
   "outputs": [
    {
     "name": "stdout",
     "output_type": "stream",
     "text": [
      "started at 19:54:12\n",
      "hello\n",
      "world\n",
      "finished at 19:54:14\n",
      "TT 2.001584053039551\n"
     ]
    }
   ],
   "source": [
    "async def say_after(delay, what):\n",
    "    await asyncio.sleep(delay)\n",
    "    print(what)\n",
    "\n",
    "\n",
    "async def main():\n",
    "    print(f\"started at {time.strftime('%X')}\")\n",
    "    say1 = asyncio.create_task(say_after(1, 'hello'))\n",
    "    await say_after(2, 'world')\n",
    "    await say1\n",
    "    print(f\"finished at {time.strftime('%X')}\")\n",
    "\n",
    "\n",
    "async def run():\n",
    "    t1 = time.time()\n",
    "    await main()\n",
    "    t2 = time.time()\n",
    "    print(\"TT\", t2 - t1)\n",
    "\n",
    "\n",
    "await run()"
   ]
  },
  {
   "cell_type": "code",
   "execution_count": 29,
   "id": "b49e52fa-b252-42bf-83a7-e2fb365df0a9",
   "metadata": {},
   "outputs": [
    {
     "name": "stdout",
     "output_type": "stream",
     "text": [
      "started at 19:55:45\n",
      "hello\n",
      "world\n",
      "finished at 19:55:47\n",
      "TT 2.0021049976348877\n"
     ]
    }
   ],
   "source": [
    "async def say_after(delay, what):\n",
    "    await asyncio.sleep(delay)\n",
    "    print(what)\n",
    "\n",
    "\n",
    "async def main():\n",
    "    print(f\"started at {time.strftime('%X')}\")\n",
    "    await asyncio.gather(say_after(1, 'hello'), say_after(2, 'world'))\n",
    "    print(f\"finished at {time.strftime('%X')}\")\n",
    "\n",
    "\n",
    "async def run():\n",
    "    t1 = time.time()\n",
    "    await main()\n",
    "    t2 = time.time()\n",
    "    print(\"TT\", t2 - t1)\n",
    "\n",
    "\n",
    "await run()"
   ]
  },
  {
   "cell_type": "code",
   "execution_count": 30,
   "id": "aadcdba6-5137-4e74-b710-53a06fdd8b57",
   "metadata": {},
   "outputs": [
    {
     "name": "stdout",
     "output_type": "stream",
     "text": [
      "started at 19:56:29\n",
      "hello\n",
      "world\n",
      "finished at 19:56:32\n",
      "TT 3.006443977355957\n"
     ]
    }
   ],
   "source": [
    "async def say_after(delay, what):\n",
    "    #await asyncio.sleep(delay)\n",
    "    time.sleep(delay)\n",
    "    print(what)\n",
    "\n",
    "\n",
    "async def main():\n",
    "    print(f\"started at {time.strftime('%X')}\")\n",
    "    await asyncio.gather(say_after(1, 'hello'), say_after(2, 'world'))\n",
    "    print(f\"finished at {time.strftime('%X')}\")\n",
    "\n",
    "\n",
    "async def run():\n",
    "    t1 = time.time()\n",
    "    await main()\n",
    "    t2 = time.time()\n",
    "    print(\"TT\", t2 - t1)\n",
    "\n",
    "\n",
    "await run()"
   ]
  },
  {
   "cell_type": "code",
   "execution_count": 32,
   "id": "eb2c74a8-6272-4149-8e48-1c550547053e",
   "metadata": {},
   "outputs": [
    {
     "name": "stdout",
     "output_type": "stream",
     "text": [
      "started at 19:58:38\n",
      "hello\n",
      "world\n",
      "finished at 19:58:40\n",
      "TT 2.0043439865112305\n"
     ]
    }
   ],
   "source": [
    "async def say_after(delay, what):\n",
    "    #await asyncio.sleep(delay)\n",
    "    await asyncio.to_thread(time.sleep, delay)\n",
    "    print(what)\n",
    "\n",
    "\n",
    "async def main():\n",
    "    print(f\"started at {time.strftime('%X')}\")\n",
    "    await asyncio.gather(say_after(1, 'hello'), say_after(2, 'world'))\n",
    "    print(f\"finished at {time.strftime('%X')}\")\n",
    "\n",
    "\n",
    "async def run():\n",
    "    t1 = time.time()\n",
    "    await main()\n",
    "    t2 = time.time()\n",
    "    print(\"TT\", t2 - t1)\n",
    "\n",
    "\n",
    "await run()"
   ]
  },
  {
   "cell_type": "code",
   "execution_count": null,
   "id": "9e3050cb-168a-45a7-a144-9ef9f2afa68f",
   "metadata": {},
   "outputs": [],
   "source": []
  },
  {
   "cell_type": "code",
   "execution_count": null,
   "id": "c9546a4e-4cea-4ca1-a52c-92495bc1f32a",
   "metadata": {},
   "outputs": [],
   "source": []
  },
  {
   "cell_type": "code",
   "execution_count": 40,
   "id": "7f9d9413-0509-4d7a-8e92-df2c8dac7876",
   "metadata": {},
   "outputs": [
    {
     "name": "stdout",
     "output_type": "stream",
     "text": [
      "TT 20.023504972457886\n"
     ]
    }
   ],
   "source": [
    "URL = \"https://docs.python.org/3/whatsnew/3.14.html\"\n",
    "URLS = [URL] * 20\n",
    "\n",
    "\n",
    "async def fetch_url(url, session):\n",
    "    await asyncio.sleep(1)\n",
    "    # async with session.get(url) as resp:\n",
    "    #     return await resp.text()\n",
    "\n",
    "\n",
    "async def fetch_batch_urls(urls):\n",
    "    async with aiohttp.ClientSession() as session:\n",
    "        tasks = [fetch_url(url, session) for url in urls]\n",
    "\n",
    "        for task in tasks:\n",
    "            await task\n",
    "\n",
    "\n",
    "async def run():\n",
    "    t1 = time.time()\n",
    "    await fetch_batch_urls(URLS)\n",
    "    t2 = time.time()\n",
    "    print(\"TT\", t2 - t1)\n",
    "\n",
    "\n",
    "await run()"
   ]
  },
  {
   "cell_type": "code",
   "execution_count": null,
   "id": "677bc957-71be-46dc-a73f-be0287bc6128",
   "metadata": {},
   "outputs": [],
   "source": []
  },
  {
   "cell_type": "code",
   "execution_count": 41,
   "id": "98e2501f-b689-4273-80f1-86100f396e22",
   "metadata": {},
   "outputs": [
    {
     "name": "stdout",
     "output_type": "stream",
     "text": [
      "TT 1.001899003982544\n"
     ]
    }
   ],
   "source": [
    "URL = \"https://docs.python.org/3/whatsnew/3.14.html\"\n",
    "URLS = [URL] * 20\n",
    "\n",
    "\n",
    "async def fetch_url(url, session):\n",
    "    await asyncio.sleep(1)\n",
    "    # async with session.get(url) as resp:\n",
    "    #     return await resp.text()\n",
    "\n",
    "\n",
    "async def fetch_batch_urls(urls):\n",
    "    async with aiohttp.ClientSession() as session:\n",
    "        tasks = [fetch_url(url, session) for url in urls]\n",
    "\n",
    "        await asyncio.gather(*tasks)\n",
    "\n",
    "\n",
    "async def run():\n",
    "    t1 = time.time()\n",
    "    await fetch_batch_urls(URLS)\n",
    "    t2 = time.time()\n",
    "    print(\"TT\", t2 - t1)\n",
    "\n",
    "\n",
    "await run()"
   ]
  },
  {
   "cell_type": "code",
   "execution_count": null,
   "id": "e319fd09-4437-4147-86e8-2f3bff18689d",
   "metadata": {},
   "outputs": [],
   "source": []
  },
  {
   "cell_type": "code",
   "execution_count": null,
   "id": "bfbe2ecd-8820-4b12-a095-d0e6596acc85",
   "metadata": {},
   "outputs": [],
   "source": []
  },
  {
   "cell_type": "code",
   "execution_count": null,
   "id": "467e9579-5216-4ba2-b50c-4aa8de52b997",
   "metadata": {},
   "outputs": [],
   "source": []
  },
  {
   "cell_type": "code",
   "execution_count": 45,
   "id": "f65e9a4c-3ecd-4673-956c-aa4318d59672",
   "metadata": {},
   "outputs": [
    {
     "name": "stdout",
     "output_type": "stream",
     "text": [
      "start worker='worker_0'\n",
      "start worker='worker_1'\n",
      "start worker='worker_2'\n",
      "start worker='worker_3'\n",
      "start worker='worker_4'\n",
      "finish worker='worker_0'\n",
      "finish worker='worker_1'\n",
      "finish worker='worker_2'\n",
      "finish worker='worker_3'\n",
      "finish worker='worker_4'\n",
      "TT 4.005888938903809\n"
     ]
    }
   ],
   "source": [
    "URL = \"https://docs.python.org/3/whatsnew/3.14.html\"\n",
    "URLS = [URL] * 20\n",
    "WORKERS = 5\n",
    "\n",
    "\n",
    "async def fetch_url(url, session):\n",
    "    await asyncio.sleep(1)\n",
    "    # async with session.get(url) as resp:\n",
    "    #     return await resp.text()\n",
    "\n",
    "\n",
    "async def fetch_worker(que, session, worker):\n",
    "    print(f\"start {worker=}\")\n",
    "    while True:\n",
    "        url = await que.get()\n",
    "        if url is None:\n",
    "            await que.put(url)\n",
    "            break\n",
    "\n",
    "        try:\n",
    "            await fetch_url(url, session)\n",
    "        except Exception:\n",
    "            pass\n",
    "\n",
    "    print(f\"finish {worker=}\")\n",
    "\n",
    "\n",
    "async def run():\n",
    "    t1 = time.time()\n",
    "\n",
    "    que = asyncio.Queue()\n",
    "    for url in URLS:\n",
    "        await que.put(url)\n",
    "    await que.put(None)\n",
    "\n",
    "    async with aiohttp.ClientSession() as session:\n",
    "        workers = [\n",
    "            asyncio.create_task(\n",
    "                fetch_worker(que, session, f\"worker_{i}\")\n",
    "            )\n",
    "            for i in range(WORKERS)\n",
    "        ]\n",
    "        for worker in workers:\n",
    "            await worker\n",
    "\n",
    "    t2 = time.time()\n",
    "    print(\"TT\", t2 - t1)\n",
    "\n",
    "\n",
    "await run()"
   ]
  },
  {
   "cell_type": "code",
   "execution_count": null,
   "id": "78327ae3-23d3-4829-9ec4-1757911e6249",
   "metadata": {},
   "outputs": [],
   "source": []
  },
  {
   "cell_type": "code",
   "execution_count": null,
   "id": "d6a36946-ab98-4cbb-a457-9e099d2ed57b",
   "metadata": {},
   "outputs": [],
   "source": []
  },
  {
   "cell_type": "code",
   "execution_count": null,
   "id": "79f76d7c-9de1-4ffe-914f-266bfea7c4af",
   "metadata": {},
   "outputs": [],
   "source": []
  },
  {
   "cell_type": "code",
   "execution_count": 46,
   "id": "3bc6906e-5246-4b43-a253-7f9a2c3bf01c",
   "metadata": {},
   "outputs": [
    {
     "name": "stdout",
     "output_type": "stream",
     "text": [
      "start worker='worker_0'\n",
      "start worker='worker_1'\n",
      "start worker='worker_2'\n",
      "start worker='worker_3'\n",
      "start worker='worker_4'\n",
      "TT 4.005237102508545\n"
     ]
    }
   ],
   "source": [
    "URL = \"https://docs.python.org/3/whatsnew/3.14.html\"\n",
    "URLS = [URL] * 20\n",
    "WORKERS = 5\n",
    "\n",
    "\n",
    "async def fetch_url(url, session):\n",
    "    await asyncio.sleep(1)\n",
    "    # async with session.get(url) as resp:\n",
    "    #     return await resp.text()\n",
    "\n",
    "\n",
    "async def fetch_worker(que, session, worker):\n",
    "    print(f\"start {worker=}\")\n",
    "    while True:\n",
    "        url = await que.get()\n",
    "\n",
    "        try:\n",
    "            await fetch_url(url, session)\n",
    "        except Exception:\n",
    "            pass\n",
    "        finally:\n",
    "            que.task_done()\n",
    "\n",
    "    print(f\"finish {worker=}\")\n",
    "\n",
    "\n",
    "async def run():\n",
    "    t1 = time.time()\n",
    "\n",
    "    que = asyncio.Queue()\n",
    "    for url in URLS:\n",
    "        await que.put(url)\n",
    "\n",
    "    async with aiohttp.ClientSession() as session:\n",
    "        workers = [\n",
    "            asyncio.create_task(\n",
    "                fetch_worker(que, session, f\"worker_{i}\")\n",
    "            )\n",
    "            for i in range(WORKERS)\n",
    "        ]\n",
    "        await que.join()\n",
    "\n",
    "        for worker in workers:\n",
    "            worker.cancel()\n",
    "\n",
    "    t2 = time.time()\n",
    "    print(\"TT\", t2 - t1)\n",
    "\n",
    "\n",
    "await run()"
   ]
  },
  {
   "cell_type": "code",
   "execution_count": null,
   "id": "37e93011-a8d0-412e-9326-6d865aa4756d",
   "metadata": {},
   "outputs": [],
   "source": []
  }
 ],
 "metadata": {
  "kernelspec": {
   "display_name": "Python 3 (ipykernel)",
   "language": "python",
   "name": "python3"
  },
  "language_info": {
   "codemirror_mode": {
    "name": "ipython",
    "version": 3
   },
   "file_extension": ".py",
   "mimetype": "text/x-python",
   "name": "python",
   "nbconvert_exporter": "python",
   "pygments_lexer": "ipython3",
   "version": "3.14.0"
  }
 },
 "nbformat": 4,
 "nbformat_minor": 5
}
