{
 "cells": [
  {
   "cell_type": "code",
   "execution_count": 1,
   "id": "8dbde4f9-ab87-4396-a99b-c171741df16b",
   "metadata": {},
   "outputs": [
    {
     "data": {
      "text/plain": [
       "{'__name__': '__main__',\n",
       " '__doc__': 'Automatically created module for IPython interactive environment',\n",
       " '__package__': None,\n",
       " '__loader__': None,\n",
       " '__spec__': None,\n",
       " '__builtin__': <module 'builtins' (built-in)>,\n",
       " '__builtins__': <module 'builtins' (built-in)>,\n",
       " '_ih': ['', 'globals()'],\n",
       " '_oh': {},\n",
       " '_dh': [PosixPath('/Users/g.kandaurov/projects/mipt_deep_python_autumn_2025/lesson-03')],\n",
       " 'In': ['', 'globals()'],\n",
       " 'Out': {},\n",
       " 'get_ipython': <bound method InteractiveShell.get_ipython of <ipykernel.zmqshell.ZMQInteractiveShell object at 0x1084d4050>>,\n",
       " 'exit': <IPython.core.autocall.ZMQExitAutocall at 0x1086192b0>,\n",
       " 'quit': <IPython.core.autocall.ZMQExitAutocall at 0x1086192b0>,\n",
       " 'open': <function _io.open(file, mode='r', buffering=-1, encoding=None, errors=None, newline=None, closefd=True, opener=None)>,\n",
       " '_': '',\n",
       " '__': '',\n",
       " '___': '',\n",
       " '__session__': '/Users/g.kandaurov/projects/mipt_deep_python_autumn_2025/lesson-03/Untitled.ipynb',\n",
       " '_i': '',\n",
       " '_ii': '',\n",
       " '_iii': '',\n",
       " '_i1': 'globals()'}"
      ]
     },
     "execution_count": 1,
     "metadata": {},
     "output_type": "execute_result"
    }
   ],
   "source": [
    "globals()"
   ]
  },
  {
   "cell_type": "code",
   "execution_count": 2,
   "id": "a019a9e4-ec55-4d98-bd04-e9ffa6e165d0",
   "metadata": {},
   "outputs": [
    {
     "data": {
      "text/plain": [
       "{'__name__': '__main__',\n",
       " '__doc__': 'Automatically created module for IPython interactive environment',\n",
       " '__package__': None,\n",
       " '__loader__': None,\n",
       " '__spec__': None,\n",
       " '__builtin__': <module 'builtins' (built-in)>,\n",
       " '__builtins__': <module 'builtins' (built-in)>,\n",
       " '_ih': ['', 'globals()', 'locals()'],\n",
       " '_oh': {1: {...}},\n",
       " '_dh': [PosixPath('/Users/g.kandaurov/projects/mipt_deep_python_autumn_2025/lesson-03')],\n",
       " 'In': ['', 'globals()', 'locals()'],\n",
       " 'Out': {1: {...}},\n",
       " 'get_ipython': <bound method InteractiveShell.get_ipython of <ipykernel.zmqshell.ZMQInteractiveShell object at 0x1084d4050>>,\n",
       " 'exit': <IPython.core.autocall.ZMQExitAutocall at 0x1086192b0>,\n",
       " 'quit': <IPython.core.autocall.ZMQExitAutocall at 0x1086192b0>,\n",
       " 'open': <function _io.open(file, mode='r', buffering=-1, encoding=None, errors=None, newline=None, closefd=True, opener=None)>,\n",
       " '_': {...},\n",
       " '__': '',\n",
       " '___': '',\n",
       " '__session__': '/Users/g.kandaurov/projects/mipt_deep_python_autumn_2025/lesson-03/Untitled.ipynb',\n",
       " '_i': 'globals()',\n",
       " '_ii': '',\n",
       " '_iii': '',\n",
       " '_i1': 'globals()',\n",
       " '_1': {...},\n",
       " '_i2': 'locals()'}"
      ]
     },
     "execution_count": 2,
     "metadata": {},
     "output_type": "execute_result"
    }
   ],
   "source": [
    "locals()"
   ]
  },
  {
   "cell_type": "code",
   "execution_count": 3,
   "id": "51c76e48-b84d-4908-bc27-8c57f32b4580",
   "metadata": {},
   "outputs": [
    {
     "data": {
      "text/plain": [
       "True"
      ]
     },
     "execution_count": 3,
     "metadata": {},
     "output_type": "execute_result"
    }
   ],
   "source": [
    "globals() is locals()"
   ]
  },
  {
   "cell_type": "code",
   "execution_count": 4,
   "id": "881649f0-a4f3-47dc-952a-014e73225ef2",
   "metadata": {},
   "outputs": [],
   "source": [
    "def update_global_var(name, val):\n",
    "    globals()[name] = val"
   ]
  },
  {
   "cell_type": "code",
   "execution_count": 5,
   "id": "6da544b8-1df5-4fbc-b488-583af8c7daf0",
   "metadata": {},
   "outputs": [
    {
     "ename": "NameError",
     "evalue": "name 'qwerty' is not defined",
     "output_type": "error",
     "traceback": [
      "\u001b[31m---------------------------------------------------------------------------\u001b[39m",
      "\u001b[31mNameError\u001b[39m                                 Traceback (most recent call last)",
      "\u001b[36mCell\u001b[39m\u001b[36m \u001b[39m\u001b[32mIn[5]\u001b[39m\u001b[32m, line 1\u001b[39m\n\u001b[32m----> \u001b[39m\u001b[32m1\u001b[39m \u001b[43mqwerty\u001b[49m\n",
      "\u001b[31mNameError\u001b[39m: name 'qwerty' is not defined"
     ]
    }
   ],
   "source": [
    "qwerty"
   ]
  },
  {
   "cell_type": "code",
   "execution_count": 6,
   "id": "3c90d7b0-5dde-466d-b12a-f86689e94b59",
   "metadata": {},
   "outputs": [],
   "source": [
    "update_global_var(\"qwerty\", 123)"
   ]
  },
  {
   "cell_type": "code",
   "execution_count": 7,
   "id": "fe4a7d39-07f1-4c60-87ee-fdaf11f1a9bd",
   "metadata": {},
   "outputs": [
    {
     "data": {
      "text/plain": [
       "123"
      ]
     },
     "execution_count": 7,
     "metadata": {},
     "output_type": "execute_result"
    }
   ],
   "source": [
    "qwerty"
   ]
  },
  {
   "cell_type": "code",
   "execution_count": 8,
   "id": "64944175-ae9e-4be5-996a-804405a83d24",
   "metadata": {},
   "outputs": [],
   "source": [
    "update_global_var(\"@@qwe\", 999)"
   ]
  },
  {
   "cell_type": "code",
   "execution_count": 9,
   "id": "76e1e320-2173-48eb-bf48-9db9a23c56c8",
   "metadata": {},
   "outputs": [
    {
     "ename": "SyntaxError",
     "evalue": "invalid syntax (1415767612.py, line 1)",
     "output_type": "error",
     "traceback": [
      "  \u001b[36mCell\u001b[39m\u001b[36m \u001b[39m\u001b[32mIn[9]\u001b[39m\u001b[32m, line 1\u001b[39m\n\u001b[31m    \u001b[39m\u001b[31m@@qwe\u001b[39m\n     ^\n\u001b[31mSyntaxError\u001b[39m\u001b[31m:\u001b[39m invalid syntax\n"
     ]
    }
   ],
   "source": [
    "@@qwe"
   ]
  },
  {
   "cell_type": "code",
   "execution_count": 10,
   "id": "4bd45ddb-8f58-48c6-bb4a-d2f60a6d8a07",
   "metadata": {},
   "outputs": [
    {
     "data": {
      "text/plain": [
       "999"
      ]
     },
     "execution_count": 10,
     "metadata": {},
     "output_type": "execute_result"
    }
   ],
   "source": [
    "globals()[\"@@qwe\"]"
   ]
  },
  {
   "cell_type": "code",
   "execution_count": null,
   "id": "3c85cd4a-7d23-45cf-affd-724dee2f785e",
   "metadata": {},
   "outputs": [],
   "source": []
  },
  {
   "cell_type": "code",
   "execution_count": 11,
   "id": "d3ad1b5d-6285-4f98-987f-ff9ffaba2790",
   "metadata": {},
   "outputs": [],
   "source": [
    "def update_default(a, x=[]):\n",
    "    x.append(a)\n",
    "    return x"
   ]
  },
  {
   "cell_type": "code",
   "execution_count": 12,
   "id": "0a876ab8-2fa3-41d4-8d9d-92fc09103e00",
   "metadata": {},
   "outputs": [
    {
     "data": {
      "text/plain": [
       "([],)"
      ]
     },
     "execution_count": 12,
     "metadata": {},
     "output_type": "execute_result"
    }
   ],
   "source": [
    "update_default.__defaults__"
   ]
  },
  {
   "cell_type": "code",
   "execution_count": 13,
   "id": "7e93e6ca-5b20-4911-8fea-c485d39941c0",
   "metadata": {},
   "outputs": [],
   "source": [
    "update_default.__defaults__[0].append(99)"
   ]
  },
  {
   "cell_type": "code",
   "execution_count": 14,
   "id": "f9c5d24a-015e-477e-99e8-3a152799460d",
   "metadata": {},
   "outputs": [
    {
     "data": {
      "text/plain": [
       "[99, 1]"
      ]
     },
     "execution_count": 14,
     "metadata": {},
     "output_type": "execute_result"
    }
   ],
   "source": [
    "update_default(1)"
   ]
  },
  {
   "cell_type": "code",
   "execution_count": 15,
   "id": "9de856e3-b41f-4724-8b6c-05c1970199e8",
   "metadata": {},
   "outputs": [
    {
     "ename": "TypeError",
     "evalue": "'tuple' object does not support item assignment",
     "output_type": "error",
     "traceback": [
      "\u001b[31m---------------------------------------------------------------------------\u001b[39m",
      "\u001b[31mTypeError\u001b[39m                                 Traceback (most recent call last)",
      "\u001b[36mCell\u001b[39m\u001b[36m \u001b[39m\u001b[32mIn[15]\u001b[39m\u001b[32m, line 1\u001b[39m\n\u001b[32m----> \u001b[39m\u001b[32m1\u001b[39m \u001b[43mupdate_default\u001b[49m\u001b[43m.\u001b[49m\u001b[34;43m__defaults__\u001b[39;49m\u001b[43m[\u001b[49m\u001b[32;43m0\u001b[39;49m\u001b[43m]\u001b[49m = [\u001b[32m1\u001b[39m, \u001b[32m2\u001b[39m, \u001b[32m3\u001b[39m]\n",
      "\u001b[31mTypeError\u001b[39m: 'tuple' object does not support item assignment"
     ]
    }
   ],
   "source": [
    "update_default.__defaults__[0] = [1, 2, 3]"
   ]
  },
  {
   "cell_type": "code",
   "execution_count": 16,
   "id": "377b2cdf-47a2-43e8-97fe-e3efe1ebf365",
   "metadata": {},
   "outputs": [],
   "source": [
    "update_default.__defaults__ = ([1, 2, 3],)"
   ]
  },
  {
   "cell_type": "code",
   "execution_count": 17,
   "id": "6b841f6c-4e29-4f78-bc81-f2c4b8e2898d",
   "metadata": {},
   "outputs": [
    {
     "data": {
      "text/plain": [
       "[1, 2, 3, 99]"
      ]
     },
     "execution_count": 17,
     "metadata": {},
     "output_type": "execute_result"
    }
   ],
   "source": [
    "update_default(99)"
   ]
  },
  {
   "cell_type": "code",
   "execution_count": 18,
   "id": "c19b592d-6f88-4b12-9fe1-65292de1ea94",
   "metadata": {},
   "outputs": [],
   "source": [
    "update_default.__defaults__ = (\"123\",)"
   ]
  },
  {
   "cell_type": "code",
   "execution_count": 19,
   "id": "fe407bda-1c82-48db-8d5d-002c7db10753",
   "metadata": {},
   "outputs": [
    {
     "ename": "AttributeError",
     "evalue": "'str' object has no attribute 'append'",
     "output_type": "error",
     "traceback": [
      "\u001b[31m---------------------------------------------------------------------------\u001b[39m",
      "\u001b[31mAttributeError\u001b[39m                            Traceback (most recent call last)",
      "\u001b[36mCell\u001b[39m\u001b[36m \u001b[39m\u001b[32mIn[19]\u001b[39m\u001b[32m, line 1\u001b[39m\n\u001b[32m----> \u001b[39m\u001b[32m1\u001b[39m \u001b[43mupdate_default\u001b[49m\u001b[43m(\u001b[49m\u001b[32;43m99\u001b[39;49m\u001b[43m)\u001b[49m\n",
      "\u001b[36mCell\u001b[39m\u001b[36m \u001b[39m\u001b[32mIn[11]\u001b[39m\u001b[32m, line 2\u001b[39m, in \u001b[36mupdate_default\u001b[39m\u001b[34m(a, x)\u001b[39m\n\u001b[32m      1\u001b[39m \u001b[38;5;28;01mdef\u001b[39;00m\u001b[38;5;250m \u001b[39m\u001b[34mupdate_default\u001b[39m(a, x=[]):\n\u001b[32m----> \u001b[39m\u001b[32m2\u001b[39m     \u001b[43mx\u001b[49m\u001b[43m.\u001b[49m\u001b[43mappend\u001b[49m(a)\n\u001b[32m      3\u001b[39m     \u001b[38;5;28;01mreturn\u001b[39;00m x\n",
      "\u001b[31mAttributeError\u001b[39m: 'str' object has no attribute 'append'"
     ]
    }
   ],
   "source": [
    "update_default(99)"
   ]
  },
  {
   "cell_type": "code",
   "execution_count": null,
   "id": "a3915d38-0466-43c3-a9b2-0e013fde978c",
   "metadata": {},
   "outputs": [],
   "source": []
  },
  {
   "cell_type": "code",
   "execution_count": null,
   "id": "c56f27ec-b86b-427f-9d36-7ddd5fb92d55",
   "metadata": {},
   "outputs": [],
   "source": []
  },
  {
   "cell_type": "code",
   "execution_count": 20,
   "id": "ac6441d8-e740-4303-87ee-fe90648a9868",
   "metadata": {},
   "outputs": [
    {
     "name": "stdout",
     "output_type": "stream",
     "text": [
      "before counter=0\n"
     ]
    },
    {
     "ename": "UnboundLocalError",
     "evalue": "cannot access local variable 'counter' where it is not associated with a value",
     "output_type": "error",
     "traceback": [
      "\u001b[31m---------------------------------------------------------------------------\u001b[39m",
      "\u001b[31mUnboundLocalError\u001b[39m                         Traceback (most recent call last)",
      "\u001b[36mCell\u001b[39m\u001b[36m \u001b[39m\u001b[32mIn[20]\u001b[39m\u001b[32m, line 9\u001b[39m\n\u001b[32m      5\u001b[39m     \u001b[38;5;28mprint\u001b[39m(\u001b[33mf\u001b[39m\u001b[33m\"\u001b[39m\u001b[33mcalc \u001b[39m\u001b[38;5;132;01m{\u001b[39;00mcounter\u001b[38;5;132;01m=}\u001b[39;00m\u001b[33m, \u001b[39m\u001b[38;5;132;01m{\u001b[39;00m\u001b[38;5;28mlocals\u001b[39m()\u001b[38;5;132;01m=}\u001b[39;00m\u001b[33m\"\u001b[39m)\n\u001b[32m      7\u001b[39m \u001b[38;5;28mprint\u001b[39m(\u001b[33mf\u001b[39m\u001b[33m\"\u001b[39m\u001b[33mbefore \u001b[39m\u001b[38;5;132;01m{\u001b[39;00mcounter\u001b[38;5;132;01m=}\u001b[39;00m\u001b[33m\"\u001b[39m)\n\u001b[32m----> \u001b[39m\u001b[32m9\u001b[39m \u001b[43mcalc\u001b[49m\u001b[43m(\u001b[49m\u001b[43m)\u001b[49m\n\u001b[32m     11\u001b[39m \u001b[38;5;28mprint\u001b[39m(\u001b[33mf\u001b[39m\u001b[33m\"\u001b[39m\u001b[33mafter  \u001b[39m\u001b[38;5;132;01m{\u001b[39;00mcounter\u001b[38;5;132;01m=}\u001b[39;00m\u001b[33m\"\u001b[39m)\n",
      "\u001b[36mCell\u001b[39m\u001b[36m \u001b[39m\u001b[32mIn[20]\u001b[39m\u001b[32m, line 4\u001b[39m, in \u001b[36mcalc\u001b[39m\u001b[34m()\u001b[39m\n\u001b[32m      3\u001b[39m \u001b[38;5;28;01mdef\u001b[39;00m\u001b[38;5;250m \u001b[39m\u001b[34mcalc\u001b[39m():\n\u001b[32m----> \u001b[39m\u001b[32m4\u001b[39m     \u001b[43mcounter\u001b[49m += \u001b[32m1\u001b[39m\n\u001b[32m      5\u001b[39m     \u001b[38;5;28mprint\u001b[39m(\u001b[33mf\u001b[39m\u001b[33m\"\u001b[39m\u001b[33mcalc \u001b[39m\u001b[38;5;132;01m{\u001b[39;00mcounter\u001b[38;5;132;01m=}\u001b[39;00m\u001b[33m, \u001b[39m\u001b[38;5;132;01m{\u001b[39;00m\u001b[38;5;28mlocals\u001b[39m()\u001b[38;5;132;01m=}\u001b[39;00m\u001b[33m\"\u001b[39m)\n",
      "\u001b[31mUnboundLocalError\u001b[39m: cannot access local variable 'counter' where it is not associated with a value"
     ]
    }
   ],
   "source": [
    "counter = 0\n",
    "\n",
    "def calc():\n",
    "    counter += 1\n",
    "    print(f\"calc {counter=}, {locals()=}\")\n",
    "\n",
    "print(f\"before {counter=}\")\n",
    "\n",
    "calc()\n",
    "\n",
    "print(f\"after  {counter=}\")"
   ]
  },
  {
   "cell_type": "code",
   "execution_count": 21,
   "id": "0559fbe2-8425-4dba-9658-e595cbee7391",
   "metadata": {},
   "outputs": [
    {
     "name": "stdout",
     "output_type": "stream",
     "text": [
      "before counter=0\n",
      "calc counter=0, locals()={}\n",
      "after  counter=0\n"
     ]
    }
   ],
   "source": [
    "counter = 0\n",
    "\n",
    "def calc():\n",
    "    print(f\"calc {counter=}, {locals()=}\")\n",
    "\n",
    "print(f\"before {counter=}\")\n",
    "\n",
    "calc()\n",
    "\n",
    "print(f\"after  {counter=}\")"
   ]
  },
  {
   "cell_type": "code",
   "execution_count": 22,
   "id": "15236f4b-7023-490e-a061-d208efa2b403",
   "metadata": {},
   "outputs": [
    {
     "name": "stdout",
     "output_type": "stream",
     "text": [
      "before counter=0\n"
     ]
    },
    {
     "ename": "UnboundLocalError",
     "evalue": "cannot access local variable 'counter' where it is not associated with a value",
     "output_type": "error",
     "traceback": [
      "\u001b[31m---------------------------------------------------------------------------\u001b[39m",
      "\u001b[31mUnboundLocalError\u001b[39m                         Traceback (most recent call last)",
      "\u001b[36mCell\u001b[39m\u001b[36m \u001b[39m\u001b[32mIn[22]\u001b[39m\u001b[32m, line 9\u001b[39m\n\u001b[32m      5\u001b[39m     \u001b[38;5;28mprint\u001b[39m(\u001b[33mf\u001b[39m\u001b[33m\"\u001b[39m\u001b[33mcalc \u001b[39m\u001b[38;5;132;01m{\u001b[39;00mcounter\u001b[38;5;132;01m=}\u001b[39;00m\u001b[33m, \u001b[39m\u001b[38;5;132;01m{\u001b[39;00m\u001b[38;5;28mlocals\u001b[39m()\u001b[38;5;132;01m=}\u001b[39;00m\u001b[33m\"\u001b[39m)\n\u001b[32m      7\u001b[39m \u001b[38;5;28mprint\u001b[39m(\u001b[33mf\u001b[39m\u001b[33m\"\u001b[39m\u001b[33mbefore \u001b[39m\u001b[38;5;132;01m{\u001b[39;00mcounter\u001b[38;5;132;01m=}\u001b[39;00m\u001b[33m\"\u001b[39m)\n\u001b[32m----> \u001b[39m\u001b[32m9\u001b[39m \u001b[43mcalc\u001b[49m\u001b[43m(\u001b[49m\u001b[43m)\u001b[49m\n\u001b[32m     11\u001b[39m \u001b[38;5;28mprint\u001b[39m(\u001b[33mf\u001b[39m\u001b[33m\"\u001b[39m\u001b[33mafter  \u001b[39m\u001b[38;5;132;01m{\u001b[39;00mcounter\u001b[38;5;132;01m=}\u001b[39;00m\u001b[33m\"\u001b[39m)\n",
      "\u001b[36mCell\u001b[39m\u001b[36m \u001b[39m\u001b[32mIn[22]\u001b[39m\u001b[32m, line 4\u001b[39m, in \u001b[36mcalc\u001b[39m\u001b[34m()\u001b[39m\n\u001b[32m      3\u001b[39m \u001b[38;5;28;01mdef\u001b[39;00m\u001b[38;5;250m \u001b[39m\u001b[34mcalc\u001b[39m():\n\u001b[32m----> \u001b[39m\u001b[32m4\u001b[39m     counter = \u001b[43mcounter\u001b[49m + \u001b[32m1\u001b[39m\n\u001b[32m      5\u001b[39m     \u001b[38;5;28mprint\u001b[39m(\u001b[33mf\u001b[39m\u001b[33m\"\u001b[39m\u001b[33mcalc \u001b[39m\u001b[38;5;132;01m{\u001b[39;00mcounter\u001b[38;5;132;01m=}\u001b[39;00m\u001b[33m, \u001b[39m\u001b[38;5;132;01m{\u001b[39;00m\u001b[38;5;28mlocals\u001b[39m()\u001b[38;5;132;01m=}\u001b[39;00m\u001b[33m\"\u001b[39m)\n",
      "\u001b[31mUnboundLocalError\u001b[39m: cannot access local variable 'counter' where it is not associated with a value"
     ]
    }
   ],
   "source": [
    "counter = 0\n",
    "\n",
    "def calc():\n",
    "    counter = counter + 1\n",
    "    print(f\"calc {counter=}, {locals()=}\")\n",
    "\n",
    "print(f\"before {counter=}\")\n",
    "\n",
    "calc()\n",
    "\n",
    "print(f\"after  {counter=}\")"
   ]
  },
  {
   "cell_type": "code",
   "execution_count": 23,
   "id": "ba332ad3-be32-4e9d-b948-784a9f2ea23b",
   "metadata": {},
   "outputs": [
    {
     "ename": "SyntaxError",
     "evalue": "no binding for nonlocal 'counter' found (833169264.py, line 4)",
     "output_type": "error",
     "traceback": [
      "  \u001b[36mCell\u001b[39m\u001b[36m \u001b[39m\u001b[32mIn[23]\u001b[39m\u001b[32m, line 4\u001b[39m\n\u001b[31m    \u001b[39m\u001b[31mnonlocal counter\u001b[39m\n    ^\n\u001b[31mSyntaxError\u001b[39m\u001b[31m:\u001b[39m no binding for nonlocal 'counter' found\n"
     ]
    }
   ],
   "source": [
    "counter = 0\n",
    "\n",
    "def calc():\n",
    "    nonlocal counter\n",
    "    counter = counter + 1\n",
    "    print(f\"calc {counter=}, {locals()=}\")\n",
    "\n",
    "print(f\"before {counter=}\")\n",
    "\n",
    "calc()\n",
    "\n",
    "print(f\"after  {counter=}\")"
   ]
  },
  {
   "cell_type": "code",
   "execution_count": 24,
   "id": "ec2e8c40-1c3b-4ee8-98eb-e23df009cbfc",
   "metadata": {},
   "outputs": [
    {
     "name": "stdout",
     "output_type": "stream",
     "text": [
      "before counter=0\n",
      "calc counter=1, locals()={}\n",
      "after  counter=1\n"
     ]
    }
   ],
   "source": [
    "counter = 0\n",
    "\n",
    "def calc():\n",
    "    global counter\n",
    "    counter += 1\n",
    "    print(f\"calc {counter=}, {locals()=}\")\n",
    "\n",
    "print(f\"before {counter=}\")\n",
    "\n",
    "calc()\n",
    "\n",
    "print(f\"after  {counter=}\")"
   ]
  },
  {
   "cell_type": "code",
   "execution_count": 25,
   "id": "41cae7b7-fa6b-41f8-a9aa-ee06eb28331a",
   "metadata": {},
   "outputs": [
    {
     "name": "stdout",
     "output_type": "stream",
     "text": [
      "before counter=0\n",
      "calc counter=1, locals()={'counter': 1}\n",
      "after  counter=0\n"
     ]
    }
   ],
   "source": [
    "counter = 0\n",
    "\n",
    "def calc():\n",
    "    counter = 0\n",
    "    counter += 1\n",
    "    print(f\"calc {counter=}, {locals()=}\")\n",
    "\n",
    "print(f\"before {counter=}\")\n",
    "\n",
    "calc()\n",
    "\n",
    "print(f\"after  {counter=}\")"
   ]
  },
  {
   "cell_type": "code",
   "execution_count": null,
   "id": "1aa20802-3376-42d7-a438-3b19e39fb4de",
   "metadata": {},
   "outputs": [],
   "source": []
  },
  {
   "cell_type": "code",
   "execution_count": null,
   "id": "41ba797c-7dc2-4765-be55-d8029313f9f2",
   "metadata": {},
   "outputs": [],
   "source": []
  },
  {
   "cell_type": "code",
   "execution_count": null,
   "id": "d7b6337b-00a9-4fa1-868c-10f7f3274e80",
   "metadata": {},
   "outputs": [],
   "source": []
  },
  {
   "cell_type": "code",
   "execution_count": null,
   "id": "10c684fc-7032-4685-aea7-dc00412f59f7",
   "metadata": {},
   "outputs": [],
   "source": []
  },
  {
   "cell_type": "code",
   "execution_count": 26,
   "id": "4f498edd-28c7-4e64-a5de-84d9e8957f50",
   "metadata": {},
   "outputs": [
    {
     "name": "stdout",
     "output_type": "stream",
     "text": [
      "calc before counter=0, locals()={'counter': 0}\n",
      "inner counter=0, locals()={'counter': 0}\n",
      "calc after  counter=0, locals()={'inner': <function calc.<locals>.inner at 0x10935e340>, 'counter': 0}\n"
     ]
    }
   ],
   "source": [
    "def calc():\n",
    "    counter = 0\n",
    "    print(f\"calc before {counter=}, {locals()=}\")\n",
    "\n",
    "    def inner():\n",
    "        print(f\"inner {counter=}, {locals()=}\")\n",
    "\n",
    "    inner()\n",
    "    print(f\"calc after  {counter=}, {locals()=}\")\n",
    "\n",
    "\n",
    "calc()"
   ]
  },
  {
   "cell_type": "code",
   "execution_count": 27,
   "id": "afb6fcb9-06c0-40b4-a124-1ae5e9a54530",
   "metadata": {},
   "outputs": [
    {
     "name": "stdout",
     "output_type": "stream",
     "text": [
      "calc before counter=0, locals()={'counter': 0}\n"
     ]
    },
    {
     "ename": "UnboundLocalError",
     "evalue": "cannot access local variable 'counter' where it is not associated with a value",
     "output_type": "error",
     "traceback": [
      "\u001b[31m---------------------------------------------------------------------------\u001b[39m",
      "\u001b[31mUnboundLocalError\u001b[39m                         Traceback (most recent call last)",
      "\u001b[36mCell\u001b[39m\u001b[36m \u001b[39m\u001b[32mIn[27]\u001b[39m\u001b[32m, line 13\u001b[39m\n\u001b[32m      9\u001b[39m     inner()\n\u001b[32m     10\u001b[39m     \u001b[38;5;28mprint\u001b[39m(\u001b[33mf\u001b[39m\u001b[33m\"\u001b[39m\u001b[33mcalc after  \u001b[39m\u001b[38;5;132;01m{\u001b[39;00mcounter\u001b[38;5;132;01m=}\u001b[39;00m\u001b[33m, \u001b[39m\u001b[38;5;132;01m{\u001b[39;00m\u001b[38;5;28mlocals\u001b[39m()\u001b[38;5;132;01m=}\u001b[39;00m\u001b[33m\"\u001b[39m)\n\u001b[32m---> \u001b[39m\u001b[32m13\u001b[39m \u001b[43mcalc\u001b[49m\u001b[43m(\u001b[49m\u001b[43m)\u001b[49m\n",
      "\u001b[36mCell\u001b[39m\u001b[36m \u001b[39m\u001b[32mIn[27]\u001b[39m\u001b[32m, line 9\u001b[39m, in \u001b[36mcalc\u001b[39m\u001b[34m()\u001b[39m\n\u001b[32m      6\u001b[39m     counter += \u001b[32m1\u001b[39m\n\u001b[32m      7\u001b[39m     \u001b[38;5;28mprint\u001b[39m(\u001b[33mf\u001b[39m\u001b[33m\"\u001b[39m\u001b[33minner \u001b[39m\u001b[38;5;132;01m{\u001b[39;00mcounter\u001b[38;5;132;01m=}\u001b[39;00m\u001b[33m, \u001b[39m\u001b[38;5;132;01m{\u001b[39;00m\u001b[38;5;28mlocals\u001b[39m()\u001b[38;5;132;01m=}\u001b[39;00m\u001b[33m\"\u001b[39m)\n\u001b[32m----> \u001b[39m\u001b[32m9\u001b[39m \u001b[43minner\u001b[49m\u001b[43m(\u001b[49m\u001b[43m)\u001b[49m\n\u001b[32m     10\u001b[39m \u001b[38;5;28mprint\u001b[39m(\u001b[33mf\u001b[39m\u001b[33m\"\u001b[39m\u001b[33mcalc after  \u001b[39m\u001b[38;5;132;01m{\u001b[39;00mcounter\u001b[38;5;132;01m=}\u001b[39;00m\u001b[33m, \u001b[39m\u001b[38;5;132;01m{\u001b[39;00m\u001b[38;5;28mlocals\u001b[39m()\u001b[38;5;132;01m=}\u001b[39;00m\u001b[33m\"\u001b[39m)\n",
      "\u001b[36mCell\u001b[39m\u001b[36m \u001b[39m\u001b[32mIn[27]\u001b[39m\u001b[32m, line 6\u001b[39m, in \u001b[36mcalc.<locals>.inner\u001b[39m\u001b[34m()\u001b[39m\n\u001b[32m      5\u001b[39m \u001b[38;5;28;01mdef\u001b[39;00m\u001b[38;5;250m \u001b[39m\u001b[34minner\u001b[39m():\n\u001b[32m----> \u001b[39m\u001b[32m6\u001b[39m     \u001b[43mcounter\u001b[49m += \u001b[32m1\u001b[39m\n\u001b[32m      7\u001b[39m     \u001b[38;5;28mprint\u001b[39m(\u001b[33mf\u001b[39m\u001b[33m\"\u001b[39m\u001b[33minner \u001b[39m\u001b[38;5;132;01m{\u001b[39;00mcounter\u001b[38;5;132;01m=}\u001b[39;00m\u001b[33m, \u001b[39m\u001b[38;5;132;01m{\u001b[39;00m\u001b[38;5;28mlocals\u001b[39m()\u001b[38;5;132;01m=}\u001b[39;00m\u001b[33m\"\u001b[39m)\n",
      "\u001b[31mUnboundLocalError\u001b[39m: cannot access local variable 'counter' where it is not associated with a value"
     ]
    }
   ],
   "source": [
    "def calc():\n",
    "    counter = 0\n",
    "    print(f\"calc before {counter=}, {locals()=}\")\n",
    "\n",
    "    def inner():\n",
    "        counter += 1\n",
    "        print(f\"inner {counter=}, {locals()=}\")\n",
    "\n",
    "    inner()\n",
    "    print(f\"calc after  {counter=}, {locals()=}\")\n",
    "\n",
    "\n",
    "calc()"
   ]
  },
  {
   "cell_type": "code",
   "execution_count": 28,
   "id": "79cf27ab-dde8-414a-b562-79c7eca53372",
   "metadata": {},
   "outputs": [
    {
     "name": "stdout",
     "output_type": "stream",
     "text": [
      "calc before counter=0, locals()={'counter': 0}\n",
      "inner counter=100, locals()={'counter': 100}\n",
      "calc after  counter=0, locals()={'counter': 0, 'inner': <function calc.<locals>.inner at 0x108797ec0>}\n"
     ]
    }
   ],
   "source": [
    "def calc():\n",
    "    counter = 0\n",
    "    print(f\"calc before {counter=}, {locals()=}\")\n",
    "\n",
    "    def inner():\n",
    "        counter = 99\n",
    "        counter += 1\n",
    "        print(f\"inner {counter=}, {locals()=}\")\n",
    "\n",
    "    inner()\n",
    "    print(f\"calc after  {counter=}, {locals()=}\")\n",
    "\n",
    "\n",
    "calc()"
   ]
  },
  {
   "cell_type": "code",
   "execution_count": 29,
   "id": "ec70b932-d0e1-404e-bbed-b5cc9193c711",
   "metadata": {},
   "outputs": [
    {
     "name": "stdout",
     "output_type": "stream",
     "text": [
      "calc before counter=0, locals()={'counter': 0}\n",
      "inner counter=1, locals()={'counter': 1}\n",
      "calc after  counter=1, locals()={'inner': <function calc.<locals>.inner at 0x10935e3e0>, 'counter': 1}\n"
     ]
    }
   ],
   "source": [
    "def calc():\n",
    "    counter = 0\n",
    "    print(f\"calc before {counter=}, {locals()=}\")\n",
    "\n",
    "    def inner():\n",
    "        nonlocal counter\n",
    "        counter += 1\n",
    "        print(f\"inner {counter=}, {locals()=}\")\n",
    "\n",
    "    inner()\n",
    "    print(f\"calc after  {counter=}, {locals()=}\")\n",
    "\n",
    "\n",
    "calc()"
   ]
  },
  {
   "cell_type": "code",
   "execution_count": 31,
   "id": "7f4784b3-6906-4fef-8e68-91d2b6ffd9a3",
   "metadata": {},
   "outputs": [
    {
     "name": "stdout",
     "output_type": "stream",
     "text": [
      "calc before counter=[], locals()={'counter': []}\n",
      "inner counter=[1], locals()={'counter': [1]}\n",
      "calc after  counter=[1], locals()={'inner': <function calc.<locals>.inner at 0x1093e2a20>, 'counter': [1]}\n",
      "[99]\n"
     ]
    }
   ],
   "source": [
    "glob_counter = []\n",
    "\n",
    "def calc():\n",
    "    counter = []\n",
    "    print(f\"calc before {counter=}, {locals()=}\")\n",
    "\n",
    "    def inner():\n",
    "        counter.append(1)\n",
    "        glob_counter.append(99)\n",
    "\n",
    "        print(f\"inner {counter=}, {locals()=}\")\n",
    "\n",
    "    inner()\n",
    "    print(f\"calc after  {counter=}, {locals()=}\")\n",
    "\n",
    "\n",
    "calc()\n",
    "print(f\"{glob_counter}\")"
   ]
  },
  {
   "cell_type": "code",
   "execution_count": null,
   "id": "3bb3dd06-2632-42f9-aa5f-dcfbba5bb622",
   "metadata": {},
   "outputs": [],
   "source": []
  },
  {
   "cell_type": "code",
   "execution_count": null,
   "id": "748cf57a-c25a-4d34-8dab-dd727ebce4b3",
   "metadata": {},
   "outputs": [],
   "source": []
  },
  {
   "cell_type": "code",
   "execution_count": null,
   "id": "b40706ed-5c16-46de-b6ba-0fcedcfaceec",
   "metadata": {},
   "outputs": [],
   "source": []
  },
  {
   "cell_type": "code",
   "execution_count": 71,
   "id": "0a825be4-85ce-4526-9750-661d05d6211d",
   "metadata": {},
   "outputs": [],
   "source": [
    "class ClassAttr:\n",
    "    name = \"cls_name\"\n",
    "    __cls_private = \"cls_private\"\n",
    "\n",
    "    __custom_name__ = 12  # not recommend\n",
    "\n",
    "    def __custom_init__(self, val):  # not recommend\n",
    "        pass\n",
    "\n",
    "    def __init__(self, val):\n",
    "        self.val = val\n",
    "        self._protected = \"protected\"\n",
    "        self.__private = \"private\"\n",
    "\n",
    "    def print(self):\n",
    "        print(\n",
    "            f\"{self.val=}, {self._protected=}, {self.__private=}, \"\n",
    "            f\"{self.name=}, {self.__cls_private=}\"\n",
    "        )\n",
    "\n",
    "    def print_new(self):\n",
    "        print(f\"{self.__private_3=}\")"
   ]
  },
  {
   "cell_type": "code",
   "execution_count": 33,
   "id": "4c84e4ab-4fe0-474d-93a5-ee4411497be3",
   "metadata": {},
   "outputs": [],
   "source": [
    "obj = ClassAttr(10)"
   ]
  },
  {
   "cell_type": "code",
   "execution_count": 34,
   "id": "370918f2-3858-4b23-a3a7-c25bcde668da",
   "metadata": {},
   "outputs": [
    {
     "data": {
      "text/plain": [
       "(10, 'protected')"
      ]
     },
     "execution_count": 34,
     "metadata": {},
     "output_type": "execute_result"
    }
   ],
   "source": [
    "obj.val, obj._protected"
   ]
  },
  {
   "cell_type": "code",
   "execution_count": 35,
   "id": "183eb0d1-7fcb-4875-8ee0-16de9486c88e",
   "metadata": {},
   "outputs": [
    {
     "name": "stdout",
     "output_type": "stream",
     "text": [
      "self.val=10, self._protected='protected', self.__private='private', self.name='cls_name', self.__cls_private='cls_private'\n"
     ]
    }
   ],
   "source": [
    "obj.print()"
   ]
  },
  {
   "cell_type": "code",
   "execution_count": 36,
   "id": "e95c92e5-e8be-44fb-80fb-01872befb3ca",
   "metadata": {},
   "outputs": [
    {
     "ename": "AttributeError",
     "evalue": "'ClassAttr' object has no attribute '__private'",
     "output_type": "error",
     "traceback": [
      "\u001b[31m---------------------------------------------------------------------------\u001b[39m",
      "\u001b[31mAttributeError\u001b[39m                            Traceback (most recent call last)",
      "\u001b[36mCell\u001b[39m\u001b[36m \u001b[39m\u001b[32mIn[36]\u001b[39m\u001b[32m, line 1\u001b[39m\n\u001b[32m----> \u001b[39m\u001b[32m1\u001b[39m \u001b[43mobj\u001b[49m\u001b[43m.\u001b[49m\u001b[43m__private\u001b[49m\n",
      "\u001b[31mAttributeError\u001b[39m: 'ClassAttr' object has no attribute '__private'"
     ]
    }
   ],
   "source": [
    "obj.__private"
   ]
  },
  {
   "cell_type": "code",
   "execution_count": 37,
   "id": "6a4e9340-69f7-496e-b636-acc4249e9db4",
   "metadata": {},
   "outputs": [
    {
     "data": {
      "text/plain": [
       "'private'"
      ]
     },
     "execution_count": 37,
     "metadata": {},
     "output_type": "execute_result"
    }
   ],
   "source": [
    "obj._ClassAttr__private"
   ]
  },
  {
   "cell_type": "code",
   "execution_count": 38,
   "id": "54e29fc5-74e7-461b-81f3-c157536f43c4",
   "metadata": {},
   "outputs": [
    {
     "data": {
      "text/plain": [
       "{'val': 10, '_protected': 'protected', '_ClassAttr__private': 'private'}"
      ]
     },
     "execution_count": 38,
     "metadata": {},
     "output_type": "execute_result"
    }
   ],
   "source": [
    "obj.__dict__"
   ]
  },
  {
   "cell_type": "code",
   "execution_count": 39,
   "id": "ed0700f4-38fb-4d10-9b29-fbb681b27cf3",
   "metadata": {},
   "outputs": [],
   "source": [
    "obj._ClassAttr__private = \"update private\""
   ]
  },
  {
   "cell_type": "code",
   "execution_count": 40,
   "id": "c4d8acc7-8cbe-45a6-863f-f03b85152dff",
   "metadata": {},
   "outputs": [
    {
     "name": "stdout",
     "output_type": "stream",
     "text": [
      "self.val=10, self._protected='protected', self.__private='update private', self.name='cls_name', self.__cls_private='cls_private'\n"
     ]
    }
   ],
   "source": [
    "obj.print()"
   ]
  },
  {
   "cell_type": "code",
   "execution_count": 42,
   "id": "66a7eac9-6448-45ff-b4a3-665de1ee56f9",
   "metadata": {},
   "outputs": [
    {
     "data": {
      "text/plain": [
       "{'val': 10, '_protected': 'protected', '_ClassAttr__private': 'update private'}"
      ]
     },
     "execution_count": 42,
     "metadata": {},
     "output_type": "execute_result"
    }
   ],
   "source": [
    "obj.__dict__"
   ]
  },
  {
   "cell_type": "code",
   "execution_count": 43,
   "id": "e52e19c4-87d7-439b-b921-7738662bc396",
   "metadata": {},
   "outputs": [
    {
     "data": {
      "text/plain": [
       "mappingproxy({'__module__': '__main__',\n",
       "              '__firstlineno__': 1,\n",
       "              'name': 'cls_name',\n",
       "              '_ClassAttr__cls_private': 'cls_private',\n",
       "              '__init__': <function __main__.ClassAttr.__init__(self, val)>,\n",
       "              'print': <function __main__.ClassAttr.print(self)>,\n",
       "              'print_new': <function __main__.ClassAttr.print_new(self)>,\n",
       "              '__static_attributes__': ('__private', '_protected', 'val'),\n",
       "              '__dict__': <attribute '__dict__' of 'ClassAttr' objects>,\n",
       "              '__weakref__': <attribute '__weakref__' of 'ClassAttr' objects>,\n",
       "              '__doc__': None})"
      ]
     },
     "execution_count": 43,
     "metadata": {},
     "output_type": "execute_result"
    }
   ],
   "source": [
    "ClassAttr.__dict__"
   ]
  },
  {
   "cell_type": "code",
   "execution_count": 44,
   "id": "23aaa647-3f13-4b4d-a3a0-ccfdb1f720e4",
   "metadata": {},
   "outputs": [],
   "source": [
    "obj.__dict__[\"@@@qwerty\"] = \"123\""
   ]
  },
  {
   "cell_type": "code",
   "execution_count": 45,
   "id": "860882a3-fa4f-479b-9077-95f8a32e2cbd",
   "metadata": {},
   "outputs": [
    {
     "data": {
      "text/plain": [
       "{'val': 10,\n",
       " '_protected': 'protected',\n",
       " '_ClassAttr__private': 'update private',\n",
       " '@@@qwerty': '123'}"
      ]
     },
     "execution_count": 45,
     "metadata": {},
     "output_type": "execute_result"
    }
   ],
   "source": [
    "obj.__dict__"
   ]
  },
  {
   "cell_type": "code",
   "execution_count": 46,
   "id": "91508925-d94c-468c-a452-8202d0693042",
   "metadata": {},
   "outputs": [
    {
     "ename": "TypeError",
     "evalue": "'mappingproxy' object does not support item assignment",
     "output_type": "error",
     "traceback": [
      "\u001b[31m---------------------------------------------------------------------------\u001b[39m",
      "\u001b[31mTypeError\u001b[39m                                 Traceback (most recent call last)",
      "\u001b[36mCell\u001b[39m\u001b[36m \u001b[39m\u001b[32mIn[46]\u001b[39m\u001b[32m, line 1\u001b[39m\n\u001b[32m----> \u001b[39m\u001b[32m1\u001b[39m \u001b[43mClassAttr\u001b[49m\u001b[43m.\u001b[49m\u001b[34;43m__dict__\u001b[39;49m\u001b[43m[\u001b[49m\u001b[33;43m\"\u001b[39;49m\u001b[33;43m@@@q1\u001b[39;49m\u001b[33;43m\"\u001b[39;49m\u001b[43m]\u001b[49m = \u001b[33m\"\u001b[39m\u001b[33m345\u001b[39m\u001b[33m\"\u001b[39m\n",
      "\u001b[31mTypeError\u001b[39m: 'mappingproxy' object does not support item assignment"
     ]
    }
   ],
   "source": [
    "ClassAttr.__dict__[\"@@@q1\"] = \"345\""
   ]
  },
  {
   "cell_type": "code",
   "execution_count": null,
   "id": "7126ebf6-c254-4f77-9030-e1bd5afdc02e",
   "metadata": {},
   "outputs": [],
   "source": []
  },
  {
   "cell_type": "code",
   "execution_count": null,
   "id": "9dc07245-b74a-42d7-a92c-484f714ce71a",
   "metadata": {},
   "outputs": [],
   "source": []
  },
  {
   "cell_type": "code",
   "execution_count": null,
   "id": "a5b7d7a9-27ca-4530-9bac-ba7428dbe804",
   "metadata": {},
   "outputs": [],
   "source": []
  },
  {
   "cell_type": "code",
   "execution_count": 47,
   "id": "6c7cca6a-c180-43f3-bd29-7f87dfcde307",
   "metadata": {},
   "outputs": [
    {
     "data": {
      "text/plain": [
       "{'val': 10,\n",
       " '_protected': 'protected',\n",
       " '_ClassAttr__private': 'update private',\n",
       " '@@@qwerty': '123'}"
      ]
     },
     "execution_count": 47,
     "metadata": {},
     "output_type": "execute_result"
    }
   ],
   "source": [
    "obj.__dict__"
   ]
  },
  {
   "cell_type": "code",
   "execution_count": 48,
   "id": "60caeee5-e8af-4117-b46d-b58a925e73c7",
   "metadata": {},
   "outputs": [],
   "source": [
    "obj.__new_priv = 99"
   ]
  },
  {
   "cell_type": "code",
   "execution_count": 49,
   "id": "750c5868-151e-4ba0-b6f1-9100b2b75e42",
   "metadata": {},
   "outputs": [
    {
     "data": {
      "text/plain": [
       "{'val': 10,\n",
       " '_protected': 'protected',\n",
       " '_ClassAttr__private': 'update private',\n",
       " '@@@qwerty': '123',\n",
       " '__new_priv': 99}"
      ]
     },
     "execution_count": 49,
     "metadata": {},
     "output_type": "execute_result"
    }
   ],
   "source": [
    "obj.__dict__"
   ]
  },
  {
   "cell_type": "code",
   "execution_count": 50,
   "id": "a627509a-3d48-483a-bf65-613f6904f8ff",
   "metadata": {},
   "outputs": [
    {
     "data": {
      "text/plain": [
       "99"
      ]
     },
     "execution_count": 50,
     "metadata": {},
     "output_type": "execute_result"
    }
   ],
   "source": [
    "obj.__new_priv"
   ]
  },
  {
   "cell_type": "code",
   "execution_count": 51,
   "id": "57e19b96-a153-4af1-87ba-f5331931d3fb",
   "metadata": {},
   "outputs": [
    {
     "ename": "AttributeError",
     "evalue": "'ClassAttr' object has no attribute '_ClassAttr__private_3'",
     "output_type": "error",
     "traceback": [
      "\u001b[31m---------------------------------------------------------------------------\u001b[39m",
      "\u001b[31mAttributeError\u001b[39m                            Traceback (most recent call last)",
      "\u001b[36mCell\u001b[39m\u001b[36m \u001b[39m\u001b[32mIn[51]\u001b[39m\u001b[32m, line 1\u001b[39m\n\u001b[32m----> \u001b[39m\u001b[32m1\u001b[39m \u001b[43mobj\u001b[49m\u001b[43m.\u001b[49m\u001b[43mprint_new\u001b[49m\u001b[43m(\u001b[49m\u001b[43m)\u001b[49m\n",
      "\u001b[36mCell\u001b[39m\u001b[36m \u001b[39m\u001b[32mIn[32]\u001b[39m\u001b[32m, line 17\u001b[39m, in \u001b[36mClassAttr.print_new\u001b[39m\u001b[34m(self)\u001b[39m\n\u001b[32m     16\u001b[39m \u001b[38;5;28;01mdef\u001b[39;00m\u001b[38;5;250m \u001b[39m\u001b[34mprint_new\u001b[39m(\u001b[38;5;28mself\u001b[39m):\n\u001b[32m---> \u001b[39m\u001b[32m17\u001b[39m     \u001b[38;5;28mprint\u001b[39m(\u001b[33mf\u001b[39m\u001b[33m\"\u001b[39m\u001b[38;5;132;01m{\u001b[39;00m\u001b[38;5;28;43mself\u001b[39;49m\u001b[43m.\u001b[49m\u001b[43m__private_3\u001b[49m\u001b[38;5;132;01m=}\u001b[39;00m\u001b[33m\"\u001b[39m)\n",
      "\u001b[31mAttributeError\u001b[39m: 'ClassAttr' object has no attribute '_ClassAttr__private_3'"
     ]
    }
   ],
   "source": [
    "obj.print_new()"
   ]
  },
  {
   "cell_type": "code",
   "execution_count": 52,
   "id": "ebbef2bf-60cc-4b48-be42-15e6c11bffcc",
   "metadata": {},
   "outputs": [],
   "source": [
    "obj._ClassAttr__private_3 = \"priv_3\""
   ]
  },
  {
   "cell_type": "code",
   "execution_count": 53,
   "id": "597d4282-5651-4dbe-830e-d88126e75e4c",
   "metadata": {},
   "outputs": [
    {
     "name": "stdout",
     "output_type": "stream",
     "text": [
      "self.__private_3='priv_3'\n"
     ]
    }
   ],
   "source": [
    "obj.print_new()"
   ]
  },
  {
   "cell_type": "code",
   "execution_count": null,
   "id": "aaf0bed5-2ee2-4d1e-921c-12be86401f45",
   "metadata": {},
   "outputs": [],
   "source": []
  },
  {
   "cell_type": "code",
   "execution_count": null,
   "id": "e1e0739f-cb77-49e0-a2ca-f20616c10f3e",
   "metadata": {},
   "outputs": [],
   "source": []
  },
  {
   "cell_type": "code",
   "execution_count": null,
   "id": "c72cc017-e62b-4d64-9ebe-f3133ac1a881",
   "metadata": {},
   "outputs": [],
   "source": []
  },
  {
   "cell_type": "code",
   "execution_count": null,
   "id": "976b7e22-a5c0-4803-b3a3-018f2351b9f1",
   "metadata": {},
   "outputs": [],
   "source": []
  },
  {
   "cell_type": "code",
   "execution_count": 54,
   "id": "805df60c-e3d5-4622-b5a2-8f89740a6978",
   "metadata": {},
   "outputs": [],
   "source": [
    "obj = ClassAttr(10)"
   ]
  },
  {
   "cell_type": "code",
   "execution_count": 55,
   "id": "f7b7ebd9-ec77-4d4c-bafc-5ec8a31c0f44",
   "metadata": {},
   "outputs": [
    {
     "data": {
      "text/plain": [
       "{'val': 10, '_protected': 'protected', '_ClassAttr__private': 'private'}"
      ]
     },
     "execution_count": 55,
     "metadata": {},
     "output_type": "execute_result"
    }
   ],
   "source": [
    "obj.__dict__"
   ]
  },
  {
   "cell_type": "code",
   "execution_count": 56,
   "id": "2e0d4404-6a0d-4929-959a-673d841ea0a5",
   "metadata": {},
   "outputs": [
    {
     "data": {
      "text/plain": [
       "10"
      ]
     },
     "execution_count": 56,
     "metadata": {},
     "output_type": "execute_result"
    }
   ],
   "source": [
    "obj.val"
   ]
  },
  {
   "cell_type": "code",
   "execution_count": 57,
   "id": "da87c4d0-1ac4-4871-b766-cd9754263a53",
   "metadata": {},
   "outputs": [],
   "source": [
    "obj.val = 20"
   ]
  },
  {
   "cell_type": "code",
   "execution_count": 58,
   "id": "8a0991e0-a9ba-46b7-9a4a-1a4ac6ed9c57",
   "metadata": {},
   "outputs": [
    {
     "data": {
      "text/plain": [
       "20"
      ]
     },
     "execution_count": 58,
     "metadata": {},
     "output_type": "execute_result"
    }
   ],
   "source": [
    "obj.val"
   ]
  },
  {
   "cell_type": "code",
   "execution_count": 59,
   "id": "bf52f182-b75c-4d16-8a02-32b3799880d1",
   "metadata": {},
   "outputs": [],
   "source": [
    "obj.val2 = 33"
   ]
  },
  {
   "cell_type": "code",
   "execution_count": 60,
   "id": "6f035de6-5a3a-452b-8ccf-1ed0cb641384",
   "metadata": {},
   "outputs": [
    {
     "data": {
      "text/plain": [
       "{'val': 20,\n",
       " '_protected': 'protected',\n",
       " '_ClassAttr__private': 'private',\n",
       " 'val2': 33}"
      ]
     },
     "execution_count": 60,
     "metadata": {},
     "output_type": "execute_result"
    }
   ],
   "source": [
    "obj.__dict__"
   ]
  },
  {
   "cell_type": "code",
   "execution_count": 61,
   "id": "d9b2f5df-7431-4fda-9b79-8ec2c98ec203",
   "metadata": {},
   "outputs": [
    {
     "data": {
      "text/plain": [
       "'cls_name'"
      ]
     },
     "execution_count": 61,
     "metadata": {},
     "output_type": "execute_result"
    }
   ],
   "source": [
    "obj.name"
   ]
  },
  {
   "cell_type": "code",
   "execution_count": 62,
   "id": "2a8cd079-3a44-43c7-b9bd-fef735470b93",
   "metadata": {},
   "outputs": [
    {
     "data": {
      "text/plain": [
       "mappingproxy({'__module__': '__main__',\n",
       "              '__firstlineno__': 1,\n",
       "              'name': 'cls_name',\n",
       "              '_ClassAttr__cls_private': 'cls_private',\n",
       "              '__init__': <function __main__.ClassAttr.__init__(self, val)>,\n",
       "              'print': <function __main__.ClassAttr.print(self)>,\n",
       "              'print_new': <function __main__.ClassAttr.print_new(self)>,\n",
       "              '__static_attributes__': ('__private', '_protected', 'val'),\n",
       "              '__dict__': <attribute '__dict__' of 'ClassAttr' objects>,\n",
       "              '__weakref__': <attribute '__weakref__' of 'ClassAttr' objects>,\n",
       "              '__doc__': None})"
      ]
     },
     "execution_count": 62,
     "metadata": {},
     "output_type": "execute_result"
    }
   ],
   "source": [
    "obj.__class__.__dict__"
   ]
  },
  {
   "cell_type": "code",
   "execution_count": 63,
   "id": "4a54eea2-4f3c-4889-84b9-35007fb23346",
   "metadata": {},
   "outputs": [
    {
     "ename": "AttributeError",
     "evalue": "'ClassAttr' object has no attribute 'name25'",
     "output_type": "error",
     "traceback": [
      "\u001b[31m---------------------------------------------------------------------------\u001b[39m",
      "\u001b[31mAttributeError\u001b[39m                            Traceback (most recent call last)",
      "\u001b[36mCell\u001b[39m\u001b[36m \u001b[39m\u001b[32mIn[63]\u001b[39m\u001b[32m, line 1\u001b[39m\n\u001b[32m----> \u001b[39m\u001b[32m1\u001b[39m \u001b[43mobj\u001b[49m\u001b[43m.\u001b[49m\u001b[43mname25\u001b[49m\n",
      "\u001b[31mAttributeError\u001b[39m: 'ClassAttr' object has no attribute 'name25'"
     ]
    }
   ],
   "source": [
    "obj.name25"
   ]
  },
  {
   "cell_type": "code",
   "execution_count": 64,
   "id": "0f5d9df4-6e59-437e-9289-72719472285c",
   "metadata": {},
   "outputs": [],
   "source": [
    "obj.name = \"new_cls_name\""
   ]
  },
  {
   "cell_type": "code",
   "execution_count": 66,
   "id": "2a74a879-7ea1-4f76-a784-51c2deb06802",
   "metadata": {},
   "outputs": [
    {
     "data": {
      "text/plain": [
       "('new_cls_name', 'cls_name')"
      ]
     },
     "execution_count": 66,
     "metadata": {},
     "output_type": "execute_result"
    }
   ],
   "source": [
    "obj.name, obj.__class__.name"
   ]
  },
  {
   "cell_type": "code",
   "execution_count": 67,
   "id": "2eae222b-2f0d-4a63-ad2a-88aef16f01c4",
   "metadata": {},
   "outputs": [
    {
     "data": {
      "text/plain": [
       "{'val': 20,\n",
       " '_protected': 'protected',\n",
       " '_ClassAttr__private': 'private',\n",
       " 'val2': 33,\n",
       " 'name': 'new_cls_name'}"
      ]
     },
     "execution_count": 67,
     "metadata": {},
     "output_type": "execute_result"
    }
   ],
   "source": [
    "obj.__dict__"
   ]
  },
  {
   "cell_type": "code",
   "execution_count": 68,
   "id": "b77a87f2-bfb1-4972-876d-dcca3ec99571",
   "metadata": {},
   "outputs": [
    {
     "data": {
      "text/plain": [
       "('new_cls_name', 'cls_name')"
      ]
     },
     "execution_count": 68,
     "metadata": {},
     "output_type": "execute_result"
    }
   ],
   "source": [
    "obj.name, obj.__class__.name"
   ]
  },
  {
   "cell_type": "code",
   "execution_count": 69,
   "id": "8e3bbfe1-02fc-4a07-8919-f5dbc8f71597",
   "metadata": {},
   "outputs": [],
   "source": [
    "del obj.name"
   ]
  },
  {
   "cell_type": "code",
   "execution_count": 70,
   "id": "c29d9c10-4448-4e27-8687-ddcc2ccc179e",
   "metadata": {},
   "outputs": [
    {
     "data": {
      "text/plain": [
       "('cls_name', 'cls_name')"
      ]
     },
     "execution_count": 70,
     "metadata": {},
     "output_type": "execute_result"
    }
   ],
   "source": [
    "obj.name, obj.__class__.name"
   ]
  },
  {
   "cell_type": "code",
   "execution_count": null,
   "id": "d941d0d9-ce7f-4799-8b5d-2a981aab7b77",
   "metadata": {},
   "outputs": [],
   "source": []
  },
  {
   "cell_type": "code",
   "execution_count": null,
   "id": "1cbf4e21-684d-4111-b60e-dc4e9d318140",
   "metadata": {},
   "outputs": [],
   "source": []
  },
  {
   "cell_type": "code",
   "execution_count": null,
   "id": "fe7f0fd9-7bf5-4676-b40c-9296071137f8",
   "metadata": {},
   "outputs": [],
   "source": []
  },
  {
   "cell_type": "code",
   "execution_count": 72,
   "id": "20364976-d7be-4c42-bb2e-a6aba23d31ea",
   "metadata": {},
   "outputs": [],
   "source": [
    "obj = ClassAttr(10)"
   ]
  },
  {
   "cell_type": "code",
   "execution_count": 73,
   "id": "f5806c21-0338-4778-9491-7c62c85f7068",
   "metadata": {},
   "outputs": [
    {
     "name": "stdout",
     "output_type": "stream",
     "text": [
      "self.val=10, self._protected='protected', self.__private='private', self.name='cls_name', self.__cls_private='cls_private'\n"
     ]
    }
   ],
   "source": [
    "obj.print()"
   ]
  },
  {
   "cell_type": "code",
   "execution_count": 74,
   "id": "757b92d6-fa35-4cee-9c0d-34a8ccbf11d1",
   "metadata": {},
   "outputs": [
    {
     "data": {
      "text/plain": [
       "<bound method ClassAttr.print of <__main__.ClassAttr object at 0x1089512b0>>"
      ]
     },
     "execution_count": 74,
     "metadata": {},
     "output_type": "execute_result"
    }
   ],
   "source": [
    "obj.print"
   ]
  },
  {
   "cell_type": "code",
   "execution_count": 75,
   "id": "88579f34-c784-4881-a110-610e5fe02680",
   "metadata": {},
   "outputs": [
    {
     "data": {
      "text/plain": [
       "<function __main__.ClassAttr.print(self)>"
      ]
     },
     "execution_count": 75,
     "metadata": {},
     "output_type": "execute_result"
    }
   ],
   "source": [
    "ClassAttr.print"
   ]
  },
  {
   "cell_type": "code",
   "execution_count": 78,
   "id": "fa9023ec-5e71-4ec3-8ee0-bcb664170a22",
   "metadata": {},
   "outputs": [
    {
     "name": "stdout",
     "output_type": "stream",
     "text": [
      "self.val=10, self._protected='protected', self.__private='private', self.name='cls_name', self.__cls_private='cls_private'\n"
     ]
    }
   ],
   "source": [
    "ClassAttr.print(obj)"
   ]
  },
  {
   "cell_type": "code",
   "execution_count": null,
   "id": "9aacdbbb-6ba5-454e-bdc0-9756a7b54544",
   "metadata": {},
   "outputs": [],
   "source": []
  },
  {
   "cell_type": "code",
   "execution_count": null,
   "id": "ac82babd-5b62-4263-a97c-4073fabcbd2f",
   "metadata": {},
   "outputs": [],
   "source": []
  },
  {
   "cell_type": "code",
   "execution_count": null,
   "id": "71720f21-2e3f-44ba-95f0-554aa4156f6f",
   "metadata": {},
   "outputs": [],
   "source": []
  },
  {
   "cell_type": "code",
   "execution_count": 79,
   "id": "c6436d2e-800a-41db-8ea0-0c28464a7508",
   "metadata": {},
   "outputs": [],
   "source": [
    "class A:\n",
    "    def __init__(self, x):\n",
    "        self.x = x\n",
    "\n",
    "    def print_a(self):\n",
    "        print(\"A\", self.x)\n",
    "\n",
    "\n",
    "class B:\n",
    "    def __init__(self, x):\n",
    "        self.x = x\n",
    "\n",
    "    def print_b(self):\n",
    "        print(\"B\", self.x)"
   ]
  },
  {
   "cell_type": "code",
   "execution_count": 80,
   "id": "821ebfed-0f1c-4adb-a3a6-096023001c97",
   "metadata": {},
   "outputs": [],
   "source": [
    "a = A(111)\n",
    "b = B(222)"
   ]
  },
  {
   "cell_type": "code",
   "execution_count": 82,
   "id": "8ac5441e-aa6a-4def-b430-340e75fb57cf",
   "metadata": {},
   "outputs": [
    {
     "data": {
      "text/plain": [
       "(111, 222)"
      ]
     },
     "execution_count": 82,
     "metadata": {},
     "output_type": "execute_result"
    }
   ],
   "source": [
    "a.x, b.x"
   ]
  },
  {
   "cell_type": "code",
   "execution_count": 83,
   "id": "ef633af0-7269-4b7b-87eb-9b4b0d0c1a96",
   "metadata": {},
   "outputs": [
    {
     "name": "stdout",
     "output_type": "stream",
     "text": [
      "A 111\n",
      "B 222\n"
     ]
    },
    {
     "data": {
      "text/plain": [
       "(None, None)"
      ]
     },
     "execution_count": 83,
     "metadata": {},
     "output_type": "execute_result"
    }
   ],
   "source": [
    "a.print_a(), b.print_b()"
   ]
  },
  {
   "cell_type": "code",
   "execution_count": 84,
   "id": "49503582-6e06-4eee-ae2f-2b8140aaccc1",
   "metadata": {},
   "outputs": [
    {
     "name": "stdout",
     "output_type": "stream",
     "text": [
      "A 222\n"
     ]
    }
   ],
   "source": [
    "A.print_a(b)"
   ]
  },
  {
   "cell_type": "code",
   "execution_count": 85,
   "id": "66a33778-9d07-47ab-9c61-035e184e6009",
   "metadata": {},
   "outputs": [
    {
     "name": "stdout",
     "output_type": "stream",
     "text": [
      "B 111\n"
     ]
    }
   ],
   "source": [
    "B.print_b(a)"
   ]
  },
  {
   "cell_type": "code",
   "execution_count": 87,
   "id": "28825b7c-9e50-46a8-b627-0a2e78381b81",
   "metadata": {},
   "outputs": [
    {
     "data": {
      "text/plain": [
       "__main__.A"
      ]
     },
     "execution_count": 87,
     "metadata": {},
     "output_type": "execute_result"
    }
   ],
   "source": [
    "a.__class__"
   ]
  },
  {
   "cell_type": "code",
   "execution_count": 88,
   "id": "3293e5f6-161a-4520-ae3f-40eda09938fe",
   "metadata": {},
   "outputs": [],
   "source": [
    "a.__class__ = B"
   ]
  },
  {
   "cell_type": "code",
   "execution_count": 89,
   "id": "73cdb396-76d8-4dcf-86f1-fb2ee281ec79",
   "metadata": {},
   "outputs": [
    {
     "data": {
      "text/plain": [
       "__main__.B"
      ]
     },
     "execution_count": 89,
     "metadata": {},
     "output_type": "execute_result"
    }
   ],
   "source": [
    "a.__class__"
   ]
  },
  {
   "cell_type": "code",
   "execution_count": 90,
   "id": "e51b3760-6ae6-4664-98ec-d5e7e60156e6",
   "metadata": {},
   "outputs": [
    {
     "ename": "AttributeError",
     "evalue": "'B' object has no attribute 'print_a'",
     "output_type": "error",
     "traceback": [
      "\u001b[31m---------------------------------------------------------------------------\u001b[39m",
      "\u001b[31mAttributeError\u001b[39m                            Traceback (most recent call last)",
      "\u001b[36mCell\u001b[39m\u001b[36m \u001b[39m\u001b[32mIn[90]\u001b[39m\u001b[32m, line 1\u001b[39m\n\u001b[32m----> \u001b[39m\u001b[32m1\u001b[39m \u001b[43ma\u001b[49m\u001b[43m.\u001b[49m\u001b[43mprint_a\u001b[49m()\n",
      "\u001b[31mAttributeError\u001b[39m: 'B' object has no attribute 'print_a'"
     ]
    }
   ],
   "source": [
    "a.print_a()"
   ]
  },
  {
   "cell_type": "code",
   "execution_count": 91,
   "id": "01933828-249c-48ac-accc-973af8e30148",
   "metadata": {},
   "outputs": [
    {
     "name": "stdout",
     "output_type": "stream",
     "text": [
      "B 111\n"
     ]
    }
   ],
   "source": [
    "a.print_b()"
   ]
  },
  {
   "cell_type": "code",
   "execution_count": 92,
   "id": "e9e1c83c-dfc9-4166-ae87-95cf7f10e23d",
   "metadata": {},
   "outputs": [
    {
     "data": {
      "text/plain": [
       "{'x': 111}"
      ]
     },
     "execution_count": 92,
     "metadata": {},
     "output_type": "execute_result"
    }
   ],
   "source": [
    "a.__dict__"
   ]
  },
  {
   "cell_type": "code",
   "execution_count": 93,
   "id": "50b11936-4bae-4780-91c0-bfd1bd9a997b",
   "metadata": {},
   "outputs": [
    {
     "data": {
      "text/plain": [
       "mappingproxy({'__module__': '__main__',\n",
       "              '__firstlineno__': 1,\n",
       "              '__init__': <function __main__.A.__init__(self, x)>,\n",
       "              'print_a': <function __main__.A.print_a(self)>,\n",
       "              '__static_attributes__': ('x',),\n",
       "              '__dict__': <attribute '__dict__' of 'A' objects>,\n",
       "              '__weakref__': <attribute '__weakref__' of 'A' objects>,\n",
       "              '__doc__': None})"
      ]
     },
     "execution_count": 93,
     "metadata": {},
     "output_type": "execute_result"
    }
   ],
   "source": [
    "A.__dict__"
   ]
  },
  {
   "cell_type": "code",
   "execution_count": 94,
   "id": "0044f9fb-65a4-4aca-9c8e-8e1d65b2fed0",
   "metadata": {},
   "outputs": [
    {
     "data": {
      "text/plain": [
       "mappingproxy({'__module__': '__main__',\n",
       "              '__firstlineno__': 9,\n",
       "              '__init__': <function __main__.B.__init__(self, x)>,\n",
       "              'print_b': <function __main__.B.print_b(self)>,\n",
       "              '__static_attributes__': ('x',),\n",
       "              '__dict__': <attribute '__dict__' of 'B' objects>,\n",
       "              '__weakref__': <attribute '__weakref__' of 'B' objects>,\n",
       "              '__doc__': None})"
      ]
     },
     "execution_count": 94,
     "metadata": {},
     "output_type": "execute_result"
    }
   ],
   "source": [
    "B.__dict__"
   ]
  },
  {
   "cell_type": "code",
   "execution_count": null,
   "id": "b313eafd-4d37-490b-b4c0-0e8a8f68abee",
   "metadata": {},
   "outputs": [],
   "source": []
  },
  {
   "cell_type": "code",
   "execution_count": null,
   "id": "e271de3f-e493-464e-82f2-c56585e63817",
   "metadata": {},
   "outputs": [],
   "source": []
  },
  {
   "cell_type": "code",
   "execution_count": null,
   "id": "305da520-1e64-410e-ad5a-4443c18844f5",
   "metadata": {},
   "outputs": [],
   "source": []
  },
  {
   "cell_type": "code",
   "execution_count": 97,
   "id": "fa596636-407c-4d5a-bcff-3e598dc2c176",
   "metadata": {},
   "outputs": [],
   "source": [
    "class ClassAttr:\n",
    "    name = \"cls_name\"\n",
    "    __cls_private = \"cls_private\"\n",
    "\n",
    "    @classmethod\n",
    "    def init_get(cls, val, param1):\n",
    "        return cls(val, param1, \"GET\")\n",
    "\n",
    "    @classmethod\n",
    "    def init_post(cls, val):\n",
    "        return cls(val, \"\", \"POST\")\n",
    "\n",
    "    def __init__(self, val, param1, param2):\n",
    "        self.val = val\n",
    "        self._protected = \"protected\"\n",
    "        self.__private = \"private\"\n",
    "\n",
    "    def print(self):\n",
    "        print(\n",
    "            f\"{self.val=}, {self._protected=}, {self.__private=}, \"\n",
    "            f\"{self.name=}, {self.__cls_private=}\"\n",
    "        )\n",
    "\n",
    "    def print_new(self):\n",
    "        print(f\"{self.__private_3=}\")\n",
    "\n",
    "    @staticmethod\n",
    "    def __calc():\n",
    "        print(\"static __calc\")\n",
    "\n",
    "    @staticmethod\n",
    "    def call_calc():\n",
    "        print(\"call_calc\")\n",
    "        ClassAttr.__calc()\n",
    "\n",
    "    @classmethod\n",
    "    def __cls_calc(cls):\n",
    "        print(\"class __cls_calc\")\n",
    "\n",
    "    @classmethod\n",
    "    def cls_calc(cls):\n",
    "        print(\"class cls_calc\", cls)\n",
    "        cls.__cls_calc()"
   ]
  },
  {
   "cell_type": "code",
   "execution_count": 98,
   "id": "ca046d9e-c4f9-44ed-9670-6856abb76011",
   "metadata": {},
   "outputs": [],
   "source": [
    "obj = ClassAttr(10)"
   ]
  },
  {
   "cell_type": "code",
   "execution_count": 99,
   "id": "a03b04a6-c058-4d4c-8a9a-40a47981909e",
   "metadata": {},
   "outputs": [
    {
     "name": "stdout",
     "output_type": "stream",
     "text": [
      "class cls_calc <class '__main__.ClassAttr'>\n",
      "class __cls_calc\n"
     ]
    }
   ],
   "source": [
    "obj.cls_calc()"
   ]
  },
  {
   "cell_type": "code",
   "execution_count": 100,
   "id": "fa2c0f58-e1f9-4e3b-b69b-cd82af8561f0",
   "metadata": {},
   "outputs": [
    {
     "data": {
      "text/plain": [
       "<__main__.ClassAttr at 0x1087d2e40>"
      ]
     },
     "execution_count": 100,
     "metadata": {},
     "output_type": "execute_result"
    }
   ],
   "source": [
    "obj"
   ]
  },
  {
   "cell_type": "code",
   "execution_count": 101,
   "id": "d1c34f54-4b5c-4a16-82a6-87fb2df61b5c",
   "metadata": {},
   "outputs": [
    {
     "data": {
      "text/plain": [
       "mappingproxy({'__module__': '__main__',\n",
       "              '__firstlineno__': 1,\n",
       "              'name': 'cls_name',\n",
       "              '_ClassAttr__cls_private': 'cls_private',\n",
       "              '__init__': <function __main__.ClassAttr.__init__(self, val)>,\n",
       "              'print': <function __main__.ClassAttr.print(self)>,\n",
       "              'print_new': <function __main__.ClassAttr.print_new(self)>,\n",
       "              '_ClassAttr__calc': <staticmethod(<function ClassAttr.__calc at 0x1093e00e0>)>,\n",
       "              'call_calc': <staticmethod(<function ClassAttr.call_calc at 0x1093e0900>)>,\n",
       "              '_ClassAttr__cls_calc': <classmethod(<function ClassAttr.__cls_calc at 0x1093e0400>)>,\n",
       "              'cls_calc': <classmethod(<function ClassAttr.cls_calc at 0x1093e0ea0>)>,\n",
       "              '__static_attributes__': ('__private', '_protected', 'val'),\n",
       "              '__dict__': <attribute '__dict__' of 'ClassAttr' objects>,\n",
       "              '__weakref__': <attribute '__weakref__' of 'ClassAttr' objects>,\n",
       "              '__doc__': None})"
      ]
     },
     "execution_count": 101,
     "metadata": {},
     "output_type": "execute_result"
    }
   ],
   "source": [
    "ClassAttr.__dict__"
   ]
  },
  {
   "cell_type": "code",
   "execution_count": 102,
   "id": "9b5eec55-6f53-4a84-9e03-fef106c7e54a",
   "metadata": {},
   "outputs": [
    {
     "ename": "AttributeError",
     "evalue": "'ClassAttr' object has no attribute '__cls_calc'",
     "output_type": "error",
     "traceback": [
      "\u001b[31m---------------------------------------------------------------------------\u001b[39m",
      "\u001b[31mAttributeError\u001b[39m                            Traceback (most recent call last)",
      "\u001b[36mCell\u001b[39m\u001b[36m \u001b[39m\u001b[32mIn[102]\u001b[39m\u001b[32m, line 1\u001b[39m\n\u001b[32m----> \u001b[39m\u001b[32m1\u001b[39m \u001b[43mobj\u001b[49m\u001b[43m.\u001b[49m\u001b[43m__cls_calc\u001b[49m()\n",
      "\u001b[31mAttributeError\u001b[39m: 'ClassAttr' object has no attribute '__cls_calc'"
     ]
    }
   ],
   "source": [
    "obj.__cls_calc()"
   ]
  },
  {
   "cell_type": "code",
   "execution_count": 103,
   "id": "47d2257c-2e60-4517-a352-79949f4127eb",
   "metadata": {},
   "outputs": [
    {
     "name": "stdout",
     "output_type": "stream",
     "text": [
      "class __cls_calc\n"
     ]
    }
   ],
   "source": [
    "obj._ClassAttr__cls_calc()"
   ]
  },
  {
   "cell_type": "code",
   "execution_count": 104,
   "id": "84652a01-3d50-4113-ac08-3ec10427eff0",
   "metadata": {},
   "outputs": [
    {
     "name": "stdout",
     "output_type": "stream",
     "text": [
      "call_calc\n",
      "static __calc\n"
     ]
    }
   ],
   "source": [
    "obj.call_calc()"
   ]
  },
  {
   "cell_type": "code",
   "execution_count": 105,
   "id": "4fcf3ac5-d440-45b2-81dc-a51760fd1ff5",
   "metadata": {},
   "outputs": [
    {
     "name": "stdout",
     "output_type": "stream",
     "text": [
      "call_calc\n",
      "static __calc\n"
     ]
    }
   ],
   "source": [
    "ClassAttr.call_calc()"
   ]
  },
  {
   "cell_type": "code",
   "execution_count": 106,
   "id": "83922984-b795-4644-aad5-52528741ebbe",
   "metadata": {},
   "outputs": [
    {
     "ename": "AttributeError",
     "evalue": "'ClassAttr' object has no attribute '__calc'",
     "output_type": "error",
     "traceback": [
      "\u001b[31m---------------------------------------------------------------------------\u001b[39m",
      "\u001b[31mAttributeError\u001b[39m                            Traceback (most recent call last)",
      "\u001b[36mCell\u001b[39m\u001b[36m \u001b[39m\u001b[32mIn[106]\u001b[39m\u001b[32m, line 1\u001b[39m\n\u001b[32m----> \u001b[39m\u001b[32m1\u001b[39m \u001b[43mobj\u001b[49m\u001b[43m.\u001b[49m\u001b[43m__calc\u001b[49m()\n",
      "\u001b[31mAttributeError\u001b[39m: 'ClassAttr' object has no attribute '__calc'"
     ]
    }
   ],
   "source": [
    "obj.__calc()"
   ]
  },
  {
   "cell_type": "code",
   "execution_count": 107,
   "id": "a36581ca-6d37-454c-b2ac-ca74ef71eeb0",
   "metadata": {},
   "outputs": [
    {
     "ename": "AttributeError",
     "evalue": "type object 'ClassAttr' has no attribute '__calc'",
     "output_type": "error",
     "traceback": [
      "\u001b[31m---------------------------------------------------------------------------\u001b[39m",
      "\u001b[31mAttributeError\u001b[39m                            Traceback (most recent call last)",
      "\u001b[36mCell\u001b[39m\u001b[36m \u001b[39m\u001b[32mIn[107]\u001b[39m\u001b[32m, line 1\u001b[39m\n\u001b[32m----> \u001b[39m\u001b[32m1\u001b[39m \u001b[43mClassAttr\u001b[49m\u001b[43m.\u001b[49m\u001b[43m__calc\u001b[49m()\n",
      "\u001b[31mAttributeError\u001b[39m: type object 'ClassAttr' has no attribute '__calc'"
     ]
    }
   ],
   "source": [
    "ClassAttr.__calc()"
   ]
  },
  {
   "cell_type": "code",
   "execution_count": 108,
   "id": "d4114108-7ad4-4ba2-91f8-2e19be3598fe",
   "metadata": {},
   "outputs": [
    {
     "name": "stdout",
     "output_type": "stream",
     "text": [
      "static __calc\n"
     ]
    }
   ],
   "source": [
    "ClassAttr._ClassAttr__calc()"
   ]
  },
  {
   "cell_type": "code",
   "execution_count": null,
   "id": "4fdb3574-598e-4f12-8448-fceb0f9c91ab",
   "metadata": {},
   "outputs": [],
   "source": []
  },
  {
   "cell_type": "code",
   "execution_count": null,
   "id": "faeba673-bab8-49bb-bdbe-6aed53dfda73",
   "metadata": {},
   "outputs": [],
   "source": []
  },
  {
   "cell_type": "code",
   "execution_count": null,
   "id": "62ab7b31-19b1-4e1f-84d8-b0fb1e35fa25",
   "metadata": {},
   "outputs": [],
   "source": []
  },
  {
   "cell_type": "code",
   "execution_count": null,
   "id": "bdbb7d42-711d-4eb7-976b-f5dad5400879",
   "metadata": {},
   "outputs": [],
   "source": []
  },
  {
   "cell_type": "code",
   "execution_count": 114,
   "id": "ae98d5a7-14ee-4def-9023-91f9b7f492e0",
   "metadata": {},
   "outputs": [],
   "source": [
    "class Num:\n",
    "    def __init__(self, val):\n",
    "        self.val = val\n",
    "\n",
    "    def __add__(self, other):\n",
    "        print(\"__add__\", self.val, other)\n",
    "        return self.val + other\n",
    "\n",
    "    def __radd__(self, other):\n",
    "        print(\"__radd__\", self.val, other)\n",
    "        return self.val + other"
   ]
  },
  {
   "cell_type": "code",
   "execution_count": 115,
   "id": "b495a0e0-3436-4805-8bbb-e1f55d240496",
   "metadata": {},
   "outputs": [],
   "source": [
    "n = Num(99)"
   ]
  },
  {
   "cell_type": "code",
   "execution_count": 111,
   "id": "72c7384e-3ef9-4e6b-b60f-4dc9fb14107a",
   "metadata": {},
   "outputs": [
    {
     "data": {
      "text/plain": [
       "99"
      ]
     },
     "execution_count": 111,
     "metadata": {},
     "output_type": "execute_result"
    }
   ],
   "source": [
    "n.val"
   ]
  },
  {
   "cell_type": "code",
   "execution_count": 112,
   "id": "cb89f264-62b0-428a-9b0f-4b24c2c3632a",
   "metadata": {},
   "outputs": [
    {
     "ename": "TypeError",
     "evalue": "unsupported operand type(s) for +: 'int' and 'Num'",
     "output_type": "error",
     "traceback": [
      "\u001b[31m---------------------------------------------------------------------------\u001b[39m",
      "\u001b[31mTypeError\u001b[39m                                 Traceback (most recent call last)",
      "\u001b[36mCell\u001b[39m\u001b[36m \u001b[39m\u001b[32mIn[112]\u001b[39m\u001b[32m, line 1\u001b[39m\n\u001b[32m----> \u001b[39m\u001b[32m1\u001b[39m \u001b[32;43m45\u001b[39;49m\u001b[43m \u001b[49m\u001b[43m+\u001b[49m\u001b[43m \u001b[49m\u001b[43mn\u001b[49m\n",
      "\u001b[31mTypeError\u001b[39m: unsupported operand type(s) for +: 'int' and 'Num'"
     ]
    }
   ],
   "source": [
    "45 + n"
   ]
  },
  {
   "cell_type": "code",
   "execution_count": null,
   "id": "991d5c9c-1426-44e1-9923-cb6fb47d90e4",
   "metadata": {},
   "outputs": [],
   "source": []
  },
  {
   "cell_type": "code",
   "execution_count": 116,
   "id": "ceee42a3-efad-4f80-affc-41216da8a5b4",
   "metadata": {},
   "outputs": [
    {
     "name": "stdout",
     "output_type": "stream",
     "text": [
      "__radd__ 99 45\n"
     ]
    },
    {
     "data": {
      "text/plain": [
       "144"
      ]
     },
     "execution_count": 116,
     "metadata": {},
     "output_type": "execute_result"
    }
   ],
   "source": [
    "45 + n"
   ]
  },
  {
   "cell_type": "code",
   "execution_count": null,
   "id": "b1b45e88-1bb2-46ee-8c0c-70ce12475158",
   "metadata": {},
   "outputs": [],
   "source": []
  },
  {
   "cell_type": "code",
   "execution_count": 117,
   "id": "1c51df76-ccc3-4309-b5b4-0e7d85dad0c7",
   "metadata": {},
   "outputs": [
    {
     "name": "stdout",
     "output_type": "stream",
     "text": [
      "__add__ 99 45\n"
     ]
    },
    {
     "data": {
      "text/plain": [
       "144"
      ]
     },
     "execution_count": 117,
     "metadata": {},
     "output_type": "execute_result"
    }
   ],
   "source": [
    "n + 45"
   ]
  },
  {
   "cell_type": "code",
   "execution_count": null,
   "id": "db350058-734e-4676-b85e-038272f6a905",
   "metadata": {},
   "outputs": [],
   "source": []
  },
  {
   "cell_type": "code",
   "execution_count": null,
   "id": "6ba50f0b-40c8-42a0-9d91-b6c0191c2f57",
   "metadata": {},
   "outputs": [],
   "source": []
  },
  {
   "cell_type": "code",
   "execution_count": 118,
   "id": "fd3d0c8e-b94e-4ccc-a6d1-7d756af81294",
   "metadata": {},
   "outputs": [],
   "source": [
    "class A:\n",
    "    pass\n",
    "\n",
    "\n",
    "class B(A):\n",
    "    pass\n",
    "\n",
    "\n",
    "class C(A):\n",
    "    pass\n",
    "\n",
    "\n",
    "class D(B, C):\n",
    "    pass"
   ]
  },
  {
   "cell_type": "code",
   "execution_count": 119,
   "id": "a912ab92-7098-4553-acea-b04c1e41a8c3",
   "metadata": {},
   "outputs": [
    {
     "data": {
      "text/plain": [
       "(__main__.D, __main__.B, __main__.C, __main__.A, object)"
      ]
     },
     "execution_count": 119,
     "metadata": {},
     "output_type": "execute_result"
    }
   ],
   "source": [
    "D.__mro__"
   ]
  },
  {
   "cell_type": "code",
   "execution_count": 120,
   "id": "b782bc1f-3024-4df2-9360-a2d9b5362044",
   "metadata": {},
   "outputs": [
    {
     "ename": "TypeError",
     "evalue": "Cannot create a consistent method resolution order (MRO) for bases A, B",
     "output_type": "error",
     "traceback": [
      "\u001b[31m---------------------------------------------------------------------------\u001b[39m",
      "\u001b[31mTypeError\u001b[39m                                 Traceback (most recent call last)",
      "\u001b[36mCell\u001b[39m\u001b[36m \u001b[39m\u001b[32mIn[120]\u001b[39m\u001b[32m, line 1\u001b[39m\n\u001b[32m----> \u001b[39m\u001b[32m1\u001b[39m \u001b[38;5;28;43;01mclass\u001b[39;49;00m\u001b[38;5;250;43m \u001b[39;49m\u001b[34;43;01mE\u001b[39;49;00m\u001b[43m(\u001b[49m\u001b[43mA\u001b[49m\u001b[43m,\u001b[49m\u001b[43m \u001b[49m\u001b[43mB\u001b[49m\u001b[43m)\u001b[49m\u001b[43m:\u001b[49m\n\u001b[32m      2\u001b[39m \u001b[43m    \u001b[49m\u001b[38;5;28;43;01mpass\u001b[39;49;00m\n",
      "\u001b[31mTypeError\u001b[39m: Cannot create a consistent method resolution order (MRO) for bases A, B"
     ]
    }
   ],
   "source": [
    "class E(A, B):\n",
    "    pass"
   ]
  },
  {
   "cell_type": "code",
   "execution_count": null,
   "id": "54073330-67c8-450e-a3c6-c2c73ae2e3e1",
   "metadata": {},
   "outputs": [],
   "source": []
  }
 ],
 "metadata": {
  "kernelspec": {
   "display_name": "Python 3 (ipykernel)",
   "language": "python",
   "name": "python3"
  },
  "language_info": {
   "codemirror_mode": {
    "name": "ipython",
    "version": 3
   },
   "file_extension": ".py",
   "mimetype": "text/x-python",
   "name": "python",
   "nbconvert_exporter": "python",
   "pygments_lexer": "ipython3",
   "version": "3.13.2"
  }
 },
 "nbformat": 4,
 "nbformat_minor": 5
}
