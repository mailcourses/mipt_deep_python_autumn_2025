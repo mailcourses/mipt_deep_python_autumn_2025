{
 "cells": [
  {
   "cell_type": "code",
   "execution_count": 1,
   "id": "5749c1c7-87f2-4ed3-82f6-ca5dee3379a7",
   "metadata": {},
   "outputs": [],
   "source": [
    "class Person:\n",
    "    def eat(self):\n",
    "        return 42\n",
    "\n",
    "\n",
    "def fn():\n",
    "    return 42"
   ]
  },
  {
   "cell_type": "code",
   "execution_count": 2,
   "id": "21fe6007-ce73-4ec2-9981-bc9286a71fd6",
   "metadata": {},
   "outputs": [
    {
     "data": {
      "text/plain": [
       "int"
      ]
     },
     "execution_count": 2,
     "metadata": {},
     "output_type": "execute_result"
    }
   ],
   "source": [
    "type(42)"
   ]
  },
  {
   "cell_type": "code",
   "execution_count": 3,
   "id": "8274fce8-68fc-480a-9f29-e8219d2d45aa",
   "metadata": {},
   "outputs": [
    {
     "data": {
      "text/plain": [
       "function"
      ]
     },
     "execution_count": 3,
     "metadata": {},
     "output_type": "execute_result"
    }
   ],
   "source": [
    "type(fn)"
   ]
  },
  {
   "cell_type": "code",
   "execution_count": 4,
   "id": "45b8bc9b-f363-48bd-8e80-a4b3d5d9aa5f",
   "metadata": {},
   "outputs": [
    {
     "data": {
      "text/plain": [
       "list"
      ]
     },
     "execution_count": 4,
     "metadata": {},
     "output_type": "execute_result"
    }
   ],
   "source": [
    "type([1, 2])"
   ]
  },
  {
   "cell_type": "code",
   "execution_count": 5,
   "id": "77dadc03-9d33-4eab-8d06-56ed0cafab0d",
   "metadata": {},
   "outputs": [
    {
     "data": {
      "text/plain": [
       "__main__.Person"
      ]
     },
     "execution_count": 5,
     "metadata": {},
     "output_type": "execute_result"
    }
   ],
   "source": [
    "type(Person())"
   ]
  },
  {
   "cell_type": "code",
   "execution_count": 7,
   "id": "93a8117b-c55e-477d-913f-351b3c2e8b7e",
   "metadata": {},
   "outputs": [
    {
     "data": {
      "text/plain": [
       "method"
      ]
     },
     "execution_count": 7,
     "metadata": {},
     "output_type": "execute_result"
    }
   ],
   "source": [
    "type(Person().eat)"
   ]
  },
  {
   "cell_type": "code",
   "execution_count": 9,
   "id": "a7e4c96c-a7e5-4ddf-bd1f-f41ba0783412",
   "metadata": {},
   "outputs": [
    {
     "data": {
      "text/plain": [
       "(type, type)"
      ]
     },
     "execution_count": 9,
     "metadata": {},
     "output_type": "execute_result"
    }
   ],
   "source": [
    "type(Person), type(object)"
   ]
  },
  {
   "cell_type": "code",
   "execution_count": null,
   "id": "609b85e4-6c7a-44a9-be13-0bda120c086e",
   "metadata": {},
   "outputs": [],
   "source": []
  },
  {
   "cell_type": "code",
   "execution_count": 10,
   "id": "286f2c39-5f90-4665-9a34-e83f26409ac6",
   "metadata": {},
   "outputs": [
    {
     "data": {
      "text/plain": [
       "(True, False)"
      ]
     },
     "execution_count": 10,
     "metadata": {},
     "output_type": "execute_result"
    }
   ],
   "source": [
    "isinstance(Person(), Person), isinstance([1, 2, 3], Person)"
   ]
  },
  {
   "cell_type": "code",
   "execution_count": 11,
   "id": "a08b1619-7ce4-4f8d-ab41-e3052d147016",
   "metadata": {},
   "outputs": [
    {
     "data": {
      "text/plain": [
       "(True, True)"
      ]
     },
     "execution_count": 11,
     "metadata": {},
     "output_type": "execute_result"
    }
   ],
   "source": [
    "isinstance(Person(), object), isinstance([1, 2, 3], object)"
   ]
  },
  {
   "cell_type": "code",
   "execution_count": 12,
   "id": "128e4dc7-db8c-4d8b-bc38-80796ffa6928",
   "metadata": {},
   "outputs": [
    {
     "data": {
      "text/plain": [
       "False"
      ]
     },
     "execution_count": 12,
     "metadata": {},
     "output_type": "execute_result"
    }
   ],
   "source": [
    "isinstance(object(), Person)"
   ]
  },
  {
   "cell_type": "code",
   "execution_count": null,
   "id": "9bb8531b-5159-4f7c-a508-bd8e005df9b3",
   "metadata": {},
   "outputs": [],
   "source": [
    "def isinstance_impl(obj, cls):\n",
    "    return issubclass(obj.__class__, cls)"
   ]
  },
  {
   "cell_type": "code",
   "execution_count": 13,
   "id": "cff5298c-ce79-4dc6-be3f-9dbf3f3f7ba8",
   "metadata": {},
   "outputs": [
    {
     "data": {
      "text/plain": [
       "(True, True)"
      ]
     },
     "execution_count": 13,
     "metadata": {},
     "output_type": "execute_result"
    }
   ],
   "source": [
    "issubclass(Person, object), issubclass(Person, Person)"
   ]
  },
  {
   "cell_type": "code",
   "execution_count": null,
   "id": "b0deebbf-6f2b-4c67-95d3-85352cee4050",
   "metadata": {},
   "outputs": [],
   "source": []
  },
  {
   "cell_type": "code",
   "execution_count": null,
   "id": "c5acacbd-e704-45ae-9512-d49530b8920a",
   "metadata": {},
   "outputs": [],
   "source": []
  },
  {
   "cell_type": "code",
   "execution_count": 14,
   "id": "00a1ab21-35f5-42d6-99fb-738b9fccd0a4",
   "metadata": {},
   "outputs": [
    {
     "data": {
      "text/plain": [
       "(False, False)"
      ]
     },
     "execution_count": 14,
     "metadata": {},
     "output_type": "execute_result"
    }
   ],
   "source": [
    "isinstance(Person(), type), isinstance([1, 2, 3], type)"
   ]
  },
  {
   "cell_type": "code",
   "execution_count": 18,
   "id": "b8b5284e-34ef-4d51-9b8d-6973054e8c0d",
   "metadata": {},
   "outputs": [],
   "source": [
    "# Person() -> Person\n",
    "# Person -> type\n",
    "# Person = type()"
   ]
  },
  {
   "cell_type": "code",
   "execution_count": 19,
   "id": "3d63b445-e38e-4dfc-807c-5cd034479ff9",
   "metadata": {},
   "outputs": [
    {
     "data": {
      "text/plain": [
       "True"
      ]
     },
     "execution_count": 19,
     "metadata": {},
     "output_type": "execute_result"
    }
   ],
   "source": [
    "issubclass(type, object)"
   ]
  },
  {
   "cell_type": "code",
   "execution_count": 21,
   "id": "3624a181-0a7f-48bc-a098-6a0d9c9d00ea",
   "metadata": {},
   "outputs": [
    {
     "data": {
      "text/plain": [
       "(True, True)"
      ]
     },
     "execution_count": 21,
     "metadata": {},
     "output_type": "execute_result"
    }
   ],
   "source": [
    "isinstance(type, object), isinstance(object, type)"
   ]
  },
  {
   "cell_type": "code",
   "execution_count": 22,
   "id": "b7930e6e-2e11-4e42-b133-16f387aa6d59",
   "metadata": {},
   "outputs": [
    {
     "data": {
      "text/plain": [
       "(True, True, True)"
      ]
     },
     "execution_count": 22,
     "metadata": {},
     "output_type": "execute_result"
    }
   ],
   "source": [
    "isinstance(object(), object), isinstance(object, object), issubclass(object, object)"
   ]
  },
  {
   "cell_type": "code",
   "execution_count": 23,
   "id": "c7e3fc97-72b1-461c-a170-6a8b7240267a",
   "metadata": {},
   "outputs": [
    {
     "data": {
      "text/plain": [
       "(True, False, True)"
      ]
     },
     "execution_count": 23,
     "metadata": {},
     "output_type": "execute_result"
    }
   ],
   "source": [
    "isinstance(Person(), Person), isinstance(Person, Person), issubclass(Person, Person)"
   ]
  },
  {
   "cell_type": "code",
   "execution_count": null,
   "id": "dc0829d2-63bc-4230-b936-d7c7a89e66ba",
   "metadata": {},
   "outputs": [],
   "source": []
  },
  {
   "cell_type": "code",
   "execution_count": null,
   "id": "c6fc1920-58a3-4201-98c8-292231c80995",
   "metadata": {},
   "outputs": [],
   "source": []
  },
  {
   "cell_type": "code",
   "execution_count": 24,
   "id": "6063df19-d602-490c-9451-cf62c6dca5a2",
   "metadata": {},
   "outputs": [],
   "source": [
    "class Obj:\n",
    "    pass\n",
    "\n",
    "class Meta(Obj):\n",
    "    pass\n",
    "\n",
    "cls = Meta()"
   ]
  },
  {
   "cell_type": "code",
   "execution_count": 25,
   "id": "f4413284-31aa-4166-94d5-6cd0a336f9e3",
   "metadata": {},
   "outputs": [
    {
     "data": {
      "text/plain": [
       "True"
      ]
     },
     "execution_count": 25,
     "metadata": {},
     "output_type": "execute_result"
    }
   ],
   "source": [
    "isinstance(cls, Meta)"
   ]
  },
  {
   "cell_type": "code",
   "execution_count": null,
   "id": "dbe0f73e-44bd-4d73-ae7a-8ab2484a7846",
   "metadata": {},
   "outputs": [],
   "source": []
  },
  {
   "cell_type": "code",
   "execution_count": null,
   "id": "b9e333a0-e848-45a1-86ef-4c1151b17653",
   "metadata": {},
   "outputs": [],
   "source": []
  },
  {
   "cell_type": "code",
   "execution_count": null,
   "id": "72708191-8a25-47d8-8749-8dfad5d22ec1",
   "metadata": {},
   "outputs": [],
   "source": []
  },
  {
   "cell_type": "code",
   "execution_count": 26,
   "id": "c217fa70-120a-485c-b14e-69a985dd52dc",
   "metadata": {},
   "outputs": [],
   "source": [
    "class Foo:\n",
    "    name = \"foo_name\"\n",
    "\n",
    "    def __init__(self, val):\n",
    "        self.val = val\n",
    "\n",
    "Boo = type(\"Boo\", (Foo,), {\"age\": 99})"
   ]
  },
  {
   "cell_type": "code",
   "execution_count": 27,
   "id": "7f5f668e-11eb-433e-a3b9-c044385ccb5d",
   "metadata": {},
   "outputs": [
    {
     "data": {
      "text/plain": [
       "mappingproxy({'__module__': '__main__',\n",
       "              '__firstlineno__': 1,\n",
       "              'name': 'foo_name',\n",
       "              '__init__': <function __main__.Foo.__init__(self, val)>,\n",
       "              '__static_attributes__': ('val',),\n",
       "              '__dict__': <attribute '__dict__' of 'Foo' objects>,\n",
       "              '__weakref__': <attribute '__weakref__' of 'Foo' objects>,\n",
       "              '__doc__': None})"
      ]
     },
     "execution_count": 27,
     "metadata": {},
     "output_type": "execute_result"
    }
   ],
   "source": [
    "Foo.__dict__"
   ]
  },
  {
   "cell_type": "code",
   "execution_count": 28,
   "id": "2f1d9cd3-ff75-44ca-a159-af1772672171",
   "metadata": {},
   "outputs": [
    {
     "data": {
      "text/plain": [
       "mappingproxy({'age': 99, '__module__': '__main__', '__doc__': None})"
      ]
     },
     "execution_count": 28,
     "metadata": {},
     "output_type": "execute_result"
    }
   ],
   "source": [
    "Boo.__dict__"
   ]
  },
  {
   "cell_type": "code",
   "execution_count": 29,
   "id": "75733ab3-307a-453a-9280-715670e8a83f",
   "metadata": {},
   "outputs": [],
   "source": [
    "NotFoo = Foo"
   ]
  },
  {
   "cell_type": "code",
   "execution_count": 30,
   "id": "3fbd5147-0bbf-4a6c-9992-33b817f62512",
   "metadata": {},
   "outputs": [
    {
     "data": {
      "text/plain": [
       "'Foo'"
      ]
     },
     "execution_count": 30,
     "metadata": {},
     "output_type": "execute_result"
    }
   ],
   "source": [
    "NotFoo.__name__"
   ]
  },
  {
   "cell_type": "code",
   "execution_count": 31,
   "id": "853c56f9-4ca7-4e32-9902-1c5bf084f64e",
   "metadata": {},
   "outputs": [
    {
     "data": {
      "text/plain": [
       "'Boo'"
      ]
     },
     "execution_count": 31,
     "metadata": {},
     "output_type": "execute_result"
    }
   ],
   "source": [
    "Boo.__name__"
   ]
  },
  {
   "cell_type": "code",
   "execution_count": 32,
   "id": "e91bba89-90eb-4809-b1c5-d876ecf88f3c",
   "metadata": {},
   "outputs": [],
   "source": [
    "c = type(\"Boo\", (Foo,), {\"age\": 99})"
   ]
  },
  {
   "cell_type": "code",
   "execution_count": 33,
   "id": "aaeb0371-484c-4516-a841-ea50b078e109",
   "metadata": {},
   "outputs": [
    {
     "data": {
      "text/plain": [
       "'Boo'"
      ]
     },
     "execution_count": 33,
     "metadata": {},
     "output_type": "execute_result"
    }
   ],
   "source": [
    "c.__name__"
   ]
  },
  {
   "cell_type": "code",
   "execution_count": 34,
   "id": "e41967d3-12b0-4778-8173-7db86f54687f",
   "metadata": {},
   "outputs": [
    {
     "data": {
      "text/plain": [
       "99"
      ]
     },
     "execution_count": 34,
     "metadata": {},
     "output_type": "execute_result"
    }
   ],
   "source": [
    "c.age"
   ]
  },
  {
   "cell_type": "code",
   "execution_count": 35,
   "id": "655b4b50-348e-4260-8f3d-28ea58550f90",
   "metadata": {},
   "outputs": [
    {
     "data": {
      "text/plain": [
       "'foo_name'"
      ]
     },
     "execution_count": 35,
     "metadata": {},
     "output_type": "execute_result"
    }
   ],
   "source": [
    "c.name"
   ]
  },
  {
   "cell_type": "code",
   "execution_count": null,
   "id": "cce61b5a-d9df-438b-a629-664c1505019a",
   "metadata": {},
   "outputs": [],
   "source": []
  },
  {
   "cell_type": "code",
   "execution_count": null,
   "id": "0723ae47-60c3-4031-a5eb-02cf87c89bbd",
   "metadata": {},
   "outputs": [],
   "source": []
  },
  {
   "cell_type": "code",
   "execution_count": null,
   "id": "2025cfd9-b586-46b9-96e4-80f459edf51b",
   "metadata": {},
   "outputs": [],
   "source": []
  },
  {
   "cell_type": "code",
   "execution_count": 36,
   "id": "79653813-7b27-43ac-835a-f05a369f89b1",
   "metadata": {},
   "outputs": [],
   "source": [
    "class Foo:\n",
    "    name = \"foo_name\"\n",
    "\n",
    "    def __init__(self, val):\n",
    "        self.val = val\n",
    "\n",
    "Boo = type(\"Boo\", (Foo,), {\"age\": 99, \"print\": lambda self: f\"Boo {self.val=}\"})"
   ]
  },
  {
   "cell_type": "code",
   "execution_count": 37,
   "id": "a2350821-1c86-41ca-a8f0-043be4e290da",
   "metadata": {},
   "outputs": [],
   "source": [
    "b = Boo(42)"
   ]
  },
  {
   "cell_type": "code",
   "execution_count": 38,
   "id": "ecf84fc7-9871-4ba1-bed0-f7f7276d17d5",
   "metadata": {},
   "outputs": [
    {
     "data": {
      "text/plain": [
       "'Boo self.val=42'"
      ]
     },
     "execution_count": 38,
     "metadata": {},
     "output_type": "execute_result"
    }
   ],
   "source": [
    "b.print()"
   ]
  },
  {
   "cell_type": "code",
   "execution_count": 39,
   "id": "06765c2d-5ad4-44f8-b7e4-b928a6992e24",
   "metadata": {},
   "outputs": [
    {
     "data": {
      "text/plain": [
       "<bound method <lambda> of <__main__.Boo object at 0x10e6f2120>>"
      ]
     },
     "execution_count": 39,
     "metadata": {},
     "output_type": "execute_result"
    }
   ],
   "source": [
    "b.print"
   ]
  },
  {
   "cell_type": "code",
   "execution_count": null,
   "id": "c6e5a19a-0c4b-47c6-9ebe-5c286196671d",
   "metadata": {},
   "outputs": [],
   "source": []
  },
  {
   "cell_type": "code",
   "execution_count": null,
   "id": "19c1e18d-fb43-4b75-8e38-6554e6adbf16",
   "metadata": {},
   "outputs": [],
   "source": []
  },
  {
   "cell_type": "code",
   "execution_count": 45,
   "id": "3ee27696-1623-4489-b826-4cd4dd1344a9",
   "metadata": {},
   "outputs": [],
   "source": [
    "class Foo:\n",
    "    __date = \"2025\"\n",
    "    name = \"foo_name\"\n",
    "\n",
    "    def __init__(self, val):\n",
    "        self.val = val\n",
    "\n",
    "Boo = type(\"Boo\", (Foo,), {\"__age\": 99, \"print\": lambda self: f\"Boo {self.__age=}\"})"
   ]
  },
  {
   "cell_type": "code",
   "execution_count": 41,
   "id": "12ea4e7e-2b6a-4d63-a788-64b3d1dca857",
   "metadata": {},
   "outputs": [],
   "source": [
    "b = Boo(42)"
   ]
  },
  {
   "cell_type": "code",
   "execution_count": 42,
   "id": "3c7f43fa-8144-4429-971a-fa2d35b51368",
   "metadata": {},
   "outputs": [
    {
     "data": {
      "text/plain": [
       "'Boo self.__age=99'"
      ]
     },
     "execution_count": 42,
     "metadata": {},
     "output_type": "execute_result"
    }
   ],
   "source": [
    "b.print()"
   ]
  },
  {
   "cell_type": "code",
   "execution_count": 44,
   "id": "67963d52-4d10-450d-9a77-21db0341d3f0",
   "metadata": {},
   "outputs": [
    {
     "data": {
      "text/plain": [
       "mappingproxy({'__age': 99,\n",
       "              'print': <function __main__.<lambda>(self)>,\n",
       "              '__module__': '__main__',\n",
       "              '__doc__': None})"
      ]
     },
     "execution_count": 44,
     "metadata": {},
     "output_type": "execute_result"
    }
   ],
   "source": [
    "Boo.__dict__"
   ]
  },
  {
   "cell_type": "code",
   "execution_count": 46,
   "id": "7e42443d-c70b-4db0-9370-05fed7f204a1",
   "metadata": {},
   "outputs": [
    {
     "data": {
      "text/plain": [
       "mappingproxy({'__module__': '__main__',\n",
       "              '__firstlineno__': 1,\n",
       "              '_Foo__date': '2025',\n",
       "              'name': 'foo_name',\n",
       "              '__init__': <function __main__.Foo.__init__(self, val)>,\n",
       "              '__static_attributes__': ('val',),\n",
       "              '__dict__': <attribute '__dict__' of 'Foo' objects>,\n",
       "              '__weakref__': <attribute '__weakref__' of 'Foo' objects>,\n",
       "              '__doc__': None})"
      ]
     },
     "execution_count": 46,
     "metadata": {},
     "output_type": "execute_result"
    }
   ],
   "source": [
    "Foo.__dict__"
   ]
  },
  {
   "cell_type": "code",
   "execution_count": null,
   "id": "aa46cfa9-4c0f-4335-8723-d9bfe8a98ba7",
   "metadata": {},
   "outputs": [],
   "source": []
  },
  {
   "cell_type": "code",
   "execution_count": null,
   "id": "faac85ec-fcea-46a2-b375-3692cbde5ddc",
   "metadata": {},
   "outputs": [],
   "source": []
  },
  {
   "cell_type": "code",
   "execution_count": null,
   "id": "c1d67a5d-8281-438f-b54b-f98c6afe0ab0",
   "metadata": {},
   "outputs": [],
   "source": []
  },
  {
   "cell_type": "code",
   "execution_count": 50,
   "id": "1c2408bf-cb47-46f9-9603-55ef528262c0",
   "metadata": {},
   "outputs": [],
   "source": [
    "class AMeta(type):\n",
    "    def __new__(mcs, name, bases, classdict, **kwargs):\n",
    "        # classdict[\"_Person__private\"] = \"private_value\"\n",
    "        # classdict[\"__str__\"] = lambda self: f\"Person str {self.age=}\"\n",
    "\n",
    "        print(f\"AMeta.__new__ {name=}, {bases=}, {classdict=}, {kwargs=}\")\n",
    "\n",
    "        cls = super().__new__(mcs, name, bases, classdict)\n",
    "        print(\"AMeta __new__\", cls)\n",
    "\n",
    "        return cls\n",
    "\n",
    "    def __init__(cls, name, bases, classdict, **kwargs):\n",
    "        print('AMeta __init__', cls, name, bases, classdict)\n",
    "        super().__init__(name, bases, classdict, **kwargs)\n",
    "\n",
    "    def __call__(cls, *args, **kwargs):\n",
    "        print('AMeta __call__', cls, args, kwargs)\n",
    "        return super().__call__(*args, **kwargs)\n",
    "\n",
    "    @classmethod\n",
    "    def __prepare__(mcs, name, bases, **kwargs):\n",
    "        print('AMeta __prepare__', mcs, name, bases, kwargs)\n",
    "        \n",
    "        return {'added_attr_a': 2, 'added_attr_b': 99}"
   ]
  },
  {
   "cell_type": "code",
   "execution_count": 51,
   "id": "92bccd64-55b7-47fb-a8cc-56eefd87a04f",
   "metadata": {},
   "outputs": [
    {
     "name": "stdout",
     "output_type": "stream",
     "text": [
      "AMeta __prepare__ <class '__main__.AMeta'> Person () {}\n",
      "AMeta.__new__ name='Person', bases=(), classdict={'added_attr_a': 2, 'added_attr_b': 99, '__module__': '__main__', '__qualname__': 'Person', '__firstlineno__': 1, 'name': 'Steve', '__new__': <function Person.__new__ at 0x10e7f0ea0>, '__init__': <function Person.__init__ at 0x10e7f16c0>, '__static_attributes__': ('age',), '__classcell__': <cell at 0x10ed50dc0: empty>}, kwargs={}\n",
      "AMeta __new__ <class '__main__.Person'>\n",
      "AMeta __init__ <class '__main__.Person'> Person () {'added_attr_a': 2, 'added_attr_b': 99, '__module__': '__main__', '__qualname__': 'Person', '__firstlineno__': 1, 'name': 'Steve', '__new__': <function Person.__new__ at 0x10e7f0ea0>, '__init__': <function Person.__init__ at 0x10e7f16c0>, '__static_attributes__': ('age',), '__classcell__': <cell at 0x10ed50dc0: AMeta object at 0x7fdfdf62cb00>}\n"
     ]
    }
   ],
   "source": [
    "class Person(metaclass=AMeta):\n",
    "    name = \"Steve\"\n",
    "\n",
    "    def __new__(cls, *args, **kwargs):\n",
    "        inst = super().__new__(cls)\n",
    "        print(f\"Person.__new__ {inst=}, {args=}, {kwargs=}\")\n",
    "\n",
    "        return inst\n",
    "\n",
    "    def __init__(self, age):\n",
    "        self.age = age\n",
    "        print(f\"Person.__init__ {age=}, {self=}\")"
   ]
  },
  {
   "cell_type": "code",
   "execution_count": 53,
   "id": "1a69acb4-c2bb-4e32-b552-c6dc40662eaf",
   "metadata": {},
   "outputs": [
    {
     "data": {
      "text/plain": [
       "__main__.Person"
      ]
     },
     "execution_count": 53,
     "metadata": {},
     "output_type": "execute_result"
    }
   ],
   "source": [
    "Person"
   ]
  },
  {
   "cell_type": "code",
   "execution_count": 54,
   "id": "cd9db583-407e-43c6-8314-e0eaf8693082",
   "metadata": {},
   "outputs": [
    {
     "name": "stdout",
     "output_type": "stream",
     "text": [
      "AMeta __call__ <class '__main__.Person'> (99,) {}\n",
      "Person.__new__ inst=<__main__.Person object at 0x10e6f1fd0>, args=(99,), kwargs={}\n",
      "Person.__init__ age=99, self=<__main__.Person object at 0x10e6f1fd0>\n"
     ]
    }
   ],
   "source": [
    "pers = Person(99)"
   ]
  },
  {
   "cell_type": "code",
   "execution_count": 55,
   "id": "78faaacd-8576-4d2b-86be-492cf0e41b47",
   "metadata": {},
   "outputs": [
    {
     "data": {
      "text/plain": [
       "mappingproxy({'added_attr_a': 2,\n",
       "              'added_attr_b': 99,\n",
       "              '__module__': '__main__',\n",
       "              '__firstlineno__': 1,\n",
       "              'name': 'Steve',\n",
       "              '__new__': <staticmethod(<function Person.__new__ at 0x10e7f0ea0>)>,\n",
       "              '__init__': <function __main__.Person.__init__(self, age)>,\n",
       "              '__static_attributes__': ('age',),\n",
       "              '__dict__': <attribute '__dict__' of 'Person' objects>,\n",
       "              '__weakref__': <attribute '__weakref__' of 'Person' objects>,\n",
       "              '__doc__': None})"
      ]
     },
     "execution_count": 55,
     "metadata": {},
     "output_type": "execute_result"
    }
   ],
   "source": [
    "Person.__dict__"
   ]
  },
  {
   "cell_type": "code",
   "execution_count": 56,
   "id": "2914ad0a-fd57-4679-8ccc-bb47955a2d90",
   "metadata": {},
   "outputs": [
    {
     "name": "stdout",
     "output_type": "stream",
     "text": [
      "AMeta __prepare__ <class '__main__.AMeta'> Student (<class '__main__.Person'>,) {}\n",
      "AMeta.__new__ name='Student', bases=(<class '__main__.Person'>,), classdict={'added_attr_a': 2, 'added_attr_b': 99, '__module__': '__main__', '__qualname__': 'Student', '__firstlineno__': 1, '__static_attributes__': ()}, kwargs={}\n",
      "AMeta __new__ <class '__main__.Student'>\n",
      "AMeta __init__ <class '__main__.Student'> Student (<class '__main__.Person'>,) {'added_attr_a': 2, 'added_attr_b': 99, '__module__': '__main__', '__qualname__': 'Student', '__firstlineno__': 1, '__static_attributes__': ()}\n"
     ]
    }
   ],
   "source": [
    "class Student(Person):\n",
    "    pass"
   ]
  },
  {
   "cell_type": "code",
   "execution_count": 57,
   "id": "df4b35fa-f596-484c-8c9b-d0bb1974416b",
   "metadata": {},
   "outputs": [
    {
     "name": "stdout",
     "output_type": "stream",
     "text": [
      "AMeta __call__ <class '__main__.Student'> (99,) {}\n",
      "Person.__new__ inst=<__main__.Student object at 0x10e6f1d30>, args=(99,), kwargs={}\n",
      "Person.__init__ age=99, self=<__main__.Student object at 0x10e6f1d30>\n"
     ]
    }
   ],
   "source": [
    "st = Student(99)"
   ]
  },
  {
   "cell_type": "code",
   "execution_count": null,
   "id": "5dea9550-9f64-4e9a-8e5f-973ed2706ec6",
   "metadata": {},
   "outputs": [],
   "source": []
  },
  {
   "cell_type": "code",
   "execution_count": null,
   "id": "524d3318-db3f-4d88-ae35-a08dee716129",
   "metadata": {},
   "outputs": [],
   "source": []
  },
  {
   "cell_type": "code",
   "execution_count": 59,
   "id": "da221bbe-5af3-419b-a622-2ba232d7d6b7",
   "metadata": {},
   "outputs": [
    {
     "data": {
      "text/plain": [
       "(type, type)"
      ]
     },
     "execution_count": 59,
     "metadata": {},
     "output_type": "execute_result"
    }
   ],
   "source": [
    "type(AMeta), type(type)"
   ]
  },
  {
   "cell_type": "code",
   "execution_count": 60,
   "id": "2ccfe9f5-1621-41cf-9c8b-a320638cd6a9",
   "metadata": {},
   "outputs": [
    {
     "name": "stdout",
     "output_type": "stream",
     "text": [
      "AMeta.__new__ name='PhD', bases=(<class '__main__.Person'>,), classdict={}, kwargs={}\n",
      "AMeta __new__ <class '__main__.PhD'>\n",
      "AMeta __init__ <class '__main__.PhD'> PhD (<class '__main__.Person'>,) {}\n"
     ]
    }
   ],
   "source": [
    "PhD = AMeta(\"PhD\", (Person,), {})"
   ]
  },
  {
   "cell_type": "code",
   "execution_count": 61,
   "id": "4ee083d4-e86e-4e8f-b1e7-98cd96482f44",
   "metadata": {},
   "outputs": [
    {
     "name": "stdout",
     "output_type": "stream",
     "text": [
      "AMeta __call__ <class '__main__.PhD'> (42,) {}\n",
      "Person.__new__ inst=<__main__.PhD object at 0x10e6f1e80>, args=(42,), kwargs={}\n",
      "Person.__init__ age=42, self=<__main__.PhD object at 0x10e6f1e80>\n"
     ]
    }
   ],
   "source": [
    "obj = PhD(42)"
   ]
  },
  {
   "cell_type": "code",
   "execution_count": null,
   "id": "6238f194-9072-4592-ad1b-3cb62c65fe7d",
   "metadata": {},
   "outputs": [],
   "source": []
  },
  {
   "cell_type": "code",
   "execution_count": null,
   "id": "cc509855-9366-425f-bb96-0609e457f465",
   "metadata": {},
   "outputs": [],
   "source": []
  },
  {
   "cell_type": "code",
   "execution_count": 62,
   "id": "280bb028-0166-419e-9022-ca0ca40914d9",
   "metadata": {},
   "outputs": [],
   "source": [
    "class Singleton:\n",
    "    _instance = None\n",
    "    \n",
    "    def __new__(cls, *args, **kwargs):\n",
    "        if cls._instance is None:\n",
    "            cls._instance = super().__new__(cls)\n",
    "        return cls._instance\n",
    "\n",
    "\n",
    "class Animal(Singleton):\n",
    "    def __init__(self, name):\n",
    "        print(\"Animal.__init__\", name)\n",
    "        self.name = name"
   ]
  },
  {
   "cell_type": "code",
   "execution_count": 63,
   "id": "f5242647-970c-4214-857a-b139acd7942d",
   "metadata": {},
   "outputs": [
    {
     "name": "stdout",
     "output_type": "stream",
     "text": [
      "Animal.__init__ tiger\n"
     ]
    }
   ],
   "source": [
    "tiger = Animal(\"tiger\")"
   ]
  },
  {
   "cell_type": "code",
   "execution_count": 64,
   "id": "6aec206a-97ec-4e23-ae98-eadabd343179",
   "metadata": {},
   "outputs": [
    {
     "data": {
      "text/plain": [
       "'tiger'"
      ]
     },
     "execution_count": 64,
     "metadata": {},
     "output_type": "execute_result"
    }
   ],
   "source": [
    "tiger.name"
   ]
  },
  {
   "cell_type": "code",
   "execution_count": null,
   "id": "f0858e35-9685-49c2-be8f-054d7c7be1a7",
   "metadata": {},
   "outputs": [],
   "source": []
  },
  {
   "cell_type": "code",
   "execution_count": 65,
   "id": "cc4b278f-1247-4ebf-9476-9d24b16394e8",
   "metadata": {},
   "outputs": [
    {
     "name": "stdout",
     "output_type": "stream",
     "text": [
      "Animal.__init__ zebra\n"
     ]
    }
   ],
   "source": [
    "zebra = Animal(\"zebra\")"
   ]
  },
  {
   "cell_type": "code",
   "execution_count": 66,
   "id": "36f02955-9fcc-4cf5-9fa5-19b13c09975d",
   "metadata": {},
   "outputs": [
    {
     "data": {
      "text/plain": [
       "'zebra'"
      ]
     },
     "execution_count": 66,
     "metadata": {},
     "output_type": "execute_result"
    }
   ],
   "source": [
    "zebra.name"
   ]
  },
  {
   "cell_type": "code",
   "execution_count": 67,
   "id": "2d9cf11c-6427-46fe-a737-546e51bf2301",
   "metadata": {},
   "outputs": [
    {
     "data": {
      "text/plain": [
       "True"
      ]
     },
     "execution_count": 67,
     "metadata": {},
     "output_type": "execute_result"
    }
   ],
   "source": [
    "zebra is tiger"
   ]
  },
  {
   "cell_type": "code",
   "execution_count": 68,
   "id": "ee8d5042-3b8b-4fef-ae73-5554b3b0d748",
   "metadata": {},
   "outputs": [
    {
     "data": {
      "text/plain": [
       "'zebra'"
      ]
     },
     "execution_count": 68,
     "metadata": {},
     "output_type": "execute_result"
    }
   ],
   "source": [
    "tiger.name"
   ]
  },
  {
   "cell_type": "code",
   "execution_count": null,
   "id": "f7a592cc-a15b-4611-82b0-bb9abf61b764",
   "metadata": {},
   "outputs": [],
   "source": []
  },
  {
   "cell_type": "code",
   "execution_count": null,
   "id": "25d1abf5-539c-49b0-9c2a-1aaf6b2ceb0b",
   "metadata": {},
   "outputs": [],
   "source": []
  },
  {
   "cell_type": "code",
   "execution_count": 69,
   "id": "d9155592-fb3a-43c0-94a0-504de06d0652",
   "metadata": {},
   "outputs": [],
   "source": [
    "class SingletonMeta(type):\n",
    "    _instances = {}\n",
    "\n",
    "    def __call__(cls, *args, **kwargs):\n",
    "        print(f\"Single call {cls=}, {args=}, {kwargs=}\")\n",
    "\n",
    "        if cls not in cls._instances:\n",
    "            cls._instances[cls] = super().__call__(*args, **kwargs)\n",
    "\n",
    "        return cls._instances[cls]"
   ]
  },
  {
   "cell_type": "code",
   "execution_count": 70,
   "id": "b2cce97d-70bb-4603-82c0-c27f511a0e06",
   "metadata": {},
   "outputs": [],
   "source": [
    "class DbConnector(metaclass=SingletonMeta):\n",
    "    def __init__(self, creds):\n",
    "        print(\"DbConnector\", creds)\n",
    "        self.creds = creds"
   ]
  },
  {
   "cell_type": "code",
   "execution_count": 71,
   "id": "8fe2c7b5-23fe-4eb8-8aaa-5fe59ee58d48",
   "metadata": {},
   "outputs": [
    {
     "data": {
      "text/plain": [
       "{}"
      ]
     },
     "execution_count": 71,
     "metadata": {},
     "output_type": "execute_result"
    }
   ],
   "source": [
    "DbConnector._instances"
   ]
  },
  {
   "cell_type": "code",
   "execution_count": 72,
   "id": "aa33db75-e017-45b8-8fc3-cf74af9fe923",
   "metadata": {},
   "outputs": [
    {
     "data": {
      "text/plain": [
       "True"
      ]
     },
     "execution_count": 72,
     "metadata": {},
     "output_type": "execute_result"
    }
   ],
   "source": [
    "DbConnector._instances is SingletonMeta._instances"
   ]
  },
  {
   "cell_type": "code",
   "execution_count": 73,
   "id": "af89a3ff-34b3-4e1a-9ed8-da7f5e1e5a4a",
   "metadata": {},
   "outputs": [
    {
     "data": {
      "text/plain": [
       "mappingproxy({'__module__': '__main__',\n",
       "              '__firstlineno__': 1,\n",
       "              '__init__': <function __main__.DbConnector.__init__(self, creds)>,\n",
       "              '__static_attributes__': ('creds',),\n",
       "              '__dict__': <attribute '__dict__' of 'DbConnector' objects>,\n",
       "              '__weakref__': <attribute '__weakref__' of 'DbConnector' objects>,\n",
       "              '__doc__': None})"
      ]
     },
     "execution_count": 73,
     "metadata": {},
     "output_type": "execute_result"
    }
   ],
   "source": [
    "DbConnector.__dict__"
   ]
  },
  {
   "cell_type": "code",
   "execution_count": 74,
   "id": "1ee21882-0f3c-4c1a-ad87-9d8527205dca",
   "metadata": {},
   "outputs": [
    {
     "name": "stdout",
     "output_type": "stream",
     "text": [
      "Single call cls=<class '__main__.DbConnector'>, args=('sqlite',), kwargs={}\n",
      "DbConnector sqlite\n"
     ]
    }
   ],
   "source": [
    "db1 = DbConnector(\"sqlite\")"
   ]
  },
  {
   "cell_type": "code",
   "execution_count": 75,
   "id": "967e5000-13fa-43da-b6b3-b83a0abb008a",
   "metadata": {},
   "outputs": [
    {
     "data": {
      "text/plain": [
       "'sqlite'"
      ]
     },
     "execution_count": 75,
     "metadata": {},
     "output_type": "execute_result"
    }
   ],
   "source": [
    "db1.creds"
   ]
  },
  {
   "cell_type": "code",
   "execution_count": 76,
   "id": "8bfff332-fb64-48dc-aad5-4b7fe078cfea",
   "metadata": {},
   "outputs": [
    {
     "name": "stdout",
     "output_type": "stream",
     "text": [
      "Single call cls=<class '__main__.DbConnector'>, args=('mysql',), kwargs={}\n"
     ]
    }
   ],
   "source": [
    "db2 = DbConnector(\"mysql\")"
   ]
  },
  {
   "cell_type": "code",
   "execution_count": 77,
   "id": "23f95e4b-d66f-4772-ba7c-541d5418ebb5",
   "metadata": {},
   "outputs": [
    {
     "data": {
      "text/plain": [
       "('sqlite', 'sqlite', True)"
      ]
     },
     "execution_count": 77,
     "metadata": {},
     "output_type": "execute_result"
    }
   ],
   "source": [
    "db1.creds, db2.creds, db1 is db2"
   ]
  },
  {
   "cell_type": "code",
   "execution_count": 79,
   "id": "0d63604b-c344-41cd-af77-76838dab6ca2",
   "metadata": {},
   "outputs": [
    {
     "data": {
      "text/plain": [
       "({__main__.DbConnector: <__main__.DbConnector at 0x10e6f2cf0>},\n",
       " {__main__.DbConnector: <__main__.DbConnector at 0x10e6f2cf0>})"
      ]
     },
     "execution_count": 79,
     "metadata": {},
     "output_type": "execute_result"
    }
   ],
   "source": [
    "DbConnector._instances, SingletonMeta._instances"
   ]
  },
  {
   "cell_type": "code",
   "execution_count": null,
   "id": "f7bd5a19-a1ca-4085-8693-c1121653beeb",
   "metadata": {},
   "outputs": [],
   "source": []
  },
  {
   "cell_type": "code",
   "execution_count": 80,
   "id": "a324b863-41f9-4c6a-88eb-24fa1aec2128",
   "metadata": {},
   "outputs": [],
   "source": [
    "class NetConnector(metaclass=SingletonMeta):\n",
    "    def __init__(self, net):\n",
    "        print(\"NetConnector\", net)\n",
    "        self.net = net"
   ]
  },
  {
   "cell_type": "code",
   "execution_count": 81,
   "id": "10e28930-b586-4e9c-b320-043832f496b9",
   "metadata": {},
   "outputs": [
    {
     "name": "stdout",
     "output_type": "stream",
     "text": [
      "Single call cls=<class '__main__.NetConnector'>, args=('tcp',), kwargs={}\n",
      "NetConnector tcp\n"
     ]
    }
   ],
   "source": [
    "tcp = NetConnector(\"tcp\")"
   ]
  },
  {
   "cell_type": "code",
   "execution_count": 82,
   "id": "0ebab6b6-f79f-4ea3-b695-2bae4db3e129",
   "metadata": {},
   "outputs": [
    {
     "name": "stdout",
     "output_type": "stream",
     "text": [
      "Single call cls=<class '__main__.NetConnector'>, args=('udp',), kwargs={}\n"
     ]
    }
   ],
   "source": [
    "udp = NetConnector(\"udp\")"
   ]
  },
  {
   "cell_type": "code",
   "execution_count": 83,
   "id": "64146049-da4e-43ac-a58d-4dd2108fb0cc",
   "metadata": {},
   "outputs": [
    {
     "data": {
      "text/plain": [
       "{__main__.DbConnector: <__main__.DbConnector at 0x10e6f2cf0>,\n",
       " __main__.NetConnector: <__main__.NetConnector at 0x10e6f3230>}"
      ]
     },
     "execution_count": 83,
     "metadata": {},
     "output_type": "execute_result"
    }
   ],
   "source": [
    "SingletonMeta._instances"
   ]
  },
  {
   "cell_type": "code",
   "execution_count": null,
   "id": "32568208-74b9-4060-bd12-89b57e180d90",
   "metadata": {},
   "outputs": [],
   "source": []
  },
  {
   "cell_type": "code",
   "execution_count": null,
   "id": "82e94a5e-e8c9-4d9d-954e-fe1f3f99e995",
   "metadata": {},
   "outputs": [],
   "source": []
  },
  {
   "cell_type": "code",
   "execution_count": null,
   "id": "696332ee-9772-401d-a1e0-d0bc49af36eb",
   "metadata": {},
   "outputs": [],
   "source": []
  },
  {
   "cell_type": "code",
   "execution_count": null,
   "id": "906941b2-c06e-47fe-ae56-cfde5725f854",
   "metadata": {},
   "outputs": [],
   "source": []
  },
  {
   "cell_type": "code",
   "execution_count": null,
   "id": "f4e823bd-165b-4a52-9394-6d4c73f440e0",
   "metadata": {},
   "outputs": [],
   "source": []
  },
  {
   "cell_type": "code",
   "execution_count": null,
   "id": "7b31deb1-de03-4d9e-8bfc-fd99f57a56c6",
   "metadata": {},
   "outputs": [],
   "source": []
  },
  {
   "cell_type": "code",
   "execution_count": null,
   "id": "5be7f26f-337d-450e-a13e-02f23782c811",
   "metadata": {},
   "outputs": [],
   "source": []
  },
  {
   "cell_type": "markdown",
   "id": "c03c9283-08df-4172-a92a-835e19d5adb9",
   "metadata": {},
   "source": [
    "# ABC"
   ]
  },
  {
   "cell_type": "code",
   "execution_count": 84,
   "id": "96fea329-2c95-4ff9-88ec-db49f584dc2c",
   "metadata": {},
   "outputs": [],
   "source": [
    "from abc import ABC, ABCMeta, abstractmethod"
   ]
  },
  {
   "cell_type": "code",
   "execution_count": 94,
   "id": "8daadfca-259b-4115-8f85-6e789c17353a",
   "metadata": {},
   "outputs": [],
   "source": [
    "class Person(ABC):\n",
    "    @abstractmethod\n",
    "    def eat(self, food):\n",
    "        print(f\"Person.eat {food=}\")\n",
    "        return \"tasty\"\n",
    "\n",
    "    @abstractmethod\n",
    "    def sleep(self):\n",
    "        return NotImplemented\n",
    "\n",
    "    def study(self, food):\n",
    "        print(f\"Person.study {food=}\")\n",
    "        print(self.eat(food))\n",
    "        self.sleep()"
   ]
  },
  {
   "cell_type": "code",
   "execution_count": 86,
   "id": "e211635a-4586-4056-946d-29a120bc171c",
   "metadata": {},
   "outputs": [
    {
     "ename": "TypeError",
     "evalue": "Can't instantiate abstract class Person without an implementation for abstract methods 'eat', 'sleep'",
     "output_type": "error",
     "traceback": [
      "\u001b[31m---------------------------------------------------------------------------\u001b[39m",
      "\u001b[31mTypeError\u001b[39m                                 Traceback (most recent call last)",
      "\u001b[36mCell\u001b[39m\u001b[36m \u001b[39m\u001b[32mIn[86]\u001b[39m\u001b[32m, line 1\u001b[39m\n\u001b[32m----> \u001b[39m\u001b[32m1\u001b[39m steve = \u001b[43mPerson\u001b[49m\u001b[43m(\u001b[49m\u001b[43m)\u001b[49m\n",
      "\u001b[31mTypeError\u001b[39m: Can't instantiate abstract class Person without an implementation for abstract methods 'eat', 'sleep'"
     ]
    }
   ],
   "source": [
    "steve = Person()"
   ]
  },
  {
   "cell_type": "code",
   "execution_count": 95,
   "id": "08aa4a81-3d27-4d92-a1d2-c5f3b1d890d8",
   "metadata": {},
   "outputs": [],
   "source": [
    "class Student(Person):\n",
    "    def sleep(self):\n",
    "        print(\"Student.sleep\")\n",
    "        return \"no sleep\"\n",
    "\n",
    "\n",
    "class HungryStudent(Student):\n",
    "    def eat(self, food):\n",
    "        print(f\"HungryStudent {food=}\")\n",
    "        return super().eat(food)"
   ]
  },
  {
   "cell_type": "code",
   "execution_count": 96,
   "id": "4aea5cfe-96c9-4ea5-b215-3a00c1db3788",
   "metadata": {},
   "outputs": [],
   "source": [
    "steve = HungryStudent()"
   ]
  },
  {
   "cell_type": "code",
   "execution_count": 97,
   "id": "48bf5782-c4aa-48e3-8878-bc9dd898e1a3",
   "metadata": {},
   "outputs": [
    {
     "name": "stdout",
     "output_type": "stream",
     "text": [
      "Person.study food='apple'\n",
      "HungryStudent food='apple'\n",
      "Person.eat food='apple'\n",
      "tasty\n",
      "Student.sleep\n"
     ]
    }
   ],
   "source": [
    "steve.study(\"apple\")"
   ]
  },
  {
   "cell_type": "code",
   "execution_count": 100,
   "id": "82b76af9-8da0-49b3-ab24-0c33a82b637a",
   "metadata": {},
   "outputs": [
    {
     "name": "stdout",
     "output_type": "stream",
     "text": [
      "Student.sleep\n"
     ]
    },
    {
     "data": {
      "text/plain": [
       "'no sleep'"
      ]
     },
     "execution_count": 100,
     "metadata": {},
     "output_type": "execute_result"
    }
   ],
   "source": [
    "steve.sleep()"
   ]
  },
  {
   "cell_type": "code",
   "execution_count": null,
   "id": "11bfbefa-f0a3-4f95-9e99-e0070fb520d2",
   "metadata": {},
   "outputs": [],
   "source": []
  },
  {
   "cell_type": "code",
   "execution_count": 98,
   "id": "4ff08a9f-502c-45bc-bf57-8ed788ba2011",
   "metadata": {},
   "outputs": [
    {
     "data": {
      "text/plain": [
       "mappingproxy({'__module__': '__main__',\n",
       "              '__firstlineno__': 7,\n",
       "              'eat': <function __main__.HungryStudent.eat(self, food)>,\n",
       "              '__static_attributes__': (),\n",
       "              '__doc__': None,\n",
       "              '__abstractmethods__': frozenset(),\n",
       "              '_abc_impl': <_abc._abc_data at 0x10efba3c0>})"
      ]
     },
     "execution_count": 98,
     "metadata": {},
     "output_type": "execute_result"
    }
   ],
   "source": [
    "HungryStudent.__dict__"
   ]
  },
  {
   "cell_type": "code",
   "execution_count": 99,
   "id": "18985f28-8262-4a81-a629-c64cd2d5c02d",
   "metadata": {},
   "outputs": [
    {
     "data": {
      "text/plain": [
       "mappingproxy({'__module__': '__main__',\n",
       "              '__firstlineno__': 1,\n",
       "              'eat': <function __main__.Person.eat(self, food)>,\n",
       "              'sleep': <function __main__.Person.sleep(self)>,\n",
       "              'study': <function __main__.Person.study(self, food)>,\n",
       "              '__static_attributes__': (),\n",
       "              '__dict__': <attribute '__dict__' of 'Person' objects>,\n",
       "              '__weakref__': <attribute '__weakref__' of 'Person' objects>,\n",
       "              '__doc__': None,\n",
       "              '__abstractmethods__': frozenset({'eat', 'sleep'}),\n",
       "              '_abc_impl': <_abc._abc_data at 0x10f0c7bc0>})"
      ]
     },
     "execution_count": 99,
     "metadata": {},
     "output_type": "execute_result"
    }
   ],
   "source": [
    "Person.__dict__"
   ]
  },
  {
   "cell_type": "code",
   "execution_count": 101,
   "id": "d630fdbb-5730-4e24-b4ac-d73312f12475",
   "metadata": {},
   "outputs": [
    {
     "data": {
      "text/plain": [
       "(True, True)"
      ]
     },
     "execution_count": 101,
     "metadata": {},
     "output_type": "execute_result"
    }
   ],
   "source": [
    "isinstance(steve, Person), isinstance(steve, HungryStudent)"
   ]
  },
  {
   "cell_type": "code",
   "execution_count": 102,
   "id": "942a8dac-0ea2-481e-a68c-b57df054879b",
   "metadata": {},
   "outputs": [
    {
     "data": {
      "text/plain": [
       "(False, False)"
      ]
     },
     "execution_count": 102,
     "metadata": {},
     "output_type": "execute_result"
    }
   ],
   "source": [
    "isinstance([1, 2, 3], Person), isinstance([1, 2, 3], HungryStudent)"
   ]
  },
  {
   "cell_type": "code",
   "execution_count": 103,
   "id": "26dc863c-1dad-45ed-95cb-024aaafc7838",
   "metadata": {},
   "outputs": [
    {
     "data": {
      "text/plain": [
       "list"
      ]
     },
     "execution_count": 103,
     "metadata": {},
     "output_type": "execute_result"
    }
   ],
   "source": [
    "Person.register(list)"
   ]
  },
  {
   "cell_type": "code",
   "execution_count": 104,
   "id": "7bcf8c77-79e3-4167-9c5b-5a65500d2d81",
   "metadata": {},
   "outputs": [
    {
     "data": {
      "text/plain": [
       "(True, False)"
      ]
     },
     "execution_count": 104,
     "metadata": {},
     "output_type": "execute_result"
    }
   ],
   "source": [
    "isinstance([1, 2, 3], Person), isinstance([1, 2, 3], HungryStudent)"
   ]
  },
  {
   "cell_type": "code",
   "execution_count": 106,
   "id": "b1c36005-5a8f-41fc-8f67-a5b725a4117a",
   "metadata": {},
   "outputs": [
    {
     "data": {
      "text/plain": [
       "(True, False, True)"
      ]
     },
     "execution_count": 106,
     "metadata": {},
     "output_type": "execute_result"
    }
   ],
   "source": [
    "issubclass(list, Person), issubclass(list, HungryStudent), issubclass(HungryStudent, Person)"
   ]
  },
  {
   "cell_type": "code",
   "execution_count": null,
   "id": "9cafb131-7791-4261-a00d-7f2c141d9d3f",
   "metadata": {},
   "outputs": [],
   "source": []
  },
  {
   "cell_type": "code",
   "execution_count": null,
   "id": "d802fc5c-b6cf-41ee-8bbf-1d6edd17b92c",
   "metadata": {},
   "outputs": [],
   "source": []
  },
  {
   "cell_type": "code",
   "execution_count": null,
   "id": "24670012-0c00-4943-8901-080020584b0f",
   "metadata": {},
   "outputs": [],
   "source": []
  },
  {
   "cell_type": "code",
   "execution_count": 112,
   "id": "b00e29ea-ed86-4938-987b-555076231761",
   "metadata": {},
   "outputs": [
    {
     "name": "stdout",
     "output_type": "stream",
     "text": [
      "Predictable.__subclasshook__ cls=<class '__main__.Predictable'>, C=<class '__main__.RandomTree'>\n",
      "Predictable.__subclasshook__ cls=<class '__main__.Predictable'>, C=<class '__main__.TrafficLight'>\n",
      "TrainPredictable.__subclasshook__ cls=<class '__main__.TrainPredictable'>, C=<class '__main__.TrafficLight'>\n",
      "Predictable.__subclasshook__ cls=<class '__main__.Predictable'>, C=<class '__main__.TrainedRandomTree'>\n",
      "True False True\n",
      "---------\n",
      "TrainPredictable.__subclasshook__ cls=<class '__main__.TrainPredictable'>, C=<class '__main__.RandomTree'>\n",
      "TrainPredictable.__subclasshook__ cls=<class '__main__.TrainPredictable'>, C=<class '__main__.TrainedRandomTree'>\n",
      "False False True\n"
     ]
    }
   ],
   "source": [
    "class Predictable(metaclass=ABCMeta):\n",
    "    @abstractmethod\n",
    "    def predict(self):\n",
    "        pass\n",
    "\n",
    "    @classmethod\n",
    "    def __subclasshook__(cls, C):\n",
    "        print(f\"Predictable.__subclasshook__ {cls=}, {C=}\")\n",
    "\n",
    "        if cls is not Predictable:\n",
    "            return NotImplemented\n",
    "\n",
    "        name = \"predict\"\n",
    "        for class_ in C.__mro__:\n",
    "            if name in class_.__dict__ and callable(class_.__dict__[name]):\n",
    "                return True\n",
    "\n",
    "        return NotImplemented\n",
    "\n",
    "\n",
    "class TrainPredictable(Predictable):\n",
    "    @abstractmethod\n",
    "    def train(self):\n",
    "        pass\n",
    "\n",
    "    @classmethod\n",
    "    def __subclasshook__(cls, C):\n",
    "        print(f\"TrainPredictable.__subclasshook__ {cls=}, {C=}\")\n",
    "\n",
    "        if cls is not TrainPredictable:\n",
    "            return NotImplemented\n",
    "\n",
    "        for name in (\"predict\", \"train\"):\n",
    "            for class_ in C.__mro__:\n",
    "                if name in class_.__dict__ and callable(class_.__dict__[name]):\n",
    "                    break\n",
    "            else:\n",
    "                return NotImplemented\n",
    "\n",
    "        return True\n",
    "\n",
    "\n",
    "class RandomTree:\n",
    "    def predict(self):\n",
    "        pass\n",
    "\n",
    "\n",
    "class TrainedRandomTree(RandomTree):\n",
    "    def train(self):\n",
    "        pass\n",
    "\n",
    "\n",
    "class TrafficLight:\n",
    "    predict = \"green\"\n",
    "\n",
    "\n",
    "rt = RandomTree()\n",
    "traffic = TrafficLight()\n",
    "trained = TrainedRandomTree()\n",
    "\n",
    "print(\n",
    "    isinstance(rt, (Predictable, str, dict)),\n",
    "    isinstance(traffic, Predictable),\n",
    "    isinstance(trained, Predictable),\n",
    ")\n",
    "print(\"---------\")\n",
    "print(\n",
    "    isinstance(rt, TrainPredictable),\n",
    "    isinstance(traffic, TrainPredictable),\n",
    "    isinstance(trained, TrainPredictable),\n",
    ")"
   ]
  },
  {
   "cell_type": "code",
   "execution_count": null,
   "id": "7f39ffa2-c851-4944-8eb5-ae08e9cc3737",
   "metadata": {},
   "outputs": [],
   "source": []
  },
  {
   "cell_type": "code",
   "execution_count": null,
   "id": "2bb08c2a-fc76-4f1a-81a6-9e3548f88fd8",
   "metadata": {},
   "outputs": [],
   "source": []
  },
  {
   "cell_type": "code",
   "execution_count": null,
   "id": "df549c55-b108-4738-865b-dccb70651f9c",
   "metadata": {},
   "outputs": [],
   "source": []
  }
 ],
 "metadata": {
  "kernelspec": {
   "display_name": "Python 3 (ipykernel)",
   "language": "python",
   "name": "python3"
  },
  "language_info": {
   "codemirror_mode": {
    "name": "ipython",
    "version": 3
   },
   "file_extension": ".py",
   "mimetype": "text/x-python",
   "name": "python",
   "nbconvert_exporter": "python",
   "pygments_lexer": "ipython3",
   "version": "3.13.2"
  }
 },
 "nbformat": 4,
 "nbformat_minor": 5
}
