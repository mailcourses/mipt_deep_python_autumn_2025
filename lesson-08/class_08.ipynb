{
 "cells": [
  {
   "cell_type": "code",
   "execution_count": 1,
   "id": "bb4444a5-6e68-48c0-89e9-fde166da2332",
   "metadata": {},
   "outputs": [],
   "source": [
    "class SpecialIterator:\n",
    "    def __init__(self, limit):\n",
    "        self.limit = limit\n",
    "        self.counter = 0\n",
    "\n",
    "    def __iter__(self):\n",
    "        print(\"iter\")\n",
    "        return self\n",
    "        \n",
    "    def __next__(self):\n",
    "        print(\"next\")\n",
    "        if self.counter < self.limit:\n",
    "            self.counter += 1\n",
    "            return self.counter\n",
    "        else:\n",
    "            raise StopIteration"
   ]
  },
  {
   "cell_type": "code",
   "execution_count": 2,
   "id": "a4dcd49d-5fab-4ed6-bc66-b14d316fee08",
   "metadata": {},
   "outputs": [],
   "source": [
    "spec = SpecialIterator(5)"
   ]
  },
  {
   "cell_type": "code",
   "execution_count": 3,
   "id": "bf402773-9878-477d-99ea-75d25106fad5",
   "metadata": {},
   "outputs": [
    {
     "name": "stdout",
     "output_type": "stream",
     "text": [
      "next\n"
     ]
    },
    {
     "data": {
      "text/plain": [
       "1"
      ]
     },
     "execution_count": 3,
     "metadata": {},
     "output_type": "execute_result"
    }
   ],
   "source": [
    "next(spec)"
   ]
  },
  {
   "cell_type": "code",
   "execution_count": 4,
   "id": "f9d16502-5108-4036-b5db-7574208de420",
   "metadata": {},
   "outputs": [
    {
     "name": "stdout",
     "output_type": "stream",
     "text": [
      "iter\n"
     ]
    },
    {
     "data": {
      "text/plain": [
       "True"
      ]
     },
     "execution_count": 4,
     "metadata": {},
     "output_type": "execute_result"
    }
   ],
   "source": [
    "iter(spec) is spec"
   ]
  },
  {
   "cell_type": "code",
   "execution_count": 5,
   "id": "0b34d4f5-73fa-4fac-9a18-db648c64cc2d",
   "metadata": {},
   "outputs": [
    {
     "name": "stdout",
     "output_type": "stream",
     "text": [
      "iter\n",
      "next\n",
      "i=2\n",
      "next\n",
      "i=3\n",
      "next\n",
      "i=4\n",
      "next\n",
      "i=5\n",
      "next\n"
     ]
    }
   ],
   "source": [
    "for i in spec:\n",
    "    print(f\"{i=}\")"
   ]
  },
  {
   "cell_type": "code",
   "execution_count": 6,
   "id": "e2fe042b-eee8-4387-981f-39fd7f8a85e5",
   "metadata": {},
   "outputs": [
    {
     "name": "stdout",
     "output_type": "stream",
     "text": [
      "1\n",
      "2\n",
      "3\n"
     ]
    }
   ],
   "source": [
    "for i in [1, 2, 3]:\n",
    "    print(i)"
   ]
  },
  {
   "cell_type": "code",
   "execution_count": null,
   "id": "e3a594e1-58fa-4561-9a86-f4dd971ae3e9",
   "metadata": {},
   "outputs": [],
   "source": []
  },
  {
   "cell_type": "code",
   "execution_count": null,
   "id": "e24ed14a-ebf9-4d15-a407-a3577044c8d0",
   "metadata": {},
   "outputs": [],
   "source": []
  },
  {
   "cell_type": "code",
   "execution_count": 8,
   "id": "ddf69246-25d5-430a-8831-ed60510ced17",
   "metadata": {},
   "outputs": [],
   "source": [
    "def empty_gen():\n",
    "    print(\"run empty_gen\")\n",
    "    if False:\n",
    "        yield\n",
    "    return 99"
   ]
  },
  {
   "cell_type": "code",
   "execution_count": 9,
   "id": "86d16e55-dd43-48ef-989c-9decab08f77b",
   "metadata": {},
   "outputs": [],
   "source": [
    "empty = empty_gen()"
   ]
  },
  {
   "cell_type": "code",
   "execution_count": 11,
   "id": "6e57dd18-8b7b-403b-a6a1-149d81144ea8",
   "metadata": {},
   "outputs": [
    {
     "name": "stdout",
     "output_type": "stream",
     "text": [
      "run empty_gen\n"
     ]
    },
    {
     "ename": "StopIteration",
     "evalue": "99",
     "output_type": "error",
     "traceback": [
      "\u001b[31m---------------------------------------------------------------------------\u001b[39m",
      "\u001b[31mStopIteration\u001b[39m                             Traceback (most recent call last)",
      "\u001b[36mCell\u001b[39m\u001b[36m \u001b[39m\u001b[32mIn[11]\u001b[39m\u001b[32m, line 1\u001b[39m\n\u001b[32m----> \u001b[39m\u001b[32m1\u001b[39m \u001b[38;5;28;43mnext\u001b[39;49m\u001b[43m(\u001b[49m\u001b[43mempty\u001b[49m\u001b[43m)\u001b[49m\n",
      "\u001b[31mStopIteration\u001b[39m: 99"
     ]
    }
   ],
   "source": [
    "next(empty)"
   ]
  },
  {
   "cell_type": "code",
   "execution_count": null,
   "id": "0929d048-4574-4852-8273-642607af57b2",
   "metadata": {},
   "outputs": [],
   "source": []
  },
  {
   "cell_type": "code",
   "execution_count": null,
   "id": "93e8ca7c-ebcd-430a-8d92-6a6a91a87af8",
   "metadata": {},
   "outputs": [],
   "source": []
  },
  {
   "cell_type": "code",
   "execution_count": 12,
   "id": "458f65cc-5c4e-42f3-9431-9192eeb39c99",
   "metadata": {},
   "outputs": [],
   "source": [
    "def grep_gen(pattern):\n",
    "    print(\"start grep for\", pattern)\n",
    "    i = 0\n",
    "    while True:\n",
    "        s = yield i\n",
    "        i += 1\n",
    "        if pattern in s:\n",
    "            print(\"found!\", s)\n",
    "        else:\n",
    "            print(\"no %s in %s\" % (pattern, s))"
   ]
  },
  {
   "cell_type": "code",
   "execution_count": 22,
   "id": "62c02b6b-99cf-4bfe-b872-378dfe4d7ed6",
   "metadata": {},
   "outputs": [],
   "source": [
    "grep = grep_gen(\"python\")"
   ]
  },
  {
   "cell_type": "code",
   "execution_count": 23,
   "id": "9e177712-8ebc-4260-b589-653a11fd204c",
   "metadata": {},
   "outputs": [
    {
     "name": "stdout",
     "output_type": "stream",
     "text": [
      "start grep for python\n"
     ]
    },
    {
     "data": {
      "text/plain": [
       "0"
      ]
     },
     "execution_count": 23,
     "metadata": {},
     "output_type": "execute_result"
    }
   ],
   "source": [
    "grep.send(None)"
   ]
  },
  {
   "cell_type": "code",
   "execution_count": 24,
   "id": "7d91cff5-7c59-475a-abd4-bcc9440629a2",
   "metadata": {},
   "outputs": [
    {
     "name": "stdout",
     "output_type": "stream",
     "text": [
      "no python in qwerty\n"
     ]
    },
    {
     "data": {
      "text/plain": [
       "1"
      ]
     },
     "execution_count": 24,
     "metadata": {},
     "output_type": "execute_result"
    }
   ],
   "source": [
    "grep.send(\"qwerty\")"
   ]
  },
  {
   "cell_type": "code",
   "execution_count": 25,
   "id": "a76acebd-9b15-49b9-a100-c8d9879ec657",
   "metadata": {},
   "outputs": [
    {
     "name": "stdout",
     "output_type": "stream",
     "text": [
      "no python in qwerty\n"
     ]
    },
    {
     "data": {
      "text/plain": [
       "2"
      ]
     },
     "execution_count": 25,
     "metadata": {},
     "output_type": "execute_result"
    }
   ],
   "source": [
    "grep.send(\"qwerty\")"
   ]
  },
  {
   "cell_type": "code",
   "execution_count": 26,
   "id": "67b7abcb-12c2-48ce-8496-c8e303a55b44",
   "metadata": {},
   "outputs": [
    {
     "name": "stdout",
     "output_type": "stream",
     "text": [
      "no python in pyt\n"
     ]
    },
    {
     "data": {
      "text/plain": [
       "3"
      ]
     },
     "execution_count": 26,
     "metadata": {},
     "output_type": "execute_result"
    }
   ],
   "source": [
    "grep.send(\"pyt\")"
   ]
  },
  {
   "cell_type": "code",
   "execution_count": 27,
   "id": "b4082b56-d524-4915-a745-93650e9847d7",
   "metadata": {},
   "outputs": [
    {
     "name": "stdout",
     "output_type": "stream",
     "text": [
      "found! python\n"
     ]
    },
    {
     "data": {
      "text/plain": [
       "4"
      ]
     },
     "execution_count": 27,
     "metadata": {},
     "output_type": "execute_result"
    }
   ],
   "source": [
    "grep.send(\"python\")"
   ]
  },
  {
   "cell_type": "code",
   "execution_count": 28,
   "id": "75b35200-52b4-414b-bab3-b46c232e35fa",
   "metadata": {},
   "outputs": [
    {
     "name": "stdout",
     "output_type": "stream",
     "text": [
      "found! python\n"
     ]
    },
    {
     "data": {
      "text/plain": [
       "5"
      ]
     },
     "execution_count": 28,
     "metadata": {},
     "output_type": "execute_result"
    }
   ],
   "source": [
    "grep.send(\"python\")"
   ]
  },
  {
   "cell_type": "code",
   "execution_count": 29,
   "id": "aa97bef9-fbb3-46c8-85b1-a8d44401b103",
   "metadata": {},
   "outputs": [
    {
     "ename": "ValueError",
     "evalue": "wrong",
     "output_type": "error",
     "traceback": [
      "\u001b[31m---------------------------------------------------------------------------\u001b[39m",
      "\u001b[31mValueError\u001b[39m                                Traceback (most recent call last)",
      "\u001b[36mCell\u001b[39m\u001b[36m \u001b[39m\u001b[32mIn[29]\u001b[39m\u001b[32m, line 1\u001b[39m\n\u001b[32m----> \u001b[39m\u001b[32m1\u001b[39m \u001b[43mgrep\u001b[49m\u001b[43m.\u001b[49m\u001b[43mthrow\u001b[49m\u001b[43m(\u001b[49m\u001b[38;5;167;43;01mValueError\u001b[39;49;00m\u001b[43m(\u001b[49m\u001b[33;43m\"\u001b[39;49m\u001b[33;43mwrong\u001b[39;49m\u001b[33;43m\"\u001b[39;49m\u001b[43m)\u001b[49m\u001b[43m)\u001b[49m\n",
      "\u001b[36mCell\u001b[39m\u001b[36m \u001b[39m\u001b[32mIn[12]\u001b[39m\u001b[32m, line 5\u001b[39m, in \u001b[36mgrep_gen\u001b[39m\u001b[34m(pattern)\u001b[39m\n\u001b[32m      3\u001b[39m i = \u001b[32m0\u001b[39m\n\u001b[32m      4\u001b[39m \u001b[38;5;28;01mwhile\u001b[39;00m \u001b[38;5;28;01mTrue\u001b[39;00m:\n\u001b[32m----> \u001b[39m\u001b[32m5\u001b[39m     s = \u001b[38;5;28;01myield\u001b[39;00m i\n\u001b[32m      6\u001b[39m     i += \u001b[32m1\u001b[39m\n\u001b[32m      7\u001b[39m     \u001b[38;5;28;01mif\u001b[39;00m pattern \u001b[38;5;129;01min\u001b[39;00m s:\n",
      "\u001b[31mValueError\u001b[39m: wrong"
     ]
    }
   ],
   "source": [
    "grep.throw(ValueError(\"wrong\"))"
   ]
  },
  {
   "cell_type": "code",
   "execution_count": null,
   "id": "a9630fff-a53f-4059-8ebb-6ad715bfe17e",
   "metadata": {},
   "outputs": [],
   "source": []
  },
  {
   "cell_type": "code",
   "execution_count": null,
   "id": "f73d04ee-64f2-4092-a7aa-503dc884983f",
   "metadata": {},
   "outputs": [],
   "source": []
  },
  {
   "cell_type": "code",
   "execution_count": null,
   "id": "1a5ae211-9f0d-43b8-9aa4-3db55332da96",
   "metadata": {},
   "outputs": [],
   "source": []
  },
  {
   "cell_type": "code",
   "execution_count": 34,
   "id": "a9b9e764-63f5-465b-87bf-89ce0321f664",
   "metadata": {},
   "outputs": [],
   "source": [
    "def step_counter(start, stop, step):\n",
    "    print(\"start step_counter\")\n",
    "\n",
    "    while start < stop:\n",
    "        step_cand = yield start\n",
    "        if step_cand is not None:\n",
    "            step = step_cand\n",
    "        start += step\n",
    "\n",
    "    print(\"finish  step_counter\")"
   ]
  },
  {
   "cell_type": "code",
   "execution_count": 36,
   "id": "e35ad617-ea25-4108-8cd5-d9c6db624492",
   "metadata": {},
   "outputs": [
    {
     "name": "stdout",
     "output_type": "stream",
     "text": [
      "start step_counter\n",
      "111 0\n",
      "222 1\n",
      "333 2\n",
      "444 3\n",
      "555 9\n",
      "666 15\n"
     ]
    }
   ],
   "source": [
    "step = step_counter(0, 20, 3)\n",
    "\n",
    "print(111, next(step))\n",
    "\n",
    "print(222, step.send(1))\n",
    "print(333, next(step))\n",
    "print(444, next(step))\n",
    "\n",
    "print(555, step.send(6))\n",
    "print(666, next(step))"
   ]
  },
  {
   "cell_type": "code",
   "execution_count": 37,
   "id": "371ad950-e4a6-4e44-8f94-84a40668a9fc",
   "metadata": {},
   "outputs": [
    {
     "name": "stdout",
     "output_type": "stream",
     "text": [
      "finish  step_counter\n"
     ]
    },
    {
     "ename": "StopIteration",
     "evalue": "",
     "output_type": "error",
     "traceback": [
      "\u001b[31m---------------------------------------------------------------------------\u001b[39m",
      "\u001b[31mStopIteration\u001b[39m                             Traceback (most recent call last)",
      "\u001b[36mCell\u001b[39m\u001b[36m \u001b[39m\u001b[32mIn[37]\u001b[39m\u001b[32m, line 1\u001b[39m\n\u001b[32m----> \u001b[39m\u001b[32m1\u001b[39m \u001b[38;5;28;43mnext\u001b[39;49m\u001b[43m(\u001b[49m\u001b[43mstep\u001b[49m\u001b[43m)\u001b[49m\n",
      "\u001b[31mStopIteration\u001b[39m: "
     ]
    }
   ],
   "source": [
    "next(step)"
   ]
  },
  {
   "cell_type": "code",
   "execution_count": null,
   "id": "29a02829-c82b-4902-b895-e6d1ed0d0d93",
   "metadata": {},
   "outputs": [],
   "source": []
  },
  {
   "cell_type": "code",
   "execution_count": 38,
   "id": "03161939-3204-4731-90eb-46b2fe60b7cd",
   "metadata": {},
   "outputs": [
    {
     "name": "stdout",
     "output_type": "stream",
     "text": [
      "[(0, 1), (2, 9), (4, 25), (6, 49), (8, 81)]\n"
     ]
    }
   ],
   "source": [
    "it = iter(range(10))\n",
    "\n",
    "result = list(\n",
    "    zip(\n",
    "        it,\n",
    "        map(lambda x: x * x, it)\n",
    "    )\n",
    ")\n",
    "print(result)"
   ]
  },
  {
   "cell_type": "code",
   "execution_count": null,
   "id": "434e5d43-325c-424d-b1b5-acd2d173e283",
   "metadata": {},
   "outputs": [],
   "source": []
  },
  {
   "cell_type": "code",
   "execution_count": null,
   "id": "0e71a278-496a-4030-bfd2-d806ed77ced8",
   "metadata": {},
   "outputs": [],
   "source": []
  },
  {
   "cell_type": "code",
   "execution_count": null,
   "id": "e7e5abd2-ffb7-4771-87e1-0b5d0b64bc3e",
   "metadata": {},
   "outputs": [],
   "source": []
  },
  {
   "cell_type": "code",
   "execution_count": 39,
   "id": "b82d696f-3bd8-43bd-810b-d12d831035c8",
   "metadata": {},
   "outputs": [],
   "source": [
    "lst = [1, 2, 3, 4, 5, 6]"
   ]
  },
  {
   "cell_type": "code",
   "execution_count": 40,
   "id": "c103b87b-96e7-4353-82c3-6b9706054add",
   "metadata": {},
   "outputs": [],
   "source": [
    "it1 = iter(lst)"
   ]
  },
  {
   "cell_type": "code",
   "execution_count": 41,
   "id": "3a9d0ee5-0b4a-4825-a1c2-1c127d686f43",
   "metadata": {},
   "outputs": [
    {
     "data": {
      "text/plain": [
       "1"
      ]
     },
     "execution_count": 41,
     "metadata": {},
     "output_type": "execute_result"
    }
   ],
   "source": [
    "next(it1)"
   ]
  },
  {
   "cell_type": "code",
   "execution_count": 42,
   "id": "e0cfcf37-d997-44af-8b30-b5e5874d292e",
   "metadata": {},
   "outputs": [],
   "source": [
    "it2 = iter(lst)"
   ]
  },
  {
   "cell_type": "code",
   "execution_count": 43,
   "id": "6ca96d1a-4da3-4d26-9ed8-6793f0be3b66",
   "metadata": {},
   "outputs": [
    {
     "data": {
      "text/plain": [
       "1"
      ]
     },
     "execution_count": 43,
     "metadata": {},
     "output_type": "execute_result"
    }
   ],
   "source": [
    "next(it2)"
   ]
  },
  {
   "cell_type": "code",
   "execution_count": 44,
   "id": "a35b92b2-2409-48af-a04c-5fcbdb2d87d3",
   "metadata": {},
   "outputs": [
    {
     "data": {
      "text/plain": [
       "2"
      ]
     },
     "execution_count": 44,
     "metadata": {},
     "output_type": "execute_result"
    }
   ],
   "source": [
    "next(it2)"
   ]
  },
  {
   "cell_type": "code",
   "execution_count": 46,
   "id": "964a5518-63c3-4821-8d5d-ae3aabe8a9cd",
   "metadata": {},
   "outputs": [],
   "source": [
    "it3 = iter(it1)"
   ]
  },
  {
   "cell_type": "code",
   "execution_count": 47,
   "id": "57ceeaff-0de6-4fd9-8a5c-4fa675ec97ff",
   "metadata": {},
   "outputs": [
    {
     "data": {
      "text/plain": [
       "2"
      ]
     },
     "execution_count": 47,
     "metadata": {},
     "output_type": "execute_result"
    }
   ],
   "source": [
    "next(it3)"
   ]
  },
  {
   "cell_type": "code",
   "execution_count": 48,
   "id": "af0fc86a-4a8d-4f8a-b729-e585756b2c26",
   "metadata": {},
   "outputs": [
    {
     "data": {
      "text/plain": [
       "True"
      ]
     },
     "execution_count": 48,
     "metadata": {},
     "output_type": "execute_result"
    }
   ],
   "source": [
    "it3 is it1"
   ]
  },
  {
   "cell_type": "code",
   "execution_count": null,
   "id": "77ffe8fd-23db-4fad-885f-a29388ce652d",
   "metadata": {},
   "outputs": [],
   "source": []
  },
  {
   "cell_type": "code",
   "execution_count": null,
   "id": "6dff5405-0871-4d76-a787-77908890f3ad",
   "metadata": {},
   "outputs": [],
   "source": []
  },
  {
   "cell_type": "code",
   "execution_count": null,
   "id": "7cdf25d2-d78c-489e-9ddf-b835b992e814",
   "metadata": {},
   "outputs": [],
   "source": []
  },
  {
   "cell_type": "code",
   "execution_count": 49,
   "id": "408182ab-133c-4615-824a-d94f5fa522d0",
   "metadata": {},
   "outputs": [],
   "source": [
    "import asyncio\n",
    "import time\n",
    "import aiohttp"
   ]
  },
  {
   "cell_type": "code",
   "execution_count": null,
   "id": "93e4b9e3-9e3a-42c8-bad9-9eecd212f5d5",
   "metadata": {},
   "outputs": [],
   "source": []
  },
  {
   "cell_type": "code",
   "execution_count": null,
   "id": "3b2bd4ab-45d9-47a8-b37c-7e79bfee174c",
   "metadata": {},
   "outputs": [],
   "source": []
  },
  {
   "cell_type": "code",
   "execution_count": 51,
   "id": "5780f56e-c822-4811-ab32-a66a60d54fc7",
   "metadata": {},
   "outputs": [],
   "source": [
    "def async_timeit(fn):\n",
    "    async def inner(*args, **kwargs):\n",
    "        t1 = time.time()\n",
    "        try:\n",
    "            return await fn(*args, **kwargs)\n",
    "        finally:\n",
    "            t2 = time.time()\n",
    "            print(f\"Time for {fn.__name__}: {t2 - t1}\")\n",
    "    return inner"
   ]
  },
  {
   "cell_type": "code",
   "execution_count": 56,
   "id": "8a613ae1-91e3-47c4-9e08-4a0731e1a214",
   "metadata": {},
   "outputs": [
    {
     "name": "stdout",
     "output_type": "stream",
     "text": [
      "start worker='worker_0'\n",
      "start worker='worker_1'\n",
      "start worker='worker_2'\n",
      "start worker='worker_3'\n",
      "start worker='worker_4'\n",
      "start worker='worker_5'\n",
      "start worker='worker_6'\n",
      "start worker='worker_7'\n",
      "start worker='worker_8'\n",
      "start worker='worker_9'\n",
      "Time for run: 2.0021960735321045\n"
     ]
    }
   ],
   "source": [
    "URL = \"https://docs.python.org/3/whatsnew/3.14.html\"\n",
    "URLS = [URL] * 20\n",
    "WORKERS = 10\n",
    "\n",
    "\n",
    "async def fetch_url(url, session):\n",
    "    await asyncio.sleep(1)\n",
    "    #async with session.get(url) as resp:\n",
    "    #    return await resp.text()\n",
    "\n",
    "\n",
    "async def fetch_worker(que, session, worker):\n",
    "    print(f\"start {worker=}\")\n",
    "    while True:\n",
    "        url = await que.get()\n",
    "\n",
    "        try:\n",
    "            await fetch_url(url, session)\n",
    "        except Exception:\n",
    "            pass\n",
    "        finally:\n",
    "            que.task_done()\n",
    "\n",
    "    print(f\"finish {worker=}\")\n",
    "\n",
    "\n",
    "@async_timeit\n",
    "async def run():\n",
    "    que = asyncio.Queue()\n",
    "    for url in URLS:\n",
    "        await que.put(url)\n",
    "\n",
    "    async with aiohttp.ClientSession() as session:\n",
    "        workers = [\n",
    "            asyncio.create_task(\n",
    "                fetch_worker(que, session, f\"worker_{i}\")\n",
    "            )\n",
    "            for i in range(WORKERS)\n",
    "        ]\n",
    "        await que.join()\n",
    "\n",
    "        for worker in workers:\n",
    "            worker.cancel()\n",
    "\n",
    "\n",
    "await run()"
   ]
  },
  {
   "cell_type": "code",
   "execution_count": 57,
   "id": "316214a8-00e1-45b9-8374-362afe853a58",
   "metadata": {},
   "outputs": [
    {
     "name": "stdout",
     "output_type": "stream",
     "text": [
      "start worker='worker_0'\n",
      "start worker='worker_1'\n",
      "start worker='worker_2'\n",
      "start worker='worker_3'\n",
      "start worker='worker_4'\n",
      "start worker='worker_5'\n",
      "start worker='worker_6'\n",
      "start worker='worker_7'\n",
      "start worker='worker_8'\n",
      "start worker='worker_9'\n",
      "Time for run: 4.005996942520142\n"
     ]
    }
   ],
   "source": [
    "URL = \"https://docs.python.org/3/whatsnew/3.14.html\"\n",
    "URLS = [URL] * 20\n",
    "WORKERS = 10\n",
    "\n",
    "\n",
    "async def fetch_url(url, session, sem):\n",
    "    async with sem:\n",
    "        await asyncio.sleep(1)\n",
    "        #async with session.get(url) as resp:\n",
    "        #    return await resp.text()\n",
    "\n",
    "\n",
    "async def fetch_worker(que, session, sem, worker):\n",
    "    print(f\"start {worker=}\")\n",
    "    while True:\n",
    "        url = await que.get()\n",
    "\n",
    "        try:\n",
    "            await fetch_url(url, session, sem)\n",
    "        except Exception:\n",
    "            pass\n",
    "        finally:\n",
    "            que.task_done()\n",
    "\n",
    "    print(f\"finish {worker=}\")\n",
    "\n",
    "\n",
    "@async_timeit\n",
    "async def run():\n",
    "    que = asyncio.Queue()\n",
    "    for url in URLS:\n",
    "        await que.put(url)\n",
    "\n",
    "    sem = asyncio.Semaphore(5)\n",
    "\n",
    "    async with aiohttp.ClientSession() as session:\n",
    "        workers = [\n",
    "            asyncio.create_task(\n",
    "                fetch_worker(que, session, sem, f\"worker_{i}\")\n",
    "            )\n",
    "            for i in range(WORKERS)\n",
    "        ]\n",
    "        await que.join()\n",
    "\n",
    "        for worker in workers:\n",
    "            worker.cancel()\n",
    "\n",
    "\n",
    "await run()"
   ]
  },
  {
   "cell_type": "code",
   "execution_count": null,
   "id": "e20f7502-e94c-4221-af65-b4067877bc4e",
   "metadata": {},
   "outputs": [],
   "source": []
  },
  {
   "cell_type": "code",
   "execution_count": null,
   "id": "a70ccd90-e7e8-4756-9ef7-2beb85729a02",
   "metadata": {},
   "outputs": [],
   "source": []
  },
  {
   "cell_type": "code",
   "execution_count": null,
   "id": "32d2710f-f340-48ff-8ca5-d574329ac33c",
   "metadata": {},
   "outputs": [],
   "source": []
  },
  {
   "cell_type": "code",
   "execution_count": 62,
   "id": "34acd75c-d720-44c0-840b-f8677ae87a7c",
   "metadata": {},
   "outputs": [
    {
     "name": "stdout",
     "output_type": "stream",
     "text": [
      "total item=('fetch_4', 200)\n",
      "total item=('fetch_2', 200)\n",
      "total item=('fetch_8', 200)\n",
      "total item=('fetch_6', 200)\n",
      "total item=('fetch_0', 200)\n",
      "Time for run: 1.0019540786743164\n"
     ]
    }
   ],
   "source": [
    "URL = \"https://docs.python.org/3/whatsnew/3.14.html\"\n",
    "URLS = [URL] * 10\n",
    "\n",
    "\n",
    "async def fetch_url(url, session, name):\n",
    "    await asyncio.sleep(1)\n",
    "    # async with session.get(url) as resp:\n",
    "    #     return await resp.text()\n",
    "    return (name, 200)\n",
    "\n",
    "\n",
    "async def gen_fetch_batch_urls(urls):\n",
    "    async with aiohttp.ClientSession() as session:\n",
    "        tasks = [\n",
    "            fetch_url(url, session, f\"fetch_{i}\")\n",
    "            for i, url in enumerate(urls)\n",
    "        ]\n",
    "\n",
    "        async for task in asyncio.as_completed(tasks):\n",
    "            res = await task\n",
    "            #print(f\"get got {res=}\")\n",
    "            if res[0][-1] in \"02468\":\n",
    "                yield res\n",
    "\n",
    "\n",
    "@async_timeit\n",
    "async def run():\n",
    "    async for item in gen_fetch_batch_urls(URLS):\n",
    "        print(f\"total {item=}\")\n",
    "\n",
    "\n",
    "await run()"
   ]
  },
  {
   "cell_type": "code",
   "execution_count": null,
   "id": "d7d4688d-ec13-4b34-813b-6df9a4bf7ded",
   "metadata": {},
   "outputs": [],
   "source": []
  },
  {
   "cell_type": "code",
   "execution_count": null,
   "id": "6a04fb04-a3b8-41e4-bab8-1b9d558a11b7",
   "metadata": {},
   "outputs": [],
   "source": []
  },
  {
   "cell_type": "code",
   "execution_count": null,
   "id": "acb46cd2-af95-4822-ab88-a4d577f03d85",
   "metadata": {},
   "outputs": [],
   "source": []
  },
  {
   "cell_type": "code",
   "execution_count": null,
   "id": "9f535e78-07f6-45b4-ab19-b119f5e68098",
   "metadata": {},
   "outputs": [],
   "source": []
  },
  {
   "cell_type": "code",
   "execution_count": null,
   "id": "0681fd0e-588b-4266-975f-4047ceeaa346",
   "metadata": {},
   "outputs": [],
   "source": []
  },
  {
   "cell_type": "code",
   "execution_count": null,
   "id": "a4c6a1d1-f5e7-42a7-8549-02c96a6b1c02",
   "metadata": {},
   "outputs": [],
   "source": []
  },
  {
   "cell_type": "code",
   "execution_count": null,
   "id": "0ea80793-6789-4276-ae83-11aef78c4637",
   "metadata": {},
   "outputs": [],
   "source": []
  }
 ],
 "metadata": {
  "kernelspec": {
   "display_name": "Python 3 (ipykernel)",
   "language": "python",
   "name": "python3"
  },
  "language_info": {
   "codemirror_mode": {
    "name": "ipython",
    "version": 3
   },
   "file_extension": ".py",
   "mimetype": "text/x-python",
   "name": "python",
   "nbconvert_exporter": "python",
   "pygments_lexer": "ipython3",
   "version": "3.14.0"
  }
 },
 "nbformat": 4,
 "nbformat_minor": 5
}
