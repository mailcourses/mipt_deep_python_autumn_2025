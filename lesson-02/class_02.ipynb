{
 "cells": [
  {
   "cell_type": "code",
   "execution_count": 1,
   "id": "dad37994-1235-4f53-8056-b6be8afb6cdf",
   "metadata": {},
   "outputs": [],
   "source": [
    "def fn4(*args, **kwargs):\n",
    "    return args, kwargs"
   ]
  },
  {
   "cell_type": "code",
   "execution_count": 2,
   "id": "c52004f5-f886-4bc4-8031-8afa2fbe82a5",
   "metadata": {},
   "outputs": [
    {
     "data": {
      "text/plain": [
       "((), {})"
      ]
     },
     "execution_count": 2,
     "metadata": {},
     "output_type": "execute_result"
    }
   ],
   "source": [
    "fn4()"
   ]
  },
  {
   "cell_type": "code",
   "execution_count": 3,
   "id": "233363c2-a613-4885-924f-f12a8964171e",
   "metadata": {},
   "outputs": [
    {
     "data": {
      "text/plain": [
       "((1, 2), {'x': 10, 'r': 20})"
      ]
     },
     "execution_count": 3,
     "metadata": {},
     "output_type": "execute_result"
    }
   ],
   "source": [
    "fn4(1, 2, x=10, r=20)"
   ]
  },
  {
   "cell_type": "code",
   "execution_count": null,
   "id": "411c654b-dfaa-49b6-ab8d-be993ed96e63",
   "metadata": {},
   "outputs": [],
   "source": []
  },
  {
   "cell_type": "code",
   "execution_count": 7,
   "id": "89c32ee8-265a-44ee-a618-12da9621fc59",
   "metadata": {},
   "outputs": [],
   "source": [
    "def fn7(pos1, /, pos2, pos3=3, *, kw1=11, **kwargs):\n",
    "    print(f\"{pos1=}, {pos2=}, {pos3=}, {kw1=}, {kwargs=}\")"
   ]
  },
  {
   "cell_type": "code",
   "execution_count": 8,
   "id": "8fd86c81-1943-46dd-9f93-1dec086e13aa",
   "metadata": {},
   "outputs": [
    {
     "name": "stdout",
     "output_type": "stream",
     "text": [
      "pos1=1, pos2=2, pos3=3, kw1=11, kwargs={}\n"
     ]
    }
   ],
   "source": [
    "fn7(1, 2)"
   ]
  },
  {
   "cell_type": "code",
   "execution_count": 12,
   "id": "cdeb68b9-d11a-469e-b306-4a66a9ec6a3f",
   "metadata": {},
   "outputs": [
    {
     "name": "stdout",
     "output_type": "stream",
     "text": [
      "pos1=1, pos2=2, pos3=3, kw1=11, kwargs={}\n"
     ]
    }
   ],
   "source": [
    "fn7(1, pos2=2)"
   ]
  },
  {
   "cell_type": "code",
   "execution_count": 13,
   "id": "a1414426-d510-414b-8987-ead1d90e89c0",
   "metadata": {},
   "outputs": [
    {
     "ename": "TypeError",
     "evalue": "fn7() takes from 2 to 3 positional arguments but 4 were given",
     "output_type": "error",
     "traceback": [
      "\u001b[31m---------------------------------------------------------------------------\u001b[39m",
      "\u001b[31mTypeError\u001b[39m                                 Traceback (most recent call last)",
      "\u001b[36mCell\u001b[39m\u001b[36m \u001b[39m\u001b[32mIn[13]\u001b[39m\u001b[32m, line 1\u001b[39m\n\u001b[32m----> \u001b[39m\u001b[32m1\u001b[39m \u001b[43mfn7\u001b[49m\u001b[43m(\u001b[49m\u001b[32;43m1\u001b[39;49m\u001b[43m,\u001b[49m\u001b[43m \u001b[49m\u001b[32;43m2\u001b[39;49m\u001b[43m,\u001b[49m\u001b[43m \u001b[49m\u001b[32;43m33\u001b[39;49m\u001b[43m,\u001b[49m\u001b[43m \u001b[49m\u001b[32;43m44\u001b[39;49m\u001b[43m)\u001b[49m\n",
      "\u001b[31mTypeError\u001b[39m: fn7() takes from 2 to 3 positional arguments but 4 were given"
     ]
    }
   ],
   "source": [
    "fn7(1, 2, 33, 44)fn7(1, 2, 33, 44)"
   ]
  },
  {
   "cell_type": "code",
   "execution_count": 14,
   "id": "12767e70-fd80-42dd-a966-4b28d256ef51",
   "metadata": {},
   "outputs": [
    {
     "name": "stdout",
     "output_type": "stream",
     "text": [
      "pos1=1, pos2=2, pos3=33, kw1=44, kwargs={}\n"
     ]
    }
   ],
   "source": [
    "fn7(1, 2, 33, kw1=44)"
   ]
  },
  {
   "cell_type": "code",
   "execution_count": 15,
   "id": "558f7dfb-6c3a-45c7-a16d-9ba57ec47d3e",
   "metadata": {},
   "outputs": [
    {
     "name": "stdout",
     "output_type": "stream",
     "text": [
      "pos1=1, pos2=2, pos3=33, kw1=44, kwargs={'x': 10, 'y': 20}\n"
     ]
    }
   ],
   "source": [
    "fn7(1, 2, 33, kw1=44, x=10, y=20)"
   ]
  },
  {
   "cell_type": "code",
   "execution_count": null,
   "id": "73b26207-706e-4c0f-8b75-cc66de625eaf",
   "metadata": {},
   "outputs": [],
   "source": []
  },
  {
   "cell_type": "code",
   "execution_count": 17,
   "id": "fdd8a6a9-585c-49a0-9973-2da8016a2294",
   "metadata": {},
   "outputs": [],
   "source": [
    "def fn7(pos1, /, pos2, pos3=3, *args, kw1=11, **kwargs):\n",
    "    print(f\"{pos1=}, {pos2=}, {pos3=}, {args=}, {kw1=}, {kwargs=}\")"
   ]
  },
  {
   "cell_type": "code",
   "execution_count": 18,
   "id": "3a8f207b-cd53-4e66-93a4-a0e900b84b65",
   "metadata": {},
   "outputs": [
    {
     "name": "stdout",
     "output_type": "stream",
     "text": [
      "pos1=1, pos2=2, pos3=33, args=(44,), kw1=11, kwargs={}\n"
     ]
    }
   ],
   "source": [
    "fn7(1, 2, 33, 44)"
   ]
  },
  {
   "cell_type": "code",
   "execution_count": 19,
   "id": "9a12d7ce-be7b-4f75-9921-98987a9e8e82",
   "metadata": {},
   "outputs": [
    {
     "name": "stdout",
     "output_type": "stream",
     "text": [
      "pos1=1, pos2=2, pos3=33, args=(44, 55), kw1=11, kwargs={}\n"
     ]
    }
   ],
   "source": [
    "fn7(1, 2, 33, 44, 55)"
   ]
  },
  {
   "cell_type": "code",
   "execution_count": 20,
   "id": "16cf4e5a-8e52-47f8-b432-381e53982078",
   "metadata": {},
   "outputs": [
    {
     "name": "stdout",
     "output_type": "stream",
     "text": [
      "pos1=1, pos2=2, pos3=33, args=(44,), kw1=55, kwargs={}\n"
     ]
    }
   ],
   "source": [
    "fn7(1, 2, 33, 44, kw1=55)"
   ]
  },
  {
   "cell_type": "code",
   "execution_count": null,
   "id": "1adaca46-4802-4801-aec7-a54f8128f16a",
   "metadata": {},
   "outputs": [],
   "source": []
  },
  {
   "cell_type": "code",
   "execution_count": 21,
   "id": "dcaae25f-dae8-4f47-94ee-7469dbf391e2",
   "metadata": {},
   "outputs": [
    {
     "data": {
      "text/plain": [
       "\u001b[31mSignature:\u001b[39m len(obj, /)\n",
       "\u001b[31mDocstring:\u001b[39m Return the number of items in a container.\n",
       "\u001b[31mType:\u001b[39m      builtin_function_or_method"
      ]
     },
     "metadata": {},
     "output_type": "display_data"
    }
   ],
   "source": [
    "len?"
   ]
  },
  {
   "cell_type": "code",
   "execution_count": 23,
   "id": "00eb2479-2646-4a82-9371-4bd0d1556ff4",
   "metadata": {},
   "outputs": [
    {
     "data": {
      "text/plain": [
       "0"
      ]
     },
     "execution_count": 23,
     "metadata": {},
     "output_type": "execute_result"
    }
   ],
   "source": [
    "len([])"
   ]
  },
  {
   "cell_type": "code",
   "execution_count": null,
   "id": "6aaeb77d-355d-46b8-a3e8-4f2aec7794bd",
   "metadata": {},
   "outputs": [],
   "source": []
  },
  {
   "cell_type": "code",
   "execution_count": 24,
   "id": "b99b5450-4099-4a3b-be3a-8d05da3acbf7",
   "metadata": {},
   "outputs": [],
   "source": [
    "def double_param(x, **kwargs):\n",
    "    return x, kwargs"
   ]
  },
  {
   "cell_type": "code",
   "execution_count": 26,
   "id": "e1ba79df-3a72-474d-84c3-210136207bcc",
   "metadata": {},
   "outputs": [
    {
     "ename": "TypeError",
     "evalue": "double_param() got multiple values for argument 'x'",
     "output_type": "error",
     "traceback": [
      "\u001b[31m---------------------------------------------------------------------------\u001b[39m",
      "\u001b[31mTypeError\u001b[39m                                 Traceback (most recent call last)",
      "\u001b[36mCell\u001b[39m\u001b[36m \u001b[39m\u001b[32mIn[26]\u001b[39m\u001b[32m, line 1\u001b[39m\n\u001b[32m----> \u001b[39m\u001b[32m1\u001b[39m \u001b[43mdouble_param\u001b[49m\u001b[43m(\u001b[49m\u001b[32;43m10\u001b[39;49m\u001b[43m,\u001b[49m\u001b[43m \u001b[49m\u001b[43mx\u001b[49m\u001b[43m=\u001b[49m\u001b[32;43m10\u001b[39;49m\u001b[43m)\u001b[49m\n",
      "\u001b[31mTypeError\u001b[39m: double_param() got multiple values for argument 'x'"
     ]
    }
   ],
   "source": [
    "double_param(10, x=10)"
   ]
  },
  {
   "cell_type": "code",
   "execution_count": 27,
   "id": "fd7a6c16-2ffc-482d-8464-71280d5f7d52",
   "metadata": {},
   "outputs": [
    {
     "ename": "TypeError",
     "evalue": "double_param() got multiple values for argument 'x'",
     "output_type": "error",
     "traceback": [
      "\u001b[31m---------------------------------------------------------------------------\u001b[39m",
      "\u001b[31mTypeError\u001b[39m                                 Traceback (most recent call last)",
      "\u001b[36mCell\u001b[39m\u001b[36m \u001b[39m\u001b[32mIn[27]\u001b[39m\u001b[32m, line 1\u001b[39m\n\u001b[32m----> \u001b[39m\u001b[32m1\u001b[39m \u001b[43mdouble_param\u001b[49m\u001b[43m(\u001b[49m\u001b[32;43m10\u001b[39;49m\u001b[43m,\u001b[49m\u001b[43m \u001b[49m\u001b[43m*\u001b[49m\u001b[43m*\u001b[49m\u001b[43m{\u001b[49m\u001b[33;43m\"\u001b[39;49m\u001b[33;43mx\u001b[39;49m\u001b[33;43m\"\u001b[39;49m\u001b[43m:\u001b[49m\u001b[43m \u001b[49m\u001b[32;43m10\u001b[39;49m\u001b[43m}\u001b[49m\u001b[43m)\u001b[49m\n",
      "\u001b[31mTypeError\u001b[39m: double_param() got multiple values for argument 'x'"
     ]
    }
   ],
   "source": [
    "double_param(10, **{\"x\": 10})"
   ]
  },
  {
   "cell_type": "code",
   "execution_count": null,
   "id": "d53b25f6-bbf8-407a-b691-90e3db28b4dd",
   "metadata": {},
   "outputs": [],
   "source": []
  },
  {
   "cell_type": "code",
   "execution_count": 28,
   "id": "3d63f5c8-8511-4e4f-8de3-14e07c75667a",
   "metadata": {},
   "outputs": [],
   "source": [
    "def double_param_valid(x, /, **kwargs):\n",
    "    return x, kwargs"
   ]
  },
  {
   "cell_type": "code",
   "execution_count": 30,
   "id": "cf5327dd-d425-4c7c-bcb7-d1ea287dd54a",
   "metadata": {},
   "outputs": [
    {
     "data": {
      "text/plain": [
       "(10, {'x': 10})"
      ]
     },
     "execution_count": 30,
     "metadata": {},
     "output_type": "execute_result"
    }
   ],
   "source": [
    "double_param_valid(10, x=10)"
   ]
  },
  {
   "cell_type": "code",
   "execution_count": 31,
   "id": "035fa618-b8b2-49fe-8288-ce75b04dac85",
   "metadata": {},
   "outputs": [
    {
     "data": {
      "text/plain": [
       "(10, {'x': 10})"
      ]
     },
     "execution_count": 31,
     "metadata": {},
     "output_type": "execute_result"
    }
   ],
   "source": [
    "double_param_valid(10, **{\"x\": 10})"
   ]
  },
  {
   "cell_type": "code",
   "execution_count": null,
   "id": "e8b8aba8-00c0-4467-af73-eaabd5c96e10",
   "metadata": {},
   "outputs": [],
   "source": []
  },
  {
   "cell_type": "code",
   "execution_count": null,
   "id": "6fd8015e-2e63-4341-8cb2-f9418ddce012",
   "metadata": {},
   "outputs": [],
   "source": []
  },
  {
   "cell_type": "code",
   "execution_count": 32,
   "id": "e063d6ab-8a46-4557-961d-ed7d29072d29",
   "metadata": {},
   "outputs": [],
   "source": [
    "def do_double(param):\n",
    "    param *= 2\n",
    "    return param"
   ]
  },
  {
   "cell_type": "code",
   "execution_count": 36,
   "id": "eaabe090-dd3f-409d-b60f-f1347ae684b9",
   "metadata": {},
   "outputs": [],
   "source": [
    "x = 9  # x -> PyObject(id=101, val=9)"
   ]
  },
  {
   "cell_type": "code",
   "execution_count": 40,
   "id": "49851c29-9b61-4fbd-b1c3-350f6a833dd0",
   "metadata": {},
   "outputs": [
    {
     "data": {
      "text/plain": [
       "18"
      ]
     },
     "execution_count": 40,
     "metadata": {},
     "output_type": "execute_result"
    }
   ],
   "source": [
    "do_double(x)  # param = x: param -> PyObject(id=101, val=9)\n",
    "# param *= 2: param -> PyObject(id=202, val=18)"
   ]
  },
  {
   "cell_type": "code",
   "execution_count": 39,
   "id": "8debb340-0fa4-453e-81f3-e558ce9f7cb7",
   "metadata": {},
   "outputs": [
    {
     "data": {
      "text/plain": [
       "9"
      ]
     },
     "execution_count": 39,
     "metadata": {},
     "output_type": "execute_result"
    }
   ],
   "source": [
    "x"
   ]
  },
  {
   "cell_type": "code",
   "execution_count": null,
   "id": "4583258f-c4d2-4db4-a97f-5040c6d9aa5d",
   "metadata": {},
   "outputs": [],
   "source": []
  },
  {
   "cell_type": "code",
   "execution_count": 41,
   "id": "b8a9dd6b-ba47-43a4-8c9f-c14f321097d9",
   "metadata": {},
   "outputs": [],
   "source": [
    "y = [1]  # y -> PyObject(id=505, val=[1])"
   ]
  },
  {
   "cell_type": "code",
   "execution_count": 42,
   "id": "e45323df-355d-4cd3-bdee-03c5e55465e0",
   "metadata": {},
   "outputs": [
    {
     "data": {
      "text/plain": [
       "[1, 1]"
      ]
     },
     "execution_count": 42,
     "metadata": {},
     "output_type": "execute_result"
    }
   ],
   "source": [
    "do_double(y)  # param = y: param -> PyObject(id=505, val=[1])\n",
    "# param *= 2: param -> PyObject(id=505, val=[1, 1])"
   ]
  },
  {
   "cell_type": "code",
   "execution_count": 43,
   "id": "32ae06f1-99d5-45a5-a54c-1b8e6a5fefd8",
   "metadata": {},
   "outputs": [
    {
     "data": {
      "text/plain": [
       "[1, 1]"
      ]
     },
     "execution_count": 43,
     "metadata": {},
     "output_type": "execute_result"
    }
   ],
   "source": [
    "y"
   ]
  },
  {
   "cell_type": "code",
   "execution_count": null,
   "id": "8030a19e-8e29-4805-8de5-d2a3f3d7dca5",
   "metadata": {},
   "outputs": [],
   "source": []
  },
  {
   "cell_type": "code",
   "execution_count": null,
   "id": "2ee57671-f2b1-443e-9e85-13e96d98ed76",
   "metadata": {},
   "outputs": [],
   "source": []
  },
  {
   "cell_type": "code",
   "execution_count": null,
   "id": "f11cf0ab-7f93-4ff4-8711-2e8abb4f6a9d",
   "metadata": {},
   "outputs": [],
   "source": []
  },
  {
   "cell_type": "code",
   "execution_count": 50,
   "id": "a409cc39-ec55-4209-8a24-b0f53418dd81",
   "metadata": {},
   "outputs": [],
   "source": [
    "def do_double(param):\n",
    "    param = param + param\n",
    "    return param"
   ]
  },
  {
   "cell_type": "code",
   "execution_count": 47,
   "id": "379dd55a-3752-42aa-b2cc-b3625ad7d403",
   "metadata": {},
   "outputs": [],
   "source": [
    "y = [1]  # y -> PyObject(id=505, val=[1])"
   ]
  },
  {
   "cell_type": "code",
   "execution_count": 48,
   "id": "2200c926-6142-4f4e-a57a-b2acbf75cca2",
   "metadata": {},
   "outputs": [
    {
     "data": {
      "text/plain": [
       "[1, 1]"
      ]
     },
     "execution_count": 48,
     "metadata": {},
     "output_type": "execute_result"
    }
   ],
   "source": [
    "do_double(y)  # param = y: param -> PyObject(id=505, val=[1])\n",
    "# param = param + param: param -> PyObject(id=909, val=[1, 1])"
   ]
  },
  {
   "cell_type": "code",
   "execution_count": 49,
   "id": "0c0d6dc0-d473-47c2-86c7-3c278acadead",
   "metadata": {},
   "outputs": [
    {
     "data": {
      "text/plain": [
       "[1]"
      ]
     },
     "execution_count": 49,
     "metadata": {},
     "output_type": "execute_result"
    }
   ],
   "source": [
    "y"
   ]
  },
  {
   "cell_type": "code",
   "execution_count": 53,
   "id": "7ef10bf7-293d-4bb1-ba90-b9594a136524",
   "metadata": {},
   "outputs": [
    {
     "name": "stdout",
     "output_type": "stream",
     "text": [
      "4369511168\n",
      "4372906368\n"
     ]
    }
   ],
   "source": [
    "s = \"12\"\n",
    "print(id(s))\n",
    "s += \"34\"\n",
    "print(id(s))"
   ]
  },
  {
   "cell_type": "code",
   "execution_count": null,
   "id": "87e90c8a-1b35-4086-9ed6-32379f37d594",
   "metadata": {},
   "outputs": [],
   "source": []
  },
  {
   "cell_type": "code",
   "execution_count": null,
   "id": "929eec72-b062-4a20-bd68-3e35bdea26ad",
   "metadata": {},
   "outputs": [],
   "source": []
  },
  {
   "cell_type": "code",
   "execution_count": 54,
   "id": "6b211eeb-c59d-4b6a-b43b-15ef8acf8112",
   "metadata": {},
   "outputs": [],
   "source": [
    "nums = list(range(-5, 5))"
   ]
  },
  {
   "cell_type": "code",
   "execution_count": 55,
   "id": "2e3872f2-afe7-4cca-acfd-30896dec77d9",
   "metadata": {},
   "outputs": [
    {
     "data": {
      "text/plain": [
       "[-5, -4, -3, -2, -1, 0, 1, 2, 3, 4]"
      ]
     },
     "execution_count": 55,
     "metadata": {},
     "output_type": "execute_result"
    }
   ],
   "source": [
    "nums"
   ]
  },
  {
   "cell_type": "code",
   "execution_count": 59,
   "id": "f1ccb60a-647b-471d-a2d3-f61ee4dd8b20",
   "metadata": {},
   "outputs": [
    {
     "data": {
      "text/plain": [
       "[0, -1, 1, -2, 2, -3, 3, -4, 4, -5]"
      ]
     },
     "execution_count": 59,
     "metadata": {},
     "output_type": "execute_result"
    }
   ],
   "source": [
    "sorted(nums, key=lambda x: x * x)  # TimSort O(n log n)"
   ]
  },
  {
   "cell_type": "code",
   "execution_count": 60,
   "id": "e58d7a0c-3ebb-4f2f-8237-631c0027abd2",
   "metadata": {},
   "outputs": [
    {
     "name": "stdout",
     "output_type": "stream",
     "text": [
      "[-5, -4, -3, -2, -1, 0, 1, 2, 3, 4]\n",
      "[0, -1, 1, -2, 2, -3, 3, -4, 4, -5]\n"
     ]
    }
   ],
   "source": [
    "print(nums)\n",
    "nums.sort(key=lambda x: x * x)\n",
    "print(nums)"
   ]
  },
  {
   "cell_type": "code",
   "execution_count": 61,
   "id": "6bed4d29-d43e-46a8-a23d-ee9af095850b",
   "metadata": {},
   "outputs": [],
   "source": [
    "def get_min_max(nums: list[int]) -> tuple[int, int]:\n",
    "    nums = sorted(nums)\n",
    "    #nums.sort()\n",
    "\n",
    "    return nums[0], nums[-1]"
   ]
  },
  {
   "cell_type": "code",
   "execution_count": null,
   "id": "38eb0321-8aff-412a-a742-390fea9f90d8",
   "metadata": {},
   "outputs": [],
   "source": []
  },
  {
   "cell_type": "code",
   "execution_count": 63,
   "id": "8472fc81-ab48-4039-b463-a5cfe131001f",
   "metadata": {},
   "outputs": [],
   "source": [
    "def use_default_val(n, nums=[]):\n",
    "    print(f\"use_default_val {n=}, {nums=}, {id(nums)=}\")\n",
    "    nums.append(n)\n",
    "    return nums"
   ]
  },
  {
   "cell_type": "code",
   "execution_count": 64,
   "id": "ec133718-1228-47c1-a0a3-c4795b1937ca",
   "metadata": {},
   "outputs": [
    {
     "name": "stdout",
     "output_type": "stream",
     "text": [
      "use_default_val n=1, nums=[], id(nums)=4366426944\n"
     ]
    },
    {
     "data": {
      "text/plain": [
       "[1]"
      ]
     },
     "execution_count": 64,
     "metadata": {},
     "output_type": "execute_result"
    }
   ],
   "source": [
    "use_default_val(1)"
   ]
  },
  {
   "cell_type": "code",
   "execution_count": 65,
   "id": "d742bd4c-c4ed-4bd4-8c6a-ba926e6c1cb9",
   "metadata": {},
   "outputs": [
    {
     "name": "stdout",
     "output_type": "stream",
     "text": [
      "use_default_val n=2, nums=[1], id(nums)=4366426944\n"
     ]
    },
    {
     "data": {
      "text/plain": [
       "[1, 2]"
      ]
     },
     "execution_count": 65,
     "metadata": {},
     "output_type": "execute_result"
    }
   ],
   "source": [
    "use_default_val(2)"
   ]
  },
  {
   "cell_type": "code",
   "execution_count": 66,
   "id": "ca5f0fb7-d703-4067-85e7-6fa2d29afa84",
   "metadata": {},
   "outputs": [
    {
     "name": "stdout",
     "output_type": "stream",
     "text": [
      "use_default_val n=2, nums=[3], id(nums)=4363612928\n"
     ]
    },
    {
     "data": {
      "text/plain": [
       "[3, 2]"
      ]
     },
     "execution_count": 66,
     "metadata": {},
     "output_type": "execute_result"
    }
   ],
   "source": [
    "use_default_val(2, [3])"
   ]
  },
  {
   "cell_type": "code",
   "execution_count": 67,
   "id": "1418c9e4-3adc-4c12-bc09-55f57d1bdf9f",
   "metadata": {},
   "outputs": [
    {
     "name": "stdout",
     "output_type": "stream",
     "text": [
      "use_default_val n=42, nums=[1, 2], id(nums)=4366426944\n"
     ]
    },
    {
     "data": {
      "text/plain": [
       "[1, 2, 42]"
      ]
     },
     "execution_count": 67,
     "metadata": {},
     "output_type": "execute_result"
    }
   ],
   "source": [
    "use_default_val(42)"
   ]
  },
  {
   "cell_type": "code",
   "execution_count": null,
   "id": "886bbf59-6f63-4aef-b99e-8977f3a2c00f",
   "metadata": {},
   "outputs": [],
   "source": []
  },
  {
   "cell_type": "code",
   "execution_count": 68,
   "id": "854b579e-5832-465a-83a1-9cda4a1c8155",
   "metadata": {},
   "outputs": [
    {
     "name": "stdout",
     "output_type": "stream",
     "text": [
      "use_default_val n=42, nums=[100], id(nums)=4366426880\n"
     ]
    },
    {
     "data": {
      "text/plain": [
       "[100, 42]"
      ]
     },
     "execution_count": 68,
     "metadata": {},
     "output_type": "execute_result"
    }
   ],
   "source": [
    "lst = []\n",
    "\n",
    "def use_default_val(n, nums=lst):\n",
    "    print(f\"use_default_val {n=}, {nums=}, {id(nums)=}\")\n",
    "    nums.append(n)\n",
    "    return nums\n",
    "\n",
    "lst.append(100)\n",
    "\n",
    "use_default_val(42)"
   ]
  },
  {
   "cell_type": "code",
   "execution_count": 69,
   "id": "f5e8a820-795d-4600-bf24-c5ed3a66c16c",
   "metadata": {},
   "outputs": [],
   "source": [
    "def create_list(nums=[]):\n",
    "    return nums\n",
    "\n",
    "\n",
    "def use_default_val_1(n, nums=create_list()):\n",
    "    print(f\"use_default_val_1 {n=}, {nums=}, {id(nums)=}\")\n",
    "    nums.append(n)\n",
    "    return nums\n",
    "\n",
    "\n",
    "def use_default_val_2(n, nums=create_list()):\n",
    "    print(f\"use_default_val_2 {n=}, {nums=}, {id(nums)=}\")\n",
    "    nums.append(n)\n",
    "    return nums"
   ]
  },
  {
   "cell_type": "code",
   "execution_count": 70,
   "id": "fc075665-9055-4e87-b293-956a666d80e4",
   "metadata": {},
   "outputs": [
    {
     "name": "stdout",
     "output_type": "stream",
     "text": [
      "use_default_val_1 n=1, nums=[], id(nums)=4366391488\n"
     ]
    },
    {
     "data": {
      "text/plain": [
       "[1]"
      ]
     },
     "execution_count": 70,
     "metadata": {},
     "output_type": "execute_result"
    }
   ],
   "source": [
    "use_default_val_1(1)"
   ]
  },
  {
   "cell_type": "code",
   "execution_count": 71,
   "id": "13f84f45-1919-484a-99af-1a680f211e27",
   "metadata": {},
   "outputs": [
    {
     "name": "stdout",
     "output_type": "stream",
     "text": [
      "use_default_val_1 n=2, nums=[1], id(nums)=4366391488\n"
     ]
    },
    {
     "data": {
      "text/plain": [
       "[1, 2]"
      ]
     },
     "execution_count": 71,
     "metadata": {},
     "output_type": "execute_result"
    }
   ],
   "source": [
    "use_default_val_1(2)"
   ]
  },
  {
   "cell_type": "code",
   "execution_count": 72,
   "id": "c212c0b8-b37d-45ab-9402-d103f3ce752e",
   "metadata": {},
   "outputs": [
    {
     "name": "stdout",
     "output_type": "stream",
     "text": [
      "use_default_val_2 n=5, nums=[1, 2], id(nums)=4366391488\n"
     ]
    },
    {
     "data": {
      "text/plain": [
       "[1, 2, 5]"
      ]
     },
     "execution_count": 72,
     "metadata": {},
     "output_type": "execute_result"
    }
   ],
   "source": [
    "use_default_val_2(5)"
   ]
  },
  {
   "cell_type": "code",
   "execution_count": 73,
   "id": "7218e98d-b158-4182-987c-6c24e97c3730",
   "metadata": {},
   "outputs": [
    {
     "name": "stdout",
     "output_type": "stream",
     "text": [
      "use_default_val_1 n=99, nums=[1, 2, 5], id(nums)=4366391488\n"
     ]
    },
    {
     "data": {
      "text/plain": [
       "[1, 2, 5, 99]"
      ]
     },
     "execution_count": 73,
     "metadata": {},
     "output_type": "execute_result"
    }
   ],
   "source": [
    "use_default_val_1(99)"
   ]
  },
  {
   "cell_type": "code",
   "execution_count": null,
   "id": "01eb0a40-7513-4281-84b3-4ae3efbe297c",
   "metadata": {},
   "outputs": [],
   "source": []
  },
  {
   "cell_type": "code",
   "execution_count": 74,
   "id": "1238ea54-2997-4372-88c8-4adbe2779fb5",
   "metadata": {},
   "outputs": [],
   "source": [
    "def use_default_val(n, nums=None):\n",
    "    print(f\"use_default_val_1 {n=}, {nums=}, {id(nums)=}\")\n",
    "    if nums is None:\n",
    "        nums = []\n",
    "    nums.append(n)\n",
    "    return nums"
   ]
  },
  {
   "cell_type": "code",
   "execution_count": 75,
   "id": "2b8e8917-0dbd-4915-a72f-9137a3d6da28",
   "metadata": {},
   "outputs": [
    {
     "name": "stdout",
     "output_type": "stream",
     "text": [
      "use_default_val_1 n=1, nums=None, id(nums)=4320215440\n"
     ]
    },
    {
     "data": {
      "text/plain": [
       "[1]"
      ]
     },
     "execution_count": 75,
     "metadata": {},
     "output_type": "execute_result"
    }
   ],
   "source": [
    "use_default_val(1)"
   ]
  },
  {
   "cell_type": "code",
   "execution_count": 76,
   "id": "e7fbb652-6d91-4e75-8cc7-ae75f65efff3",
   "metadata": {},
   "outputs": [
    {
     "name": "stdout",
     "output_type": "stream",
     "text": [
      "use_default_val_1 n=2, nums=None, id(nums)=4320215440\n"
     ]
    },
    {
     "data": {
      "text/plain": [
       "[2]"
      ]
     },
     "execution_count": 76,
     "metadata": {},
     "output_type": "execute_result"
    }
   ],
   "source": [
    "use_default_val(2)"
   ]
  },
  {
   "cell_type": "code",
   "execution_count": 77,
   "id": "1b9f642f-a9e1-454d-b547-13459dc53369",
   "metadata": {},
   "outputs": [
    {
     "name": "stdout",
     "output_type": "stream",
     "text": [
      "use_default_val_1 n=3, nums=[6, 99], id(nums)=4363379392\n"
     ]
    },
    {
     "data": {
      "text/plain": [
       "[6, 99, 3]"
      ]
     },
     "execution_count": 77,
     "metadata": {},
     "output_type": "execute_result"
    }
   ],
   "source": [
    "use_default_val(3, [6, 99])"
   ]
  },
  {
   "cell_type": "code",
   "execution_count": 78,
   "id": "660ecded-0be9-49ab-bcac-3b0545284ce0",
   "metadata": {},
   "outputs": [
    {
     "name": "stdout",
     "output_type": "stream",
     "text": [
      "use_default_val_1 n=4, nums=None, id(nums)=4320215440\n"
     ]
    },
    {
     "data": {
      "text/plain": [
       "[4]"
      ]
     },
     "execution_count": 78,
     "metadata": {},
     "output_type": "execute_result"
    }
   ],
   "source": [
    "use_default_val(4)"
   ]
  },
  {
   "cell_type": "code",
   "execution_count": null,
   "id": "66f97aed-123c-4b5a-80bb-128a477078ac",
   "metadata": {},
   "outputs": [],
   "source": []
  },
  {
   "cell_type": "code",
   "execution_count": null,
   "id": "96bf7383-c654-4cc2-8807-153a5287d3e0",
   "metadata": {},
   "outputs": [],
   "source": []
  },
  {
   "cell_type": "code",
   "execution_count": 80,
   "id": "8b291a1c-b759-47f4-bfe1-ab86a4e088ec",
   "metadata": {},
   "outputs": [],
   "source": [
    "functions = [lambda x: x + i for i in range(5)]"
   ]
  },
  {
   "cell_type": "code",
   "execution_count": 81,
   "id": "a74c7186-03d7-4bfc-8514-1a1e73c1463c",
   "metadata": {},
   "outputs": [
    {
     "data": {
      "text/plain": [
       "False"
      ]
     },
     "execution_count": 81,
     "metadata": {},
     "output_type": "execute_result"
    }
   ],
   "source": [
    "functions[0] is functions[1]"
   ]
  },
  {
   "cell_type": "code",
   "execution_count": 82,
   "id": "c738a872-37a4-408f-991e-8cb59f77f9a4",
   "metadata": {},
   "outputs": [
    {
     "name": "stdout",
     "output_type": "stream",
     "text": [
      "14\n",
      "14\n",
      "14\n",
      "14\n",
      "14\n"
     ]
    }
   ],
   "source": [
    "for func in functions:\n",
    "    print(func(10))"
   ]
  },
  {
   "cell_type": "code",
   "execution_count": null,
   "id": "8ce626bc-362b-4c8b-9709-faec7305b78a",
   "metadata": {},
   "outputs": [],
   "source": []
  },
  {
   "cell_type": "code",
   "execution_count": 84,
   "id": "8cd454bf-cc21-4a97-a775-942925c388db",
   "metadata": {},
   "outputs": [
    {
     "name": "stdout",
     "output_type": "stream",
     "text": [
      "10\n",
      "11\n",
      "12\n",
      "13\n",
      "14\n",
      "--------------------\n",
      "14\n",
      "14\n",
      "14\n",
      "14\n",
      "14\n"
     ]
    }
   ],
   "source": [
    "functions = []\n",
    "for i in range(5):\n",
    "    def calc(x):\n",
    "        return x + i\n",
    "    functions.append(calc)\n",
    "    print(functions[-1](10))\n",
    "\n",
    "print(\"-\" * 20)\n",
    "\n",
    "for func in functions:\n",
    "    print(func(10))"
   ]
  },
  {
   "cell_type": "code",
   "execution_count": 85,
   "id": "3720786b-20f7-441b-9d53-46c3cceac967",
   "metadata": {},
   "outputs": [
    {
     "data": {
      "text/plain": [
       "4"
      ]
     },
     "execution_count": 85,
     "metadata": {},
     "output_type": "execute_result"
    }
   ],
   "source": [
    "i"
   ]
  },
  {
   "cell_type": "code",
   "execution_count": 86,
   "id": "26e331cf-5654-4ead-b64d-4a98fad71fb8",
   "metadata": {},
   "outputs": [],
   "source": [
    "i = 100"
   ]
  },
  {
   "cell_type": "code",
   "execution_count": 87,
   "id": "62841c07-3e17-4177-885b-0337fbe8ae79",
   "metadata": {},
   "outputs": [
    {
     "name": "stdout",
     "output_type": "stream",
     "text": [
      "110\n",
      "110\n",
      "110\n",
      "110\n",
      "110\n"
     ]
    }
   ],
   "source": [
    "for func in functions:\n",
    "    print(func(10))"
   ]
  },
  {
   "cell_type": "code",
   "execution_count": null,
   "id": "e595211e-ac80-41aa-bd74-b136102b1c29",
   "metadata": {},
   "outputs": [],
   "source": []
  },
  {
   "cell_type": "code",
   "execution_count": null,
   "id": "b479c15b-1d5d-42ee-bfc9-5ff1930ccc70",
   "metadata": {},
   "outputs": [],
   "source": []
  },
  {
   "cell_type": "code",
   "execution_count": null,
   "id": "0022c865-68fb-420f-83a1-a93a19fedf9c",
   "metadata": {},
   "outputs": [],
   "source": []
  },
  {
   "cell_type": "code",
   "execution_count": 89,
   "id": "fdead403-a557-4a95-858e-c11fe427f268",
   "metadata": {},
   "outputs": [
    {
     "name": "stdout",
     "output_type": "stream",
     "text": [
      "10\n",
      "11\n",
      "12\n",
      "13\n",
      "14\n",
      "--------------------\n",
      "10\n",
      "11\n",
      "12\n",
      "13\n",
      "14\n"
     ]
    }
   ],
   "source": [
    "functions = []\n",
    "for i in range(5):\n",
    "    def calc(x, new=i):\n",
    "        return x + new\n",
    "\n",
    "    functions.append(calc)\n",
    "    print(functions[-1](10))\n",
    "\n",
    "print(\"-\" * 20)\n",
    "\n",
    "for func in functions:\n",
    "    print(func(10))"
   ]
  },
  {
   "cell_type": "code",
   "execution_count": null,
   "id": "4afdc350-f854-49ac-8f83-d5bc459b98ac",
   "metadata": {},
   "outputs": [],
   "source": []
  },
  {
   "cell_type": "code",
   "execution_count": null,
   "id": "ef57c8b5-b356-4141-9179-ca6bbb27b77e",
   "metadata": {},
   "outputs": [],
   "source": []
  },
  {
   "cell_type": "code",
   "execution_count": 92,
   "id": "d1b837be-4730-4398-a73a-d91e601ba416",
   "metadata": {},
   "outputs": [],
   "source": [
    "from functools import wraps"
   ]
  },
  {
   "cell_type": "code",
   "execution_count": 99,
   "id": "2cbab833-4537-468a-b307-52b873f4d944",
   "metadata": {},
   "outputs": [],
   "source": [
    "def time_it(fn):\n",
    "    def inner_func(*args, **kwargs):\n",
    "        start = time.time()\n",
    "        try:\n",
    "            res = fn(*args, **kwargs)\n",
    "        finally:\n",
    "            print(time.time() - start)\n",
    "        return res\n",
    "\n",
    "    return inner_func\n",
    "\n",
    "\n",
    "@time_it\n",
    "def sleep_func(sec):\n",
    "    print(f'run with {sec}')\n",
    "    raise RuntimeError\n",
    "    time.sleep(sec)\n",
    "\n",
    "\n",
    "def other_fn():\n",
    "    pass\n",
    "\n",
    "other_fn = time_it(other_fn)"
   ]
  },
  {
   "cell_type": "code",
   "execution_count": 113,
   "id": "06b7b2cc-1dce-48c0-8959-de65f726c483",
   "metadata": {},
   "outputs": [],
   "source": [
    "def time_it_avg(k):\n",
    "    last_calls = []\n",
    "    def time_it(fn):\n",
    "        @wraps(fn)\n",
    "        def inner_func(*args, **kwargs):\n",
    "            start = time.time()\n",
    "            try:\n",
    "                res = fn(*args, **kwargs)\n",
    "            finally:\n",
    "                last_time = time.time() - start\n",
    "                print(last_time)\n",
    "                last_calls.append(last_time)\n",
    "                print(sum(last_calls[-k:]) / min(len(last_calls), k))\n",
    "            return res\n",
    "    \n",
    "        return inner_func\n",
    "    return time_it\n",
    "\n",
    "\n",
    "@time_it_avg(2)\n",
    "def sleep_func_1(sec):\n",
    "    print(f'run with {sec}')\n",
    "    # raise RuntimeError\n",
    "    time.sleep(sec)\n",
    "\n",
    "\n",
    "def other_sleep(num):\n",
    "    pass\n",
    "\n",
    "other_sleep = time_it_avg(10)(other_sleep)"
   ]
  },
  {
   "cell_type": "code",
   "execution_count": 91,
   "id": "4a2250bf-b796-476c-959e-c202466e6f27",
   "metadata": {},
   "outputs": [
    {
     "data": {
      "text/plain": [
       "<function __main__.time_it_avg.<locals>.time_it.<locals>.inner_func(*args, **kwargs)>"
      ]
     },
     "execution_count": 91,
     "metadata": {},
     "output_type": "execute_result"
    }
   ],
   "source": [
    "sleep_func_1"
   ]
  },
  {
   "cell_type": "code",
   "execution_count": 94,
   "id": "32b52d5d-8528-4640-b5ca-a615528c8fce",
   "metadata": {},
   "outputs": [
    {
     "data": {
      "text/plain": [
       "<function __main__.sleep_func_1(sec)>"
      ]
     },
     "execution_count": 94,
     "metadata": {},
     "output_type": "execute_result"
    }
   ],
   "source": [
    "sleep_func_1"
   ]
  },
  {
   "cell_type": "code",
   "execution_count": 96,
   "id": "07108dcb-7c7e-4f06-ba7e-d8d5292de49b",
   "metadata": {},
   "outputs": [
    {
     "data": {
      "text/plain": [
       "<function __main__.sleep_func_1(sec)>"
      ]
     },
     "execution_count": 96,
     "metadata": {},
     "output_type": "execute_result"
    }
   ],
   "source": [
    "sleep_func_1.__wrapped__"
   ]
  },
  {
   "cell_type": "code",
   "execution_count": 97,
   "id": "10052b54-dd95-4f3e-a4ea-2ea5dd4c3e4c",
   "metadata": {},
   "outputs": [
    {
     "data": {
      "text/plain": [
       "False"
      ]
     },
     "execution_count": 97,
     "metadata": {},
     "output_type": "execute_result"
    }
   ],
   "source": [
    "sleep_func_1 is sleep_func_1.__wrapped__"
   ]
  },
  {
   "cell_type": "code",
   "execution_count": 116,
   "id": "531aaacb-fa52-4a58-b71e-5b1bde576ea7",
   "metadata": {},
   "outputs": [
    {
     "data": {
      "text/plain": [
       "[]"
      ]
     },
     "execution_count": 116,
     "metadata": {},
     "output_type": "execute_result"
    }
   ],
   "source": [
    "sleep_func_1.__closure__[2].cell_contents"
   ]
  },
  {
   "cell_type": "code",
   "execution_count": 106,
   "id": "c9ee25b0-8419-41ee-ade5-0440e3c6c5b0",
   "metadata": {},
   "outputs": [],
   "source": [
    "import time"
   ]
  },
  {
   "cell_type": "code",
   "execution_count": 117,
   "id": "ccc818bd-ee20-40c5-b296-720d35c689f0",
   "metadata": {},
   "outputs": [
    {
     "name": "stdout",
     "output_type": "stream",
     "text": [
      "run with 1\n",
      "1.0054681301116943\n",
      "1.0054681301116943\n"
     ]
    }
   ],
   "source": [
    "sleep_func_1(1)"
   ]
  },
  {
   "cell_type": "code",
   "execution_count": 118,
   "id": "274b985b-7813-42ea-8880-c16e8413ad05",
   "metadata": {},
   "outputs": [
    {
     "name": "stdout",
     "output_type": "stream",
     "text": [
      "run with 4\n",
      "4.000749826431274\n",
      "2.5031089782714844\n"
     ]
    }
   ],
   "source": [
    "sleep_func_1(4)"
   ]
  },
  {
   "cell_type": "code",
   "execution_count": 119,
   "id": "e2e5fae9-0c90-4c70-99b8-83676a8fd122",
   "metadata": {},
   "outputs": [
    {
     "data": {
      "text/plain": [
       "[1.0054681301116943, 4.000749826431274]"
      ]
     },
     "execution_count": 119,
     "metadata": {},
     "output_type": "execute_result"
    }
   ],
   "source": [
    "sleep_func_1.__closure__[2].cell_contents"
   ]
  },
  {
   "cell_type": "code",
   "execution_count": 120,
   "id": "dc5b1bd8-ff04-444d-b2d1-1e7503b2c2d6",
   "metadata": {},
   "outputs": [
    {
     "data": {
      "text/plain": [
       "[]"
      ]
     },
     "execution_count": 120,
     "metadata": {},
     "output_type": "execute_result"
    }
   ],
   "source": [
    "other_sleep.__closure__[2].cell_contents"
   ]
  },
  {
   "cell_type": "code",
   "execution_count": null,
   "id": "2c02ffbc-3f41-4e21-b0e0-e5ebb7ce251f",
   "metadata": {},
   "outputs": [],
   "source": []
  },
  {
   "cell_type": "code",
   "execution_count": null,
   "id": "3632aa0f-25bc-4f57-882e-8c1f913f0d67",
   "metadata": {},
   "outputs": [],
   "source": []
  },
  {
   "cell_type": "code",
   "execution_count": 123,
   "id": "1a5b343e-1126-4288-b94e-36313d6386cd",
   "metadata": {},
   "outputs": [
    {
     "name": "stdout",
     "output_type": "stream",
     "text": [
      "qwerty\n"
     ]
    }
   ],
   "source": [
    "# run_xxx.py\n",
    "\n",
    "def xxx():\n",
    "    print(\"qwerty\")\n",
    "\n",
    "\n",
    "if __name__ == \"__main__\":\n",
    "    xxx()"
   ]
  },
  {
   "cell_type": "code",
   "execution_count": 124,
   "id": "19e16c20-fd9a-4652-889e-8c3cf0346904",
   "metadata": {},
   "outputs": [],
   "source": [
    "# python run_xxx.py"
   ]
  },
  {
   "cell_type": "code",
   "execution_count": null,
   "id": "30a8864c-824b-4417-b19b-f62bac5caa54",
   "metadata": {},
   "outputs": [],
   "source": [
    "# stat.py\n",
    "import run_xxx"
   ]
  },
  {
   "cell_type": "code",
   "execution_count": null,
   "id": "9cd50501-a0b4-4e88-9321-8f3ab6b65db3",
   "metadata": {},
   "outputs": [],
   "source": []
  },
  {
   "cell_type": "code",
   "execution_count": null,
   "id": "46728a1e-0c38-446e-8096-3376b8028efa",
   "metadata": {},
   "outputs": [],
   "source": []
  },
  {
   "cell_type": "code",
   "execution_count": 125,
   "id": "1afb0677-02aa-44cb-a58d-7b27f9eb0e58",
   "metadata": {},
   "outputs": [],
   "source": [
    "class BaseApiError(Exception):\n",
    "    pass\n",
    "\n",
    "\n",
    "class ClientError(BaseApiError):\n",
    "    pass\n",
    "\n",
    "\n",
    "class HttpError(BaseApiError):\n",
    "    pass\n",
    "\n",
    "\n",
    "class NotFoundError(HttpError):\n",
    "    pass\n",
    "\n",
    "\n",
    "def do_request():\n",
    "    raise HttpError()"
   ]
  },
  {
   "cell_type": "code",
   "execution_count": 126,
   "id": "56939185-d23f-470d-8134-aa125fa988af",
   "metadata": {},
   "outputs": [
    {
     "ename": "HttpError",
     "evalue": "",
     "output_type": "error",
     "traceback": [
      "\u001b[31m---------------------------------------------------------------------------\u001b[39m",
      "\u001b[31mHttpError\u001b[39m                                 Traceback (most recent call last)",
      "\u001b[36mCell\u001b[39m\u001b[36m \u001b[39m\u001b[32mIn[126]\u001b[39m\u001b[32m, line 1\u001b[39m\n\u001b[32m----> \u001b[39m\u001b[32m1\u001b[39m \u001b[43mdo_request\u001b[49m\u001b[43m(\u001b[49m\u001b[43m)\u001b[49m\n",
      "\u001b[36mCell\u001b[39m\u001b[36m \u001b[39m\u001b[32mIn[125]\u001b[39m\u001b[32m, line 18\u001b[39m, in \u001b[36mdo_request\u001b[39m\u001b[34m()\u001b[39m\n\u001b[32m     17\u001b[39m \u001b[38;5;28;01mdef\u001b[39;00m\u001b[38;5;250m \u001b[39m\u001b[34mdo_request\u001b[39m():\n\u001b[32m---> \u001b[39m\u001b[32m18\u001b[39m     \u001b[38;5;28;01mraise\u001b[39;00m HttpError()\n",
      "\u001b[31mHttpError\u001b[39m: "
     ]
    }
   ],
   "source": [
    "do_request()"
   ]
  },
  {
   "cell_type": "code",
   "execution_count": 127,
   "id": "9f1b82bb-b9c8-4bed-b129-7c26f17231f8",
   "metadata": {},
   "outputs": [
    {
     "name": "stdout",
     "output_type": "stream",
     "text": [
      "BaseApiError \n"
     ]
    }
   ],
   "source": [
    "try:\n",
    "    do_request()\n",
    "except NotFoundError as err:\n",
    "    print(\"NotFoundError\", err)\n",
    "except (BaseApiError, Exception) as err:\n",
    "    print(\"BaseApiError\", err)\n",
    "except HttpError as err:\n",
    "    print(\"HttpError\", err)\n",
    "else:\n",
    "    print(\"else\")"
   ]
  },
  {
   "cell_type": "code",
   "execution_count": 128,
   "id": "4815f417-f642-4010-90d3-ac4abfafe9e6",
   "metadata": {},
   "outputs": [
    {
     "name": "stdout",
     "output_type": "stream",
     "text": [
      "HttpError \n"
     ]
    }
   ],
   "source": [
    "try:\n",
    "    do_request()\n",
    "except NotFoundError as err:\n",
    "    print(\"NotFoundError\", err)\n",
    "except HttpError as err:\n",
    "    print(\"HttpError\", err)\n",
    "except (BaseApiError, Exception) as err:\n",
    "    print(\"BaseApiError\", err)\n",
    "else:\n",
    "    print(\"else\")"
   ]
  },
  {
   "cell_type": "code",
   "execution_count": 129,
   "id": "f73354d2-c800-4021-a75b-5165772b1d2c",
   "metadata": {},
   "outputs": [
    {
     "name": "stdout",
     "output_type": "stream",
     "text": [
      "HttpError \n",
      "finally\n"
     ]
    }
   ],
   "source": [
    "try:\n",
    "    do_request()\n",
    "except NotFoundError as err:\n",
    "    print(\"NotFoundError\", err)\n",
    "except HttpError as err:\n",
    "    print(\"HttpError\", err)\n",
    "except (BaseApiError, Exception) as err:\n",
    "    print(\"BaseApiError\", err)\n",
    "finally:\n",
    "    print(\"finally\")"
   ]
  },
  {
   "cell_type": "code",
   "execution_count": 133,
   "id": "254935ec-bc70-4a6a-a0cf-72cbfb365089",
   "metadata": {},
   "outputs": [
    {
     "name": "stdout",
     "output_type": "stream",
     "text": [
      "HttpError \n",
      "finally\n"
     ]
    },
    {
     "ename": "BaseApiError",
     "evalue": "",
     "output_type": "error",
     "traceback": [
      "\u001b[31m---------------------------------------------------------------------------\u001b[39m",
      "\u001b[31mHttpError\u001b[39m                                 Traceback (most recent call last)",
      "\u001b[36mCell\u001b[39m\u001b[36m \u001b[39m\u001b[32mIn[133]\u001b[39m\u001b[32m, line 2\u001b[39m\n\u001b[32m      1\u001b[39m \u001b[38;5;28;01mtry\u001b[39;00m:\n\u001b[32m----> \u001b[39m\u001b[32m2\u001b[39m     \u001b[43mdo_request\u001b[49m\u001b[43m(\u001b[49m\u001b[43m)\u001b[49m\n\u001b[32m      3\u001b[39m \u001b[38;5;28;01mexcept\u001b[39;00m NotFoundError \u001b[38;5;28;01mas\u001b[39;00m err:\n",
      "\u001b[36mCell\u001b[39m\u001b[36m \u001b[39m\u001b[32mIn[125]\u001b[39m\u001b[32m, line 18\u001b[39m, in \u001b[36mdo_request\u001b[39m\u001b[34m()\u001b[39m\n\u001b[32m     17\u001b[39m \u001b[38;5;28;01mdef\u001b[39;00m\u001b[38;5;250m \u001b[39m\u001b[34mdo_request\u001b[39m():\n\u001b[32m---> \u001b[39m\u001b[32m18\u001b[39m     \u001b[38;5;28;01mraise\u001b[39;00m HttpError()\n",
      "\u001b[31mHttpError\u001b[39m: ",
      "\nThe above exception was the direct cause of the following exception:\n",
      "\u001b[31mBaseApiError\u001b[39m                              Traceback (most recent call last)",
      "\u001b[36mCell\u001b[39m\u001b[36m \u001b[39m\u001b[32mIn[133]\u001b[39m\u001b[32m, line 7\u001b[39m\n\u001b[32m      5\u001b[39m \u001b[38;5;28;01mexcept\u001b[39;00m HttpError \u001b[38;5;28;01mas\u001b[39;00m err:\n\u001b[32m      6\u001b[39m     \u001b[38;5;28mprint\u001b[39m(\u001b[33m\"\u001b[39m\u001b[33mHttpError\u001b[39m\u001b[33m\"\u001b[39m, err)\n\u001b[32m----> \u001b[39m\u001b[32m7\u001b[39m     \u001b[38;5;28;01mraise\u001b[39;00m BaseApiError() \u001b[38;5;28;01mfrom\u001b[39;00m\u001b[38;5;250m \u001b[39m\u001b[34;01merr\u001b[39;00m\n\u001b[32m      8\u001b[39m \u001b[38;5;28;01mexcept\u001b[39;00m (BaseApiError, \u001b[38;5;167;01mException\u001b[39;00m) \u001b[38;5;28;01mas\u001b[39;00m err:\n\u001b[32m      9\u001b[39m     \u001b[38;5;28mprint\u001b[39m(\u001b[33m\"\u001b[39m\u001b[33mBaseApiError\u001b[39m\u001b[33m\"\u001b[39m, err)\n",
      "\u001b[31mBaseApiError\u001b[39m: "
     ]
    }
   ],
   "source": [
    "try:\n",
    "    do_request()\n",
    "except NotFoundError as err:\n",
    "    print(\"NotFoundError\", err)\n",
    "except HttpError as err:\n",
    "    print(\"HttpError\", err)\n",
    "    raise BaseApiError() from err\n",
    "except (BaseApiError, Exception) as err:\n",
    "    print(\"BaseApiError\", err)\n",
    "finally:\n",
    "    print(\"finally\")"
   ]
  },
  {
   "cell_type": "code",
   "execution_count": 134,
   "id": "83cdde93-bd4c-4c9c-9c08-507378a09a3a",
   "metadata": {},
   "outputs": [
    {
     "data": {
      "text/plain": [
       "True"
      ]
     },
     "execution_count": 134,
     "metadata": {},
     "output_type": "execute_result"
    }
   ],
   "source": [
    "isinstance(HttpError(), (ValueError, Exception))"
   ]
  },
  {
   "cell_type": "code",
   "execution_count": 135,
   "id": "2bb2ef33-e316-486b-9251-b817fd7e8e5f",
   "metadata": {},
   "outputs": [
    {
     "data": {
      "text/plain": [
       "False"
      ]
     },
     "execution_count": 135,
     "metadata": {},
     "output_type": "execute_result"
    }
   ],
   "source": [
    "isinstance(HttpError(), ValueError)"
   ]
  },
  {
   "cell_type": "code",
   "execution_count": 136,
   "id": "7a39e24a-abd6-480e-8323-abdecbba84af",
   "metadata": {},
   "outputs": [
    {
     "data": {
      "text/plain": [
       "True"
      ]
     },
     "execution_count": 136,
     "metadata": {},
     "output_type": "execute_result"
    }
   ],
   "source": [
    "isinstance(HttpError(), Exception)"
   ]
  },
  {
   "cell_type": "code",
   "execution_count": null,
   "id": "5dfbf584-71c4-4787-bc91-91a32df982fc",
   "metadata": {},
   "outputs": [],
   "source": []
  }
 ],
 "metadata": {
  "kernelspec": {
   "display_name": "Python 3 (ipykernel)",
   "language": "python",
   "name": "python3"
  },
  "language_info": {
   "codemirror_mode": {
    "name": "ipython",
    "version": 3
   },
   "file_extension": ".py",
   "mimetype": "text/x-python",
   "name": "python",
   "nbconvert_exporter": "python",
   "pygments_lexer": "ipython3",
   "version": "3.13.2"
  }
 },
 "nbformat": 4,
 "nbformat_minor": 5
}
