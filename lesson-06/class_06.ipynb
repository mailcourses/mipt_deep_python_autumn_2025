{
 "cells": [
  {
   "cell_type": "code",
   "execution_count": 84,
   "id": "b45d093e-e407-46e6-b1d8-8a6798025d7c",
   "metadata": {},
   "outputs": [],
   "source": [
    "import threading\n",
    "import time"
   ]
  },
  {
   "cell_type": "code",
   "execution_count": 2,
   "id": "5c834a45-ac4f-41f7-8bc0-dc9dc94cbf6f",
   "metadata": {},
   "outputs": [
    {
     "data": {
      "text/plain": [
       "8"
      ]
     },
     "execution_count": 2,
     "metadata": {},
     "output_type": "execute_result"
    }
   ],
   "source": [
    "threading.active_count()"
   ]
  },
  {
   "cell_type": "code",
   "execution_count": 3,
   "id": "f473d85a-e268-4828-9a79-f9138a9a4950",
   "metadata": {},
   "outputs": [
    {
     "data": {
      "text/plain": [
       "[<_MainThread(MainThread, started 140704598691712)>,\n",
       " <Thread(IOPub, started daemon 123145521446912)>,\n",
       " <Heartbeat(Heartbeat, started daemon 123145538236416)>,\n",
       " <Thread(Thread-2 (_watch_pipe_fd), started daemon 123145556099072)>,\n",
       " <Thread(Thread-3 (_watch_pipe_fd), started daemon 123145572888576)>,\n",
       " <ControlThread(Control, started daemon 123145589678080)>,\n",
       " <HistorySavingThread(IPythonHistorySavingThread, started 123145606467584)>,\n",
       " <ParentPollerUnix(Thread-1, started daemon 123145623793664)>]"
      ]
     },
     "execution_count": 3,
     "metadata": {},
     "output_type": "execute_result"
    }
   ],
   "source": [
    "threading.enumerate()"
   ]
  },
  {
   "cell_type": "code",
   "execution_count": 4,
   "id": "edab63a6-1305-466f-9f40-bb4521df481c",
   "metadata": {},
   "outputs": [],
   "source": [
    "cur = threading.current_thread()"
   ]
  },
  {
   "cell_type": "code",
   "execution_count": 5,
   "id": "80ad58a6-5088-495c-bf5a-2898815663ff",
   "metadata": {},
   "outputs": [
    {
     "data": {
      "text/plain": [
       "threading.Thread"
      ]
     },
     "execution_count": 5,
     "metadata": {},
     "output_type": "execute_result"
    }
   ],
   "source": [
    "threading.Thread"
   ]
  },
  {
   "cell_type": "code",
   "execution_count": 6,
   "id": "5587fcf4-288a-45b1-aadd-29127bd8d9d7",
   "metadata": {},
   "outputs": [
    {
     "data": {
      "text/plain": [
       "<_MainThread(MainThread, started 140704598691712)>"
      ]
     },
     "execution_count": 6,
     "metadata": {},
     "output_type": "execute_result"
    }
   ],
   "source": [
    "cur"
   ]
  },
  {
   "cell_type": "code",
   "execution_count": 9,
   "id": "43bf321b-20fa-44f9-9081-f75e854e66cf",
   "metadata": {},
   "outputs": [
    {
     "data": {
      "text/plain": [
       "('MainThread', 11850612, 140704598691712, False, True)"
      ]
     },
     "execution_count": 9,
     "metadata": {},
     "output_type": "execute_result"
    }
   ],
   "source": [
    "cur.name, cur.native_id, cur.ident, cur.daemon, cur.is_alive()"
   ]
  },
  {
   "cell_type": "code",
   "execution_count": 10,
   "id": "048baab4-0b45-4459-91fb-2c76fb178bb7",
   "metadata": {},
   "outputs": [
    {
     "data": {
      "text/plain": [
       "(140704598691712, 11850612)"
      ]
     },
     "execution_count": 10,
     "metadata": {},
     "output_type": "execute_result"
    }
   ],
   "source": [
    "threading.get_ident(), threading.get_native_id()"
   ]
  },
  {
   "cell_type": "code",
   "execution_count": null,
   "id": "6feb3108-7fab-48bb-bc3b-bb5e5e1643dc",
   "metadata": {},
   "outputs": [],
   "source": []
  },
  {
   "cell_type": "code",
   "execution_count": null,
   "id": "5ad1c0f0-bceb-424d-8793-cebaba7e4a79",
   "metadata": {},
   "outputs": [],
   "source": []
  },
  {
   "cell_type": "code",
   "execution_count": 26,
   "id": "02822f6d-8a14-4301-93af-bed464cd35bb",
   "metadata": {},
   "outputs": [
    {
     "name": "stdout",
     "output_type": "stream",
     "text": [
      "before data.is_alive()=False\n",
      "self.name='Thread-11', self.native_id=11886814, self.daemon=False\n",
      "self.name='Thread-11', i=0\n",
      "after join 0\n",
      "self.name='Thread-11', i=1\n",
      "self.name='Thread-11', i=2\n"
     ]
    }
   ],
   "source": [
    "class DataProcessor(threading.Thread):\n",
    "    def __init__(self, n):\n",
    "        super().__init__()\n",
    "        self.n = n\n",
    "        self.result = 0\n",
    "\n",
    "    def run(self):\n",
    "        print(f\"{self.name=}, {self.native_id=}, {self.daemon=}\")\n",
    "\n",
    "        for i in range(self.n):\n",
    "            print(f\"{self.name=}, {i=}\")\n",
    "            self.result += i\n",
    "            time.sleep(1)\n",
    "    \n",
    "\n",
    "data = DataProcessor(10)\n",
    "print(f\"before {data.is_alive()=}\")\n",
    "\n",
    "data.start()\n",
    "# data.join()\n",
    "print(f\"after join\", data.result)"
   ]
  },
  {
   "cell_type": "code",
   "execution_count": 27,
   "id": "790f42e9-072c-4e45-b6e5-bfc772a3e149",
   "metadata": {},
   "outputs": [
    {
     "name": "stdout",
     "output_type": "stream",
     "text": [
      "after data.is_alive()=True\n",
      "self.name='Thread-11', i=3\n",
      "self.name='Thread-11', i=4\n",
      "self.name='Thread-11', i=5\n",
      "self.name='Thread-11', i=6\n",
      "self.name='Thread-11', i=7\n",
      "self.name='Thread-11', i=8\n",
      "self.name='Thread-11', i=9\n"
     ]
    }
   ],
   "source": [
    "print(f\"after {data.is_alive()=}\")"
   ]
  },
  {
   "cell_type": "code",
   "execution_count": 25,
   "id": "7257b689-7fee-4076-af34-5adf41a02cf9",
   "metadata": {},
   "outputs": [
    {
     "data": {
      "text/plain": [
       "45"
      ]
     },
     "execution_count": 25,
     "metadata": {},
     "output_type": "execute_result"
    }
   ],
   "source": [
    "data.result"
   ]
  },
  {
   "cell_type": "code",
   "execution_count": null,
   "id": "c6ca65b6-cec7-4ebb-8a5f-ae66c3dce274",
   "metadata": {},
   "outputs": [],
   "source": []
  },
  {
   "cell_type": "code",
   "execution_count": null,
   "id": "91965fce-7722-45e1-9b32-18df5f40659c",
   "metadata": {},
   "outputs": [],
   "source": []
  },
  {
   "cell_type": "code",
   "execution_count": 28,
   "id": "bcf0909a-546b-4a4a-affc-8da23b5ccab8",
   "metadata": {},
   "outputs": [],
   "source": [
    "N = 10 ** 8\n",
    "\n",
    "def counter(a, b):\n",
    "    while a < b:\n",
    "        a += 1"
   ]
  },
  {
   "cell_type": "code",
   "execution_count": 29,
   "id": "a90bc41d-8634-4685-8d20-c10efe8cd0ae",
   "metadata": {},
   "outputs": [
    {
     "name": "stdout",
     "output_type": "stream",
     "text": [
      "CPU times: user 3.91 s, sys: 63.4 ms, total: 3.97 s\n",
      "Wall time: 4.31 s\n"
     ]
    }
   ],
   "source": [
    "%%time\n",
    "\n",
    "counter(0, N)"
   ]
  },
  {
   "cell_type": "code",
   "execution_count": 33,
   "id": "e0d8a602-b10c-4f33-8589-4288b020479f",
   "metadata": {},
   "outputs": [
    {
     "name": "stdout",
     "output_type": "stream",
     "text": [
      "CPU times: user 4.09 s, sys: 80.4 ms, total: 4.17 s\n",
      "Wall time: 4.53 s\n"
     ]
    }
   ],
   "source": [
    "%%time\n",
    "\n",
    "th = threading.Thread(target=counter, args=(0, N), name=\"counter_0\")\n",
    "th.start()\n",
    "th.join()"
   ]
  },
  {
   "cell_type": "code",
   "execution_count": 31,
   "id": "ec8ddb39-dd1e-4d49-906c-c9582295a391",
   "metadata": {},
   "outputs": [
    {
     "data": {
      "text/plain": [
       "False"
      ]
     },
     "execution_count": 31,
     "metadata": {},
     "output_type": "execute_result"
    }
   ],
   "source": [
    "th.is_alive()"
   ]
  },
  {
   "cell_type": "code",
   "execution_count": null,
   "id": "dd43bb06-81c2-49e6-af05-607539a9248f",
   "metadata": {},
   "outputs": [],
   "source": []
  },
  {
   "cell_type": "code",
   "execution_count": null,
   "id": "ba5323eb-4ee1-4141-8844-318adbdf9f7f",
   "metadata": {},
   "outputs": [],
   "source": []
  },
  {
   "cell_type": "code",
   "execution_count": 34,
   "id": "6494cfdc-098d-4f63-8d5c-daa2dd120118",
   "metadata": {},
   "outputs": [
    {
     "name": "stdout",
     "output_type": "stream",
     "text": [
      "threading.current_thread().name='counter_0' startedthreading.current_thread().name='counter_1' started\n",
      "\n",
      "threading.current_thread().name='counter_2' started\n",
      "threading.current_thread().name='counter_3' started\n",
      "threading.current_thread().name='counter_4' started\n",
      "threading.current_thread().name='counter_5' started\n",
      "threading.current_thread().name='counter_6' started\n",
      "threading.current_thread().name='counter_7' started\n",
      "threading.current_thread().name='counter_8' started\n",
      "threading.current_thread().name='counter_9' started\n",
      "threading.current_thread().name='counter_3' finished\n",
      "threading.current_thread().name='counter_2' finished\n",
      "threading.current_thread().name='counter_1' finished\n",
      "threading.current_thread().name='counter_9' finished\n",
      "threading.current_thread().name='counter_4' finished\n",
      "threading.current_thread().name='counter_6' finished\n",
      "threading.current_thread().name='counter_5' finishedthreading.current_thread().name='counter_8' finished\n",
      "\n",
      "threading.current_thread().name='counter_0' finished\n",
      "threading.current_thread().name='counter_7' finished\n",
      "CPU times: user 4.34 s, sys: 207 ms, total: 4.54 s\n",
      "Wall time: 5.01 s\n"
     ]
    }
   ],
   "source": [
    "%%time\n",
    "\n",
    "N_THREADS = 10\n",
    "N = 10 ** 8\n",
    "N_JOBS = N // N_THREADS\n",
    "\n",
    "\n",
    "def counter(a, b):\n",
    "    print(f\"{threading.current_thread().name=} started\")\n",
    "    while a < b:\n",
    "        a += 1\n",
    "    print(f\"{threading.current_thread().name=} finished\")\n",
    "\n",
    "\n",
    "threads = [\n",
    "    threading.Thread(\n",
    "        target=counter,\n",
    "        args=(i * N_JOBS, (i + 1) * N_JOBS),\n",
    "        name=f\"counter_{i}\"\n",
    "    )\n",
    "    for i in range(N_THREADS)\n",
    "]\n",
    "for th in threads:\n",
    "    th.start()\n",
    "\n",
    "for th in threads:\n",
    "    th.join()"
   ]
  },
  {
   "cell_type": "code",
   "execution_count": null,
   "id": "f924de2b-a74b-44b5-9e63-02924333636b",
   "metadata": {},
   "outputs": [],
   "source": []
  },
  {
   "cell_type": "code",
   "execution_count": null,
   "id": "364703d1-079f-4421-9064-f21cb063c63a",
   "metadata": {},
   "outputs": [],
   "source": []
  },
  {
   "cell_type": "code",
   "execution_count": 38,
   "id": "3877a571-0a40-4210-87c4-9e81ba1a84a6",
   "metadata": {},
   "outputs": [
    {
     "name": "stdout",
     "output_type": "stream",
     "text": [
      "import time\n",
      "import threading\n",
      "\n",
      "N = 2 * 10 ** 8\n",
      "N_THREADS = 10\n",
      "N_JOBS = N // N_THREADS\n",
      "\n",
      "\n",
      "def counter(a, b):\n",
      "    print(f\"{threading.current_thread().name=} -- started\")\n",
      "    while a < b:\n",
      "        a += 1\n",
      "    print(f\"{threading.current_thread().name=} -- finish\")\n",
      "\n",
      "\n",
      "threads = [\n",
      "    threading.Thread(\n",
      "        target=counter,\n",
      "        args=(i * N_JOBS, (i + 1) * N_JOBS),\n",
      "        name=f\"counter_{i}\"\n",
      "    )\n",
      "    for i in range(N_THREADS)\n",
      "]\n",
      "t1 = time.time()\n",
      "\n",
      "for th in threads:\n",
      "    th.start()\n",
      "\n",
      "for th in threads:\n",
      "    th.join()\n",
      "\n",
      "t2 = time.time()\n",
      "\n",
      "\n",
      "print(\"TT\", t2 - t1)\n"
     ]
    }
   ],
   "source": [
    "!cat ../check_no_gil.py"
   ]
  },
  {
   "cell_type": "code",
   "execution_count": 39,
   "id": "31b033e9-34a5-45a4-b349-4929513c7e3f",
   "metadata": {},
   "outputs": [
    {
     "name": "stdout",
     "output_type": "stream",
     "text": [
      "threading.current_thread().name='counter_0' -- started\n",
      "threading.current_thread().name='counter_1' -- started\n",
      "threading.current_thread().name='counter_2' -- started\n",
      "threading.current_thread().name='counter_3' -- started\n",
      "threading.current_thread().name='counter_4' -- started\n",
      "threading.current_thread().name='counter_5' -- started\n",
      "threading.current_thread().name='counter_6' -- started\n",
      "threading.current_thread().name='counter_7' -- started\n",
      "threading.current_thread().name='counter_8' -- started\n",
      "threading.current_thread().name='counter_9' -- started\n",
      "threading.current_thread().name='counter_5' -- finish\n",
      "threading.current_thread().name='counter_3' -- finish\n",
      "threading.current_thread().name='counter_6' -- finish\n",
      "threading.current_thread().name='counter_1' -- finish\n",
      "threading.current_thread().name='counter_8' -- finish\n",
      "threading.current_thread().name='counter_7' -- finish\n",
      "threading.current_thread().name='counter_0' -- finish\n",
      "threading.current_thread().name='counter_2' -- finish\n",
      "threading.current_thread().name='counter_4' -- finish\n",
      "threading.current_thread().name='counter_9' -- finish\n",
      "TT 8.461515188217163\n"
     ]
    }
   ],
   "source": [
    "!python3.13 ../check_no_gil.py"
   ]
  },
  {
   "cell_type": "code",
   "execution_count": 40,
   "id": "e54d58b7-6fae-4419-b4c0-7ab73caa5174",
   "metadata": {},
   "outputs": [
    {
     "name": "stdout",
     "output_type": "stream",
     "text": [
      "threading.current_thread().name='counter_0' -- started\n",
      "threading.current_thread().name='counter_1' -- started\n",
      "threading.current_thread().name='counter_2' -- started\n",
      "threading.current_thread().name='counter_3' -- started\n",
      "threading.current_thread().name='counter_4' -- started\n",
      "threading.current_thread().name='counter_5' -- started\n",
      "threading.current_thread().name='counter_6' -- started\n",
      "threading.current_thread().name='counter_7' -- started\n",
      "threading.current_thread().name='counter_8' -- started\n",
      "threading.current_thread().name='counter_9' -- started\n",
      "threading.current_thread().name='counter_1' -- finish\n",
      "threading.current_thread().name='counter_2' -- finish\n",
      "threading.current_thread().name='counter_0' -- finish\n",
      "threading.current_thread().name='counter_4' -- finish\n",
      "threading.current_thread().name='counter_5' -- finish\n",
      "threading.current_thread().name='counter_7' -- finish\n",
      "threading.current_thread().name='counter_9' -- finish\n",
      "threading.current_thread().name='counter_8' -- finish\n",
      "threading.current_thread().name='counter_6' -- finish\n",
      "threading.current_thread().name='counter_3' -- finish\n",
      "TT 5.639049053192139\n"
     ]
    }
   ],
   "source": [
    "!python3.14 ../check_no_gil.py"
   ]
  },
  {
   "cell_type": "code",
   "execution_count": 41,
   "id": "f7e01cb3-9462-4e5b-bbcc-2890d55cceca",
   "metadata": {},
   "outputs": [
    {
     "name": "stdout",
     "output_type": "stream",
     "text": [
      "threading.current_thread().name='counter_0' -- started\n",
      "threading.current_thread().name='counter_1' -- started\n",
      "threading.current_thread().name='counter_2' -- started\n",
      "threading.current_thread().name='counter_3' -- started\n",
      "threading.current_thread().name='counter_4' -- started\n",
      "threading.current_thread().name='counter_5' -- started\n",
      "threading.current_thread().name='counter_6' -- started\n",
      "threading.current_thread().name='counter_7' -- started\n",
      "threading.current_thread().name='counter_8' -- started\n",
      "threading.current_thread().name='counter_9' -- started\n",
      "threading.current_thread().name='counter_5' -- finish\n",
      "threading.current_thread().name='counter_6' -- finish\n",
      "threading.current_thread().name='counter_2' -- finish\n",
      "threading.current_thread().name='counter_3' -- finish\n",
      "threading.current_thread().name='counter_1' -- finish\n",
      "threading.current_thread().name='counter_4' -- finish\n",
      "threading.current_thread().name='counter_7' -- finish\n",
      "threading.current_thread().name='counter_0' -- finish\n",
      "threading.current_thread().name='counter_8' -- finish\n",
      "threading.current_thread().name='counter_9' -- finish\n",
      "TT 2.1919851303100586\n"
     ]
    }
   ],
   "source": [
    "!python3.14t ../check_no_gil.py"
   ]
  },
  {
   "cell_type": "code",
   "execution_count": null,
   "id": "e4ad665f-64a8-4638-81e0-e0f761b5516e",
   "metadata": {},
   "outputs": [],
   "source": []
  },
  {
   "cell_type": "code",
   "execution_count": null,
   "id": "3c772fe9-09b5-4fab-be84-9a2033f4b95a",
   "metadata": {},
   "outputs": [],
   "source": []
  },
  {
   "cell_type": "code",
   "execution_count": null,
   "id": "0cadbe2b-20f2-497b-878d-c8557989cb5a",
   "metadata": {},
   "outputs": [],
   "source": []
  },
  {
   "cell_type": "code",
   "execution_count": 49,
   "id": "a378a863-8479-4e63-87e9-b54c662919b1",
   "metadata": {},
   "outputs": [
    {
     "name": "stdout",
     "output_type": "stream",
     "text": [
      "before ref_count=0\n",
      "threading.current_thread().name='counter_0' started\n",
      "threading.current_thread().name='counter_1' started\n",
      "threading.current_thread().name='counter_2' started\n",
      "threading.current_thread().name='counter_3' started\n",
      "threading.current_thread().name='counter_4' started\n",
      "threading.current_thread().name='counter_5' started\n",
      "threading.current_thread().name='counter_6' started\n",
      "threading.current_thread().name='counter_7' started\n",
      "threading.current_thread().name='counter_8' started\n",
      "threading.current_thread().name='counter_9' started\n",
      "threading.current_thread().name='counter_1' finished\n",
      "threading.current_thread().name='counter_4' finished\n",
      "threading.current_thread().name='counter_9' finished\n",
      "threading.current_thread().name='counter_0' finishedthreading.current_thread().name='counter_3' finished\n",
      "\n",
      "threading.current_thread().name='counter_8' finished\n",
      "threading.current_thread().name='counter_6' finished\n",
      "threading.current_thread().name='counter_7' finished\n",
      "threading.current_thread().name='counter_5' finished\n",
      "threading.current_thread().name='counter_2' finished\n",
      "after ref_count=10000000, ref_count == N=True\n",
      "CPU times: user 3.36 s, sys: 249 ms, total: 3.61 s\n",
      "Wall time: 3.89 s\n"
     ]
    }
   ],
   "source": [
    "%%time\n",
    "\n",
    "N_THREADS = 10\n",
    "N = 10 ** 7\n",
    "N_JOBS = N // N_THREADS\n",
    "\n",
    "\n",
    "ref_count = 0\n",
    "lock = threading.Lock()\n",
    "\n",
    "\n",
    "def counter(a, b):\n",
    "    global ref_count\n",
    "    print(f\"{threading.current_thread().name=} started\")\n",
    "\n",
    "    while a < b:\n",
    "        a += 1\n",
    "        \n",
    "        with lock:\n",
    "            tmp = ref_count\n",
    "            y = 10\n",
    "            x = y + 11\n",
    "            z = min(x, y)\n",
    "            tmp += 1\n",
    "            ref_count = tmp\n",
    "\n",
    "    print(f\"{threading.current_thread().name=} finished\")\n",
    "\n",
    "\n",
    "threads = [\n",
    "    threading.Thread(\n",
    "        target=counter,\n",
    "        args=(i * N_JOBS, (i + 1) * N_JOBS),\n",
    "        name=f\"counter_{i}\"\n",
    "    )\n",
    "    for i in range(N_THREADS)\n",
    "]\n",
    "\n",
    "print(f\"before {ref_count=}\")\n",
    "\n",
    "for th in threads:\n",
    "    th.start()\n",
    "\n",
    "for th in threads:\n",
    "    th.join()\n",
    "\n",
    "print(f\"after {ref_count=}, {ref_count == N=}\")"
   ]
  },
  {
   "cell_type": "code",
   "execution_count": null,
   "id": "99044f3c-3e59-4e56-8c39-7b239abac1b3",
   "metadata": {},
   "outputs": [],
   "source": []
  },
  {
   "cell_type": "code",
   "execution_count": 50,
   "id": "7723d1cd-128e-4cd3-a368-dbc58a7d48ca",
   "metadata": {},
   "outputs": [],
   "source": [
    "from urllib.request import urlopen"
   ]
  },
  {
   "cell_type": "code",
   "execution_count": 51,
   "id": "475eaed6-e4b8-4ff2-935d-d19b7cb040f7",
   "metadata": {},
   "outputs": [],
   "source": [
    "def fetch_url(url):\n",
    "    return urlopen(url)"
   ]
  },
  {
   "cell_type": "code",
   "execution_count": 71,
   "id": "94884dd8-888c-4554-86cf-70ea1ef02fb8",
   "metadata": {},
   "outputs": [
    {
     "name": "stdout",
     "output_type": "stream",
     "text": [
      "threading.current_thread().name='counter_0' started 3\n",
      "threading.current_thread().name='counter_1' started 3\n",
      "threading.current_thread().name='counter_2' started 3\n",
      "threading.current_thread().name='counter_3' started 3\n",
      "threading.current_thread().name='counter_4' started 3\n",
      "threading.current_thread().name='counter_5' started 3\n",
      "threading.current_thread().name='counter_6' started 3\n",
      "threading.current_thread().name='counter_7' started 3\n",
      "threading.current_thread().name='counter_8' started 3\n",
      "threading.current_thread().name='counter_9' started 3\n",
      "threading.current_thread().name='counter_2' finishedthreading.current_thread().name='counter_1' finished\n",
      "threading.current_thread().name='counter_0' finished\n",
      "threading.current_thread().name='counter_3' finished\n",
      "\n",
      "threading.current_thread().name='counter_4' finished\n",
      "threading.current_thread().name='counter_7' finishedthreading.current_thread().name='counter_5' finished\n",
      "threading.current_thread().name='counter_8' finished\n",
      "threading.current_thread().name='counter_6' finished\n",
      "\n",
      "threading.current_thread().name='counter_9' finished\n",
      "CPU times: user 8.47 ms, sys: 5.58 ms, total: 14.1 ms\n",
      "Wall time: 6.03 s\n"
     ]
    }
   ],
   "source": [
    "%%time\n",
    "\n",
    "N_THREADS = 10\n",
    "N_URLS = 30\n",
    "URL = \"https://www.python.org/\"\n",
    "URLS = [URL] * N_URLS\n",
    "N_JOBS = N_URLS // N_THREADS\n",
    "\n",
    "\n",
    "def fetch_url(url, sem):\n",
    "    with sem:\n",
    "        time.sleep(1)\n",
    "\n",
    "\n",
    "def fetch_batch_urls(urls, sem):\n",
    "    print(f\"{threading.current_thread().name=} started\", len(urls))\n",
    "    for url in urls:\n",
    "        fetch_url(url, sem)\n",
    "    print(f\"{threading.current_thread().name=} finished\")\n",
    "\n",
    "\n",
    "def run():\n",
    "    sem = threading.Semaphore(5)\n",
    "\n",
    "    threads = [\n",
    "        threading.Thread(\n",
    "            target=fetch_batch_urls,\n",
    "            args=(URLS[i * N_JOBS : (i + 1) * N_JOBS], sem),\n",
    "            name=f\"counter_{i}\"\n",
    "        )\n",
    "        for i in range(N_THREADS)\n",
    "    ]\n",
    "    \n",
    "    for th in threads:\n",
    "        th.start()\n",
    "    \n",
    "    for th in threads:\n",
    "        th.join()\n",
    "\n",
    "\n",
    "run()"
   ]
  },
  {
   "cell_type": "code",
   "execution_count": 73,
   "id": "3ed39e77-66ac-4edd-95b9-264e2f50c3c8",
   "metadata": {},
   "outputs": [
    {
     "name": "stdout",
     "output_type": "stream",
     "text": [
      "threading.current_thread().name='counter_0' started 3\n",
      "threading.current_thread().name='counter_1' started 3\n",
      "threading.current_thread().name='counter_2' started 3\n",
      "threading.current_thread().name='counter_3' started 3\n",
      "threading.current_thread().name='counter_4' started 3\n",
      "threading.current_thread().name='counter_5' started 3\n",
      "threading.current_thread().name='counter_6' started 3\n",
      "threading.current_thread().name='counter_7' started 3\n",
      "threading.current_thread().name='counter_8' started 3\n",
      "threading.current_thread().name='counter_9' started 3\n",
      "threading.current_thread().name='counter_0' finished 3.1340339183807373\n",
      "threading.current_thread().name='counter_4' finished 4.072951078414917\n",
      "threading.current_thread().name='counter_5' finished 4.71317982673645\n",
      "threading.current_thread().name='counter_6' finished 4.906120300292969\n",
      "threading.current_thread().name='counter_1' finished 5.164185047149658\n",
      "threading.current_thread().name='counter_3' finished 5.76898193359375\n",
      "threading.current_thread().name='counter_7' finished 5.924919843673706\n",
      "threading.current_thread().name='counter_8' finished 5.993365049362183\n",
      "threading.current_thread().name='counter_2' finished 6.0982890129089355\n",
      "threading.current_thread().name='counter_9' finished 6.1545820236206055\n",
      "CPU times: user 87.9 ms, sys: 38.3 ms, total: 126 ms\n",
      "Wall time: 6.16 s\n"
     ]
    }
   ],
   "source": [
    "%%time\n",
    "\n",
    "N_THREADS = 10\n",
    "N_URLS = 30\n",
    "URL = \"https://www.python.org/\"\n",
    "URLS = [URL] * N_URLS\n",
    "N_JOBS = N_URLS // N_THREADS\n",
    "\n",
    "\n",
    "def fetch_url(url, sem):\n",
    "    with sem:\n",
    "        return urlopen(url)\n",
    "\n",
    "\n",
    "def fetch_batch_urls(urls, sem):\n",
    "    print(f\"{threading.current_thread().name=} started\", len(urls))\n",
    "    t1 = time.time()\n",
    "    for url in urls:\n",
    "        fetch_url(url, sem)\n",
    "    print(f\"{threading.current_thread().name=} finished\", time.time() - t1)\n",
    "\n",
    "\n",
    "def run():\n",
    "    sem = threading.Semaphore(5)\n",
    "\n",
    "    threads = [\n",
    "        threading.Thread(\n",
    "            target=fetch_batch_urls,\n",
    "            args=(URLS[i * N_JOBS : (i + 1) * N_JOBS], sem),\n",
    "            name=f\"counter_{i}\"\n",
    "        )\n",
    "        for i in range(N_THREADS)\n",
    "    ]\n",
    "    \n",
    "    for th in threads:\n",
    "        th.start()\n",
    "\n",
    "    for th in threads:\n",
    "        th.join()\n",
    "\n",
    "\n",
    "run()"
   ]
  },
  {
   "cell_type": "code",
   "execution_count": null,
   "id": "f816eb8f-40bf-4cbf-a3ea-4cea328ebfa1",
   "metadata": {},
   "outputs": [],
   "source": []
  },
  {
   "cell_type": "code",
   "execution_count": null,
   "id": "3ce161c9-d612-43ed-8d25-7f74abb20146",
   "metadata": {},
   "outputs": [],
   "source": []
  },
  {
   "cell_type": "code",
   "execution_count": null,
   "id": "11b6da17-c44e-4289-a2c7-aaf6d04967aa",
   "metadata": {},
   "outputs": [],
   "source": []
  },
  {
   "cell_type": "code",
   "execution_count": 85,
   "id": "6703eb7a-ea0c-44a4-b052-6893a7854aab",
   "metadata": {},
   "outputs": [],
   "source": [
    "import queue"
   ]
  },
  {
   "cell_type": "code",
   "execution_count": 86,
   "id": "869effa5-3f11-44a1-af0d-5d513173b94e",
   "metadata": {},
   "outputs": [
    {
     "name": "stdout",
     "output_type": "stream",
     "text": [
      "threading.current_thread().name='counter_0' started\n",
      "threading.current_thread().name='counter_1' started\n",
      "threading.current_thread().name='counter_2' started\n",
      "threading.current_thread().name='counter_3' started\n",
      "threading.current_thread().name='counter_4' started\n",
      "threading.current_thread().name='counter_3' finished counter=4 4.069845199584961\n",
      "threading.current_thread().name='counter_0' finished counter=4 4.07246208190918\n",
      "threading.current_thread().name='counter_1' finished counter=4 4.221267938613892\n",
      "threading.current_thread().name='counter_2' finished counter=4 4.22091817855835\n",
      "threading.current_thread().name='counter_4' finished counter=4 4.258556127548218\n",
      "CPU times: user 53.8 ms, sys: 24.1 ms, total: 77.8 ms\n",
      "Wall time: 4.26 s\n"
     ]
    }
   ],
   "source": [
    "%%time\n",
    "\n",
    "N_THREADS = 5\n",
    "N_URLS = 20\n",
    "URL = \"https://www.python.org/\"\n",
    "URLS = [URL] * N_URLS\n",
    "\n",
    "\n",
    "def fetch_url(url):\n",
    "    return urlopen(url)\n",
    "\n",
    "\n",
    "def fetch_batch_worker(que):\n",
    "    print(f\"{threading.current_thread().name=} started\")\n",
    "    counter = 0\n",
    "    t1 = time.time()\n",
    "\n",
    "    while True:\n",
    "        url = que.get()\n",
    "        if url is None:\n",
    "            que.put(url)\n",
    "            break\n",
    "\n",
    "        fetch_url(url)\n",
    "        counter += 1\n",
    "\n",
    "    print(f\"{threading.current_thread().name=} finished {counter=}\", time.time() - t1)\n",
    "\n",
    "\n",
    "def run():\n",
    "    que = queue.Queue()\n",
    "    for url in URLS:\n",
    "        que.put(url)\n",
    "\n",
    "    threads = [\n",
    "        threading.Thread(\n",
    "            target=fetch_batch_worker,\n",
    "            args=(que,),\n",
    "            name=f\"counter_{i}\"\n",
    "        )\n",
    "        for i in range(N_THREADS)\n",
    "    ]\n",
    "    \n",
    "    for th in threads:\n",
    "        th.start()\n",
    "\n",
    "    for url in urls_source:\n",
    "        que.put(url)\n",
    "\n",
    "    que.put(None)\n",
    "\n",
    "    for th in threads:\n",
    "        th.join()\n",
    "\n",
    "\n",
    "run()"
   ]
  },
  {
   "cell_type": "code",
   "execution_count": 87,
   "id": "7a00b540-086e-419c-a43d-028d2aedb6b1",
   "metadata": {},
   "outputs": [],
   "source": [
    "q = queue.Queue()"
   ]
  },
  {
   "cell_type": "code",
   "execution_count": 88,
   "id": "b45fe73f-16a7-4e14-a50a-d7329b091d36",
   "metadata": {},
   "outputs": [],
   "source": [
    "q.put(10)"
   ]
  },
  {
   "cell_type": "code",
   "execution_count": 90,
   "id": "4d44f14b-8b67-4eda-9078-c6712d43ba44",
   "metadata": {},
   "outputs": [
    {
     "data": {
      "text/plain": [
       "10"
      ]
     },
     "execution_count": 90,
     "metadata": {},
     "output_type": "execute_result"
    }
   ],
   "source": [
    "q.get()"
   ]
  },
  {
   "cell_type": "code",
   "execution_count": 91,
   "id": "3996ac53-fa73-46ff-85e7-9116f7a3a24b",
   "metadata": {},
   "outputs": [
    {
     "ename": "Empty",
     "evalue": "",
     "output_type": "error",
     "traceback": [
      "\u001b[31m---------------------------------------------------------------------------\u001b[39m",
      "\u001b[31mEmpty\u001b[39m                                     Traceback (most recent call last)",
      "\u001b[36mCell\u001b[39m\u001b[36m \u001b[39m\u001b[32mIn[91]\u001b[39m\u001b[32m, line 1\u001b[39m\n\u001b[32m----> \u001b[39m\u001b[32m1\u001b[39m \u001b[43mq\u001b[49m\u001b[43m.\u001b[49m\u001b[43mget\u001b[49m\u001b[43m(\u001b[49m\u001b[43mtimeout\u001b[49m\u001b[43m=\u001b[49m\u001b[32;43m2\u001b[39;49m\u001b[43m)\u001b[49m\n",
      "\u001b[36mFile \u001b[39m\u001b[32m/Library/Frameworks/Python.framework/Versions/3.13/lib/python3.13/queue.py:212\u001b[39m, in \u001b[36mQueue.get\u001b[39m\u001b[34m(self, block, timeout)\u001b[39m\n\u001b[32m    210\u001b[39m remaining = endtime - time()\n\u001b[32m    211\u001b[39m \u001b[38;5;28;01mif\u001b[39;00m remaining <= \u001b[32m0.0\u001b[39m:\n\u001b[32m--> \u001b[39m\u001b[32m212\u001b[39m     \u001b[38;5;28;01mraise\u001b[39;00m Empty\n\u001b[32m    213\u001b[39m \u001b[38;5;28mself\u001b[39m.not_empty.wait(remaining)\n\u001b[32m    214\u001b[39m \u001b[38;5;28;01mif\u001b[39;00m \u001b[38;5;28mself\u001b[39m.is_shutdown \u001b[38;5;129;01mand\u001b[39;00m \u001b[38;5;129;01mnot\u001b[39;00m \u001b[38;5;28mself\u001b[39m._qsize():\n",
      "\u001b[31mEmpty\u001b[39m: "
     ]
    }
   ],
   "source": [
    "q.get(timeout=2)"
   ]
  },
  {
   "cell_type": "code",
   "execution_count": null,
   "id": "e213137b-b881-4d01-8862-307333acf2f0",
   "metadata": {},
   "outputs": [],
   "source": []
  }
 ],
 "metadata": {
  "kernelspec": {
   "display_name": "Python 3 (ipykernel)",
   "language": "python",
   "name": "python3"
  },
  "language_info": {
   "codemirror_mode": {
    "name": "ipython",
    "version": 3
   },
   "file_extension": ".py",
   "mimetype": "text/x-python",
   "name": "python",
   "nbconvert_exporter": "python",
   "pygments_lexer": "ipython3",
   "version": "3.13.2"
  }
 },
 "nbformat": 4,
 "nbformat_minor": 5
}
