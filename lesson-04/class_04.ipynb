{
 "cells": [
  {
   "cell_type": "code",
   "execution_count": 11,
   "id": "e0030c50-5f8b-48eb-b7ee-15dc8ce1f6b2",
   "metadata": {},
   "outputs": [],
   "source": [
    "class Person:\n",
    "    def __init__(self, name, age):\n",
    "        self.age = age\n",
    "        self._name = name\n",
    "\n",
    "    @property\n",
    "    def age(self):\n",
    "        print(f\"Person {self._age=}\")\n",
    "        return self._age\n",
    "\n",
    "    @age.setter\n",
    "    def age(self, val):\n",
    "        if not isinstance(val, int) or val < 0:\n",
    "            raise Exception(\"wrong age value\")\n",
    "\n",
    "        self._age = val\n",
    "        print(f\"Person set {self._age=}, {val=}\")\n",
    "\n",
    "    @property\n",
    "    def name(self):\n",
    "        print(f\"Person {self._name=}\")\n",
    "        return self._name"
   ]
  },
  {
   "cell_type": "code",
   "execution_count": 12,
   "id": "856d172c-5e2f-4706-8667-e28d6a1d0f36",
   "metadata": {},
   "outputs": [
    {
     "name": "stdout",
     "output_type": "stream",
     "text": [
      "Person set self._age=99, val=99\n"
     ]
    }
   ],
   "source": [
    "steve = Person(\"steve\", 99)"
   ]
  },
  {
   "cell_type": "code",
   "execution_count": 6,
   "id": "523d16b0-5e46-47bb-9545-4f8dd69a1e45",
   "metadata": {},
   "outputs": [
    {
     "data": {
      "text/plain": [
       "mappingproxy({'__module__': '__main__',\n",
       "              '__firstlineno__': 1,\n",
       "              '__init__': <function __main__.Person.__init__(self, name, age)>,\n",
       "              'age': <property at 0x111c76f70>,\n",
       "              'name': <property at 0x111c76d90>,\n",
       "              '__static_attributes__': ('_age', '_name', 'age'),\n",
       "              '__dict__': <attribute '__dict__' of 'Person' objects>,\n",
       "              '__weakref__': <attribute '__weakref__' of 'Person' objects>,\n",
       "              '__doc__': None})"
      ]
     },
     "execution_count": 6,
     "metadata": {},
     "output_type": "execute_result"
    }
   ],
   "source": [
    "Person.__dict__"
   ]
  },
  {
   "cell_type": "code",
   "execution_count": 7,
   "id": "6962e8d7-67a1-4e5a-bd1a-7ef2dfefb419",
   "metadata": {},
   "outputs": [
    {
     "data": {
      "text/plain": [
       "{'_age': 99, '_name': 'steve'}"
      ]
     },
     "execution_count": 7,
     "metadata": {},
     "output_type": "execute_result"
    }
   ],
   "source": [
    "steve.__dict__"
   ]
  },
  {
   "cell_type": "code",
   "execution_count": 8,
   "id": "e9923774-5e6b-418d-9c32-3c428e34a59b",
   "metadata": {},
   "outputs": [
    {
     "name": "stdout",
     "output_type": "stream",
     "text": [
      "Person self._age=99\n",
      "Person self._name='steve'\n"
     ]
    },
    {
     "data": {
      "text/plain": [
       "(99, 'steve')"
      ]
     },
     "execution_count": 8,
     "metadata": {},
     "output_type": "execute_result"
    }
   ],
   "source": [
    "steve.age, steve.name"
   ]
  },
  {
   "cell_type": "code",
   "execution_count": 9,
   "id": "31e20693-b720-4f44-bed6-cedc4fe137a5",
   "metadata": {},
   "outputs": [
    {
     "name": "stdout",
     "output_type": "stream",
     "text": [
      "Person set self._age=252, val=252\n"
     ]
    }
   ],
   "source": [
    "steve.age = 252"
   ]
  },
  {
   "cell_type": "code",
   "execution_count": 10,
   "id": "605073b7-a9ae-4895-a2a0-909a29a97ce2",
   "metadata": {},
   "outputs": [
    {
     "ename": "AttributeError",
     "evalue": "property 'name' of 'Person' object has no setter",
     "output_type": "error",
     "traceback": [
      "\u001b[31m---------------------------------------------------------------------------\u001b[39m",
      "\u001b[31mAttributeError\u001b[39m                            Traceback (most recent call last)",
      "\u001b[36mCell\u001b[39m\u001b[36m \u001b[39m\u001b[32mIn[10]\u001b[39m\u001b[32m, line 1\u001b[39m\n\u001b[32m----> \u001b[39m\u001b[32m1\u001b[39m \u001b[43msteve\u001b[49m\u001b[43m.\u001b[49m\u001b[43mname\u001b[49m = \u001b[33m\"\u001b[39m\u001b[33mnew_name\u001b[39m\u001b[33m\"\u001b[39m\n",
      "\u001b[31mAttributeError\u001b[39m: property 'name' of 'Person' object has no setter"
     ]
    }
   ],
   "source": [
    "steve.name = \"new_name\""
   ]
  },
  {
   "cell_type": "code",
   "execution_count": 13,
   "id": "5b325646-5c84-411c-a990-d06364f74c54",
   "metadata": {},
   "outputs": [
    {
     "ename": "Exception",
     "evalue": "wrong age value",
     "output_type": "error",
     "traceback": [
      "\u001b[31m---------------------------------------------------------------------------\u001b[39m",
      "\u001b[31mException\u001b[39m                                 Traceback (most recent call last)",
      "\u001b[36mCell\u001b[39m\u001b[36m \u001b[39m\u001b[32mIn[13]\u001b[39m\u001b[32m, line 1\u001b[39m\n\u001b[32m----> \u001b[39m\u001b[32m1\u001b[39m \u001b[43msteve\u001b[49m\u001b[43m.\u001b[49m\u001b[43mage\u001b[49m = -\u001b[32m1\u001b[39m\n",
      "\u001b[36mCell\u001b[39m\u001b[36m \u001b[39m\u001b[32mIn[11]\u001b[39m\u001b[32m, line 14\u001b[39m, in \u001b[36mPerson.age\u001b[39m\u001b[34m(self, val)\u001b[39m\n\u001b[32m     11\u001b[39m \u001b[38;5;129m@age\u001b[39m.setter\n\u001b[32m     12\u001b[39m \u001b[38;5;28;01mdef\u001b[39;00m\u001b[38;5;250m \u001b[39m\u001b[34mage\u001b[39m(\u001b[38;5;28mself\u001b[39m, val):\n\u001b[32m     13\u001b[39m     \u001b[38;5;28;01mif\u001b[39;00m \u001b[38;5;129;01mnot\u001b[39;00m \u001b[38;5;28misinstance\u001b[39m(val, \u001b[38;5;28mint\u001b[39m) \u001b[38;5;129;01mor\u001b[39;00m val < \u001b[32m0\u001b[39m:\n\u001b[32m---> \u001b[39m\u001b[32m14\u001b[39m         \u001b[38;5;28;01mraise\u001b[39;00m \u001b[38;5;167;01mException\u001b[39;00m(\u001b[33m\"\u001b[39m\u001b[33mwrong age value\u001b[39m\u001b[33m\"\u001b[39m)\n\u001b[32m     16\u001b[39m     \u001b[38;5;28mself\u001b[39m._age = val\n\u001b[32m     17\u001b[39m     \u001b[38;5;28mprint\u001b[39m(\u001b[33mf\u001b[39m\u001b[33m\"\u001b[39m\u001b[33mPerson set \u001b[39m\u001b[38;5;132;01m{\u001b[39;00m\u001b[38;5;28mself\u001b[39m._age\u001b[38;5;132;01m=}\u001b[39;00m\u001b[33m, \u001b[39m\u001b[38;5;132;01m{\u001b[39;00mval\u001b[38;5;132;01m=}\u001b[39;00m\u001b[33m\"\u001b[39m)\n",
      "\u001b[31mException\u001b[39m: wrong age value"
     ]
    }
   ],
   "source": [
    "steve.age = -1"
   ]
  },
  {
   "cell_type": "code",
   "execution_count": 14,
   "id": "a49d486a-9e70-4949-86d6-4fc76ab4e3c1",
   "metadata": {},
   "outputs": [
    {
     "name": "stdout",
     "output_type": "stream",
     "text": [
      "Person self._age=99\n"
     ]
    },
    {
     "data": {
      "text/plain": [
       "99"
      ]
     },
     "execution_count": 14,
     "metadata": {},
     "output_type": "execute_result"
    }
   ],
   "source": [
    "steve.age"
   ]
  },
  {
   "cell_type": "code",
   "execution_count": 15,
   "id": "8cf198b2-df49-415d-b051-be581963c1d1",
   "metadata": {},
   "outputs": [],
   "source": [
    "steve.__dict__[\"age\"] = 456"
   ]
  },
  {
   "cell_type": "code",
   "execution_count": 16,
   "id": "6850ccd5-885b-4386-9db8-36f146bb412b",
   "metadata": {},
   "outputs": [
    {
     "data": {
      "text/plain": [
       "{'_age': 99, '_name': 'steve', 'age': 456}"
      ]
     },
     "execution_count": 16,
     "metadata": {},
     "output_type": "execute_result"
    }
   ],
   "source": [
    "steve.__dict__"
   ]
  },
  {
   "cell_type": "code",
   "execution_count": 17,
   "id": "0bc73cb6-4c14-4db9-afc6-f5953abf1b8a",
   "metadata": {},
   "outputs": [
    {
     "name": "stdout",
     "output_type": "stream",
     "text": [
      "Person self._age=99\n"
     ]
    },
    {
     "data": {
      "text/plain": [
       "99"
      ]
     },
     "execution_count": 17,
     "metadata": {},
     "output_type": "execute_result"
    }
   ],
   "source": [
    "steve.age"
   ]
  },
  {
   "cell_type": "code",
   "execution_count": 18,
   "id": "7eaba25a-9868-4879-9971-d9c2d4a35942",
   "metadata": {},
   "outputs": [],
   "source": [
    "steve.__dict__[\"name\"] = \"new_name\""
   ]
  },
  {
   "cell_type": "code",
   "execution_count": 19,
   "id": "109a1e8e-cfba-4262-abe9-82bd2ecb3ce0",
   "metadata": {},
   "outputs": [
    {
     "data": {
      "text/plain": [
       "{'_age': 99, '_name': 'steve', 'age': 456, 'name': 'new_name'}"
      ]
     },
     "execution_count": 19,
     "metadata": {},
     "output_type": "execute_result"
    }
   ],
   "source": [
    "steve.__dict__"
   ]
  },
  {
   "cell_type": "code",
   "execution_count": 20,
   "id": "837e2dd6-e0d0-40db-8442-863d8717f38f",
   "metadata": {},
   "outputs": [
    {
     "name": "stdout",
     "output_type": "stream",
     "text": [
      "Person self._name='steve'\n"
     ]
    },
    {
     "data": {
      "text/plain": [
       "'steve'"
      ]
     },
     "execution_count": 20,
     "metadata": {},
     "output_type": "execute_result"
    }
   ],
   "source": [
    "steve.name"
   ]
  },
  {
   "cell_type": "code",
   "execution_count": null,
   "id": "02e151d0-c8f3-49d0-9e56-abc592b8f12f",
   "metadata": {},
   "outputs": [],
   "source": []
  },
  {
   "cell_type": "code",
   "execution_count": null,
   "id": "67bac258-2a8b-41d2-8cdb-c64a94f0af1b",
   "metadata": {},
   "outputs": [],
   "source": []
  },
  {
   "cell_type": "code",
   "execution_count": null,
   "id": "5849ebf5-1604-4377-a438-f95d48908ffb",
   "metadata": {},
   "outputs": [],
   "source": []
  },
  {
   "cell_type": "code",
   "execution_count": 26,
   "id": "29e1e16e-c296-405e-b50f-d32a21a3c86d",
   "metadata": {},
   "outputs": [],
   "source": [
    "def make_hash_from_password(password):\n",
    "    return hash(password)\n",
    "\n",
    "\n",
    "class User:\n",
    "    def __init__(self, login, password):\n",
    "        self.login = login\n",
    "        self.password_hash = None\n",
    "        self.password = password\n",
    "\n",
    "    @property\n",
    "    def login(self):\n",
    "        return self.__system_id, self.__name\n",
    "\n",
    "    @login.setter\n",
    "    def login(self, val):\n",
    "        self.__system_id, self.__name = val\n",
    "        print(f\"{self.__system_id=}, {self.__name=}\")\n",
    "\n",
    "    @property\n",
    "    def password(self):\n",
    "        raise AttributeError(\"Password is write-only\")\n",
    "\n",
    "    @password.setter\n",
    "    def password(self, plaintext):\n",
    "        self.password_hash = make_hash_from_password(plaintext)\n"
   ]
  },
  {
   "cell_type": "code",
   "execution_count": 27,
   "id": "ca29297b-cac9-44e0-97d8-8e84fd99facc",
   "metadata": {},
   "outputs": [
    {
     "name": "stdout",
     "output_type": "stream",
     "text": [
      "self.__system_id=42, self.__name='steve'\n"
     ]
    }
   ],
   "source": [
    "user = User((42, \"steve\"), \"12345\")"
   ]
  },
  {
   "cell_type": "code",
   "execution_count": 28,
   "id": "0ff99be4-e5e5-41f3-92c3-07c8959e9d8b",
   "metadata": {},
   "outputs": [
    {
     "data": {
      "text/plain": [
       "{'_User__system_id': 42,\n",
       " '_User__name': 'steve',\n",
       " 'password_hash': -4750047366034583743}"
      ]
     },
     "execution_count": 28,
     "metadata": {},
     "output_type": "execute_result"
    }
   ],
   "source": [
    "user.__dict__"
   ]
  },
  {
   "cell_type": "code",
   "execution_count": 29,
   "id": "20620a38-68c6-42eb-a137-fcdce07668bd",
   "metadata": {},
   "outputs": [
    {
     "data": {
      "text/plain": [
       "(42, 'steve')"
      ]
     },
     "execution_count": 29,
     "metadata": {},
     "output_type": "execute_result"
    }
   ],
   "source": [
    "user.login"
   ]
  },
  {
   "cell_type": "code",
   "execution_count": null,
   "id": "b4566649-af7e-4a99-a908-9996d0dae586",
   "metadata": {},
   "outputs": [],
   "source": []
  },
  {
   "cell_type": "code",
   "execution_count": 30,
   "id": "86e97af3-7822-4211-b88a-839525b2f83d",
   "metadata": {},
   "outputs": [
    {
     "ename": "AttributeError",
     "evalue": "Password is write-only",
     "output_type": "error",
     "traceback": [
      "\u001b[31m---------------------------------------------------------------------------\u001b[39m",
      "\u001b[31mAttributeError\u001b[39m                            Traceback (most recent call last)",
      "\u001b[36mCell\u001b[39m\u001b[36m \u001b[39m\u001b[32mIn[30]\u001b[39m\u001b[32m, line 1\u001b[39m\n\u001b[32m----> \u001b[39m\u001b[32m1\u001b[39m \u001b[43muser\u001b[49m\u001b[43m.\u001b[49m\u001b[43mpassword\u001b[49m\n",
      "\u001b[36mCell\u001b[39m\u001b[36m \u001b[39m\u001b[32mIn[26]\u001b[39m\u001b[32m, line 22\u001b[39m, in \u001b[36mUser.password\u001b[39m\u001b[34m(self)\u001b[39m\n\u001b[32m     20\u001b[39m \u001b[38;5;129m@property\u001b[39m\n\u001b[32m     21\u001b[39m \u001b[38;5;28;01mdef\u001b[39;00m\u001b[38;5;250m \u001b[39m\u001b[34mpassword\u001b[39m(\u001b[38;5;28mself\u001b[39m):\n\u001b[32m---> \u001b[39m\u001b[32m22\u001b[39m     \u001b[38;5;28;01mraise\u001b[39;00m \u001b[38;5;167;01mAttributeError\u001b[39;00m(\u001b[33m\"\u001b[39m\u001b[33mPassword is write-only\u001b[39m\u001b[33m\"\u001b[39m)\n",
      "\u001b[31mAttributeError\u001b[39m: Password is write-only"
     ]
    }
   ],
   "source": [
    "user.password"
   ]
  },
  {
   "cell_type": "code",
   "execution_count": 31,
   "id": "dfe0e1f2-ba7e-4a45-982e-65f485ac2826",
   "metadata": {},
   "outputs": [],
   "source": [
    "user.password = \"345\""
   ]
  },
  {
   "cell_type": "code",
   "execution_count": 32,
   "id": "2dfdcfe9-9a21-4ce2-ac71-ab5aa8d34673",
   "metadata": {},
   "outputs": [
    {
     "data": {
      "text/plain": [
       "{'_User__system_id': 42,\n",
       " '_User__name': 'steve',\n",
       " 'password_hash': -4663445742227147012}"
      ]
     },
     "execution_count": 32,
     "metadata": {},
     "output_type": "execute_result"
    }
   ],
   "source": [
    "user.__dict__"
   ]
  },
  {
   "cell_type": "code",
   "execution_count": null,
   "id": "b579ed80-86d2-4a4f-a177-e892f09e350d",
   "metadata": {},
   "outputs": [],
   "source": []
  },
  {
   "cell_type": "code",
   "execution_count": null,
   "id": "c9d543bb-2263-425a-acc0-385761de626c",
   "metadata": {},
   "outputs": [],
   "source": []
  },
  {
   "cell_type": "code",
   "execution_count": 46,
   "id": "4d92500d-6db8-4c7b-b3df-20270bc44abb",
   "metadata": {},
   "outputs": [
    {
     "name": "stdout",
     "output_type": "stream",
     "text": [
      "__setattr__ name='val', val=42\n"
     ]
    }
   ],
   "source": [
    "class AttrAccess:\n",
    "    name = \"cls_attribut_access\"\n",
    "\n",
    "    def __init__(self, val):\n",
    "        self.val = val\n",
    "\n",
    "    def __getattr__(self, name):\n",
    "        print(f\"__getattr__ {name=}\")\n",
    "        # return super().__getattr__(name)\n",
    "        raise AttributeError(f\"no such attr {name}\")\n",
    "\n",
    "    def __getattribute__(self, name):\n",
    "        print(f\"__getattribute__ {name=}\")\n",
    "        \n",
    "        return super().__getattribute__(name)\n",
    "            \n",
    "    def __setattr__(self, name, val):\n",
    "        print(f\"__setattr__ {name=}, {val=}\")\n",
    "        \n",
    "        return super().__setattr__(name, val)\n",
    "\n",
    "    def __delattr__(self, name):\n",
    "        print(f\"__delattr__ {name=}\")\n",
    "        \n",
    "        return super().__delattr__(name)\n",
    "\n",
    "    \n",
    "attr = AttrAccess(42)"
   ]
  },
  {
   "cell_type": "code",
   "execution_count": 34,
   "id": "af600e84-f9d9-4716-a67a-1dd2e4e8e726",
   "metadata": {},
   "outputs": [
    {
     "name": "stdout",
     "output_type": "stream",
     "text": [
      "__getattribute__ name='val'\n"
     ]
    },
    {
     "data": {
      "text/plain": [
       "42"
      ]
     },
     "execution_count": 34,
     "metadata": {},
     "output_type": "execute_result"
    }
   ],
   "source": [
    "attr.val"
   ]
  },
  {
   "cell_type": "code",
   "execution_count": 35,
   "id": "b9a26361-999b-4bea-93ca-7817dd9e8454",
   "metadata": {},
   "outputs": [
    {
     "name": "stdout",
     "output_type": "stream",
     "text": [
      "__setattr__ name='val', val=99\n"
     ]
    }
   ],
   "source": [
    "attr.val = 99"
   ]
  },
  {
   "cell_type": "code",
   "execution_count": 36,
   "id": "5aca7009-bf81-432c-86bb-036df3a1f6c7",
   "metadata": {},
   "outputs": [
    {
     "name": "stdout",
     "output_type": "stream",
     "text": [
      "__getattribute__ name='val'\n"
     ]
    },
    {
     "data": {
      "text/plain": [
       "99"
      ]
     },
     "execution_count": 36,
     "metadata": {},
     "output_type": "execute_result"
    }
   ],
   "source": [
    "attr.val"
   ]
  },
  {
   "cell_type": "code",
   "execution_count": 37,
   "id": "fa387544-51d1-4244-b0f6-bd00979629d7",
   "metadata": {},
   "outputs": [
    {
     "name": "stdout",
     "output_type": "stream",
     "text": [
      "__setattr__ name='color', val='green'\n"
     ]
    }
   ],
   "source": [
    "attr.color = \"green\""
   ]
  },
  {
   "cell_type": "code",
   "execution_count": 39,
   "id": "bdfa11cc-b3da-444a-9323-a337f3a77e58",
   "metadata": {},
   "outputs": [
    {
     "name": "stdout",
     "output_type": "stream",
     "text": [
      "__getattribute__ name='color'\n"
     ]
    },
    {
     "data": {
      "text/plain": [
       "'green'"
      ]
     },
     "execution_count": 39,
     "metadata": {},
     "output_type": "execute_result"
    }
   ],
   "source": [
    "attr.color"
   ]
  },
  {
   "cell_type": "code",
   "execution_count": 47,
   "id": "1caf03bc-ac5a-486b-8002-87c1183c7fdf",
   "metadata": {},
   "outputs": [
    {
     "name": "stdout",
     "output_type": "stream",
     "text": [
      "__getattribute__ name='unknown'\n",
      "__getattr__ name='unknown'\n"
     ]
    },
    {
     "ename": "AttributeError",
     "evalue": "no such attr unknown",
     "output_type": "error",
     "traceback": [
      "\u001b[31m---------------------------------------------------------------------------\u001b[39m",
      "\u001b[31mAttributeError\u001b[39m                            Traceback (most recent call last)",
      "\u001b[36mCell\u001b[39m\u001b[36m \u001b[39m\u001b[32mIn[47]\u001b[39m\u001b[32m, line 1\u001b[39m\n\u001b[32m----> \u001b[39m\u001b[32m1\u001b[39m \u001b[43mattr\u001b[49m\u001b[43m.\u001b[49m\u001b[43munknown\u001b[49m\n",
      "\u001b[36mCell\u001b[39m\u001b[36m \u001b[39m\u001b[32mIn[46]\u001b[39m\u001b[32m, line 10\u001b[39m, in \u001b[36mAttrAccess.__getattr__\u001b[39m\u001b[34m(self, name)\u001b[39m\n\u001b[32m      8\u001b[39m \u001b[38;5;28mprint\u001b[39m(\u001b[33mf\u001b[39m\u001b[33m\"\u001b[39m\u001b[33m__getattr__ \u001b[39m\u001b[38;5;132;01m{\u001b[39;00mname\u001b[38;5;132;01m=}\u001b[39;00m\u001b[33m\"\u001b[39m)\n\u001b[32m      9\u001b[39m \u001b[38;5;66;03m# return super().__getattr__(name)\u001b[39;00m\n\u001b[32m---> \u001b[39m\u001b[32m10\u001b[39m \u001b[38;5;28;01mraise\u001b[39;00m \u001b[38;5;167;01mAttributeError\u001b[39;00m(\u001b[33mf\u001b[39m\u001b[33m\"\u001b[39m\u001b[33mno such attr \u001b[39m\u001b[38;5;132;01m{\u001b[39;00mname\u001b[38;5;132;01m}\u001b[39;00m\u001b[33m\"\u001b[39m)\n",
      "\u001b[31mAttributeError\u001b[39m: no such attr unknown"
     ]
    }
   ],
   "source": [
    "attr.unknown"
   ]
  },
  {
   "cell_type": "code",
   "execution_count": 48,
   "id": "447195cc-e6e5-471f-afba-c1af474e60eb",
   "metadata": {},
   "outputs": [
    {
     "name": "stdout",
     "output_type": "stream",
     "text": [
      "__getattribute__ name='__dict__'\n"
     ]
    },
    {
     "data": {
      "text/plain": [
       "{'val': 42}"
      ]
     },
     "execution_count": 48,
     "metadata": {},
     "output_type": "execute_result"
    }
   ],
   "source": [
    "attr.__dict__"
   ]
  },
  {
   "cell_type": "code",
   "execution_count": null,
   "id": "5291fb89-62b6-4acd-9c9d-087e1d3b9721",
   "metadata": {},
   "outputs": [],
   "source": []
  },
  {
   "cell_type": "code",
   "execution_count": null,
   "id": "9e4c9458-5c87-447e-8bb8-07b9bd4ff4ad",
   "metadata": {},
   "outputs": [],
   "source": []
  },
  {
   "cell_type": "code",
   "execution_count": 69,
   "id": "4eed3042-3ebd-480b-9c5a-4844d3f0c7bc",
   "metadata": {},
   "outputs": [
    {
     "name": "stdout",
     "output_type": "stream",
     "text": [
      "__setattr__ name='val', val=42\n",
      "__setattr__ name='_login', val=99\n"
     ]
    }
   ],
   "source": [
    "class AttrAccess:\n",
    "    name = \"cls_attribut_access\"\n",
    "\n",
    "    def __init__(self, val):\n",
    "        self.val = val\n",
    "        self._login = 99\n",
    "\n",
    "    def __getattr__(self, name):\n",
    "        print(f\"__getattr__ {name=}\")\n",
    "        # return super().__getattr__(name)\n",
    "        raise AttributeError(f\"no such attr {name}\")\n",
    "\n",
    "    def __getattribute__(self, name):\n",
    "        print(f\"__getattribute__ {name=}\")\n",
    "        \n",
    "        return super().__getattribute__(name)\n",
    "            \n",
    "    def __setattr__(self, name, val):\n",
    "        print(f\"__setattr__ {name=}, {val=}\")\n",
    "        \n",
    "        return super().__setattr__(name, val)\n",
    "\n",
    "    def __delattr__(self, name):\n",
    "        print(f\"__delattr__ {name=}\")\n",
    "        \n",
    "        return super().__delattr__(name)\n",
    "\n",
    "    @property\n",
    "    def login(self):\n",
    "        print(\"login get\")\n",
    "        return self._login\n",
    "\n",
    "    def calc(self):\n",
    "        print(\"calc\")\n",
    "\n",
    "    \n",
    "attr = AttrAccess(42)"
   ]
  },
  {
   "cell_type": "code",
   "execution_count": 50,
   "id": "645d1cd0-fc87-4004-954c-37a85b97b12d",
   "metadata": {},
   "outputs": [
    {
     "name": "stdout",
     "output_type": "stream",
     "text": [
      "__getattribute__ name='login'\n",
      "login get\n",
      "__getattribute__ name='_login'\n"
     ]
    },
    {
     "data": {
      "text/plain": [
       "99"
      ]
     },
     "execution_count": 50,
     "metadata": {},
     "output_type": "execute_result"
    }
   ],
   "source": [
    "attr.login"
   ]
  },
  {
   "cell_type": "code",
   "execution_count": 52,
   "id": "d6885cf6-3b44-41ff-aa41-7f0a92ad9321",
   "metadata": {},
   "outputs": [
    {
     "name": "stdout",
     "output_type": "stream",
     "text": [
      "__delattr__ name='val'\n"
     ]
    }
   ],
   "source": [
    "del attr.val"
   ]
  },
  {
   "cell_type": "code",
   "execution_count": 53,
   "id": "de3ecbcb-2d14-4c8b-89be-a227de7ff1e1",
   "metadata": {},
   "outputs": [
    {
     "name": "stdout",
     "output_type": "stream",
     "text": [
      "__getattribute__ name='val'\n",
      "__getattr__ name='val'\n"
     ]
    },
    {
     "ename": "AttributeError",
     "evalue": "no such attr val",
     "output_type": "error",
     "traceback": [
      "\u001b[31m---------------------------------------------------------------------------\u001b[39m",
      "\u001b[31mAttributeError\u001b[39m                            Traceback (most recent call last)",
      "\u001b[36mCell\u001b[39m\u001b[36m \u001b[39m\u001b[32mIn[53]\u001b[39m\u001b[32m, line 1\u001b[39m\n\u001b[32m----> \u001b[39m\u001b[32m1\u001b[39m \u001b[43mattr\u001b[49m\u001b[43m.\u001b[49m\u001b[43mval\u001b[49m\n",
      "\u001b[36mCell\u001b[39m\u001b[36m \u001b[39m\u001b[32mIn[49]\u001b[39m\u001b[32m, line 11\u001b[39m, in \u001b[36mAttrAccess.__getattr__\u001b[39m\u001b[34m(self, name)\u001b[39m\n\u001b[32m      9\u001b[39m \u001b[38;5;28mprint\u001b[39m(\u001b[33mf\u001b[39m\u001b[33m\"\u001b[39m\u001b[33m__getattr__ \u001b[39m\u001b[38;5;132;01m{\u001b[39;00mname\u001b[38;5;132;01m=}\u001b[39;00m\u001b[33m\"\u001b[39m)\n\u001b[32m     10\u001b[39m \u001b[38;5;66;03m# return super().__getattr__(name)\u001b[39;00m\n\u001b[32m---> \u001b[39m\u001b[32m11\u001b[39m \u001b[38;5;28;01mraise\u001b[39;00m \u001b[38;5;167;01mAttributeError\u001b[39;00m(\u001b[33mf\u001b[39m\u001b[33m\"\u001b[39m\u001b[33mno such attr \u001b[39m\u001b[38;5;132;01m{\u001b[39;00mname\u001b[38;5;132;01m}\u001b[39;00m\u001b[33m\"\u001b[39m)\n",
      "\u001b[31mAttributeError\u001b[39m: no such attr val"
     ]
    }
   ],
   "source": [
    "attr.val"
   ]
  },
  {
   "cell_type": "code",
   "execution_count": 55,
   "id": "eb045f4c-4d6e-4854-812e-14b9a4d5b710",
   "metadata": {},
   "outputs": [
    {
     "name": "stdout",
     "output_type": "stream",
     "text": [
      "__getattribute__ name='__dict__'\n"
     ]
    },
    {
     "data": {
      "text/plain": [
       "{'val': 42, '_login': 99}"
      ]
     },
     "execution_count": 55,
     "metadata": {},
     "output_type": "execute_result"
    }
   ],
   "source": [
    "attr.__dict__"
   ]
  },
  {
   "cell_type": "code",
   "execution_count": 56,
   "id": "acfd3f7d-f47a-4819-8e36-f130c27ca2b3",
   "metadata": {},
   "outputs": [
    {
     "name": "stdout",
     "output_type": "stream",
     "text": [
      "__getattribute__ name='val'\n",
      "__getattribute__ name='login'\n",
      "login get\n",
      "__getattribute__ name='_login'\n"
     ]
    },
    {
     "data": {
      "text/plain": [
       "(42, 99)"
      ]
     },
     "execution_count": 56,
     "metadata": {},
     "output_type": "execute_result"
    }
   ],
   "source": [
    "attr.val, attr.login"
   ]
  },
  {
   "cell_type": "code",
   "execution_count": null,
   "id": "1b0e57d3-f0e2-4f8b-96da-112e8d207f4c",
   "metadata": {},
   "outputs": [],
   "source": []
  },
  {
   "cell_type": "code",
   "execution_count": 59,
   "id": "59fe0341-878c-4529-8995-6985053766b5",
   "metadata": {},
   "outputs": [
    {
     "name": "stdout",
     "output_type": "stream",
     "text": [
      "__getattribute__ name='val'\n",
      "__getattribute__ name='login'\n",
      "login get\n",
      "__getattribute__ name='_login'\n"
     ]
    },
    {
     "data": {
      "text/plain": [
       "(42, 99)"
      ]
     },
     "execution_count": 59,
     "metadata": {},
     "output_type": "execute_result"
    }
   ],
   "source": [
    "getattr(attr, \"val\"), getattr(attr, \"login\")"
   ]
  },
  {
   "cell_type": "code",
   "execution_count": 58,
   "id": "8753afbb-5810-4c7c-a120-eca5fdabf7bd",
   "metadata": {},
   "outputs": [
    {
     "name": "stdout",
     "output_type": "stream",
     "text": [
      "__getattribute__ name='unknown'\n",
      "__getattr__ name='unknown'\n"
     ]
    },
    {
     "ename": "AttributeError",
     "evalue": "no such attr unknown",
     "output_type": "error",
     "traceback": [
      "\u001b[31m---------------------------------------------------------------------------\u001b[39m",
      "\u001b[31mAttributeError\u001b[39m                            Traceback (most recent call last)",
      "\u001b[36mCell\u001b[39m\u001b[36m \u001b[39m\u001b[32mIn[58]\u001b[39m\u001b[32m, line 1\u001b[39m\n\u001b[32m----> \u001b[39m\u001b[32m1\u001b[39m \u001b[38;5;28;43mgetattr\u001b[39;49m\u001b[43m(\u001b[49m\u001b[43mattr\u001b[49m\u001b[43m,\u001b[49m\u001b[43m \u001b[49m\u001b[33;43m\"\u001b[39;49m\u001b[33;43munknown\u001b[39;49m\u001b[33;43m\"\u001b[39;49m\u001b[43m)\u001b[49m\n",
      "\u001b[36mCell\u001b[39m\u001b[36m \u001b[39m\u001b[32mIn[54]\u001b[39m\u001b[32m, line 11\u001b[39m, in \u001b[36mAttrAccess.__getattr__\u001b[39m\u001b[34m(self, name)\u001b[39m\n\u001b[32m      9\u001b[39m \u001b[38;5;28mprint\u001b[39m(\u001b[33mf\u001b[39m\u001b[33m\"\u001b[39m\u001b[33m__getattr__ \u001b[39m\u001b[38;5;132;01m{\u001b[39;00mname\u001b[38;5;132;01m=}\u001b[39;00m\u001b[33m\"\u001b[39m)\n\u001b[32m     10\u001b[39m \u001b[38;5;66;03m# return super().__getattr__(name)\u001b[39;00m\n\u001b[32m---> \u001b[39m\u001b[32m11\u001b[39m \u001b[38;5;28;01mraise\u001b[39;00m \u001b[38;5;167;01mAttributeError\u001b[39;00m(\u001b[33mf\u001b[39m\u001b[33m\"\u001b[39m\u001b[33mno such attr \u001b[39m\u001b[38;5;132;01m{\u001b[39;00mname\u001b[38;5;132;01m}\u001b[39;00m\u001b[33m\"\u001b[39m)\n",
      "\u001b[31mAttributeError\u001b[39m: no such attr unknown"
     ]
    }
   ],
   "source": [
    "getattr(attr, \"unknown\")"
   ]
  },
  {
   "cell_type": "code",
   "execution_count": 61,
   "id": "1dc73ec4-54ed-40b4-bfa2-2ad4a05cb07e",
   "metadata": {},
   "outputs": [
    {
     "name": "stdout",
     "output_type": "stream",
     "text": [
      "__setattr__ name='val', val='new_val'\n"
     ]
    }
   ],
   "source": [
    "setattr(attr, \"val\", \"new_val\")"
   ]
  },
  {
   "cell_type": "code",
   "execution_count": 65,
   "id": "3102b75a-2627-44b1-b9cd-9f6c7537a5d5",
   "metadata": {},
   "outputs": [
    {
     "name": "stdout",
     "output_type": "stream",
     "text": [
      "__setattr__ name='val1', val='new_val1'\n"
     ]
    }
   ],
   "source": [
    "setattr(attr, \"val1\", \"new_val1\")"
   ]
  },
  {
   "cell_type": "code",
   "execution_count": 66,
   "id": "b0a8f910-626a-44f6-b496-8aef41243f10",
   "metadata": {},
   "outputs": [
    {
     "name": "stdout",
     "output_type": "stream",
     "text": [
      "__getattribute__ name='__dict__'\n"
     ]
    },
    {
     "data": {
      "text/plain": [
       "{'val': 'new_val', '_login': 99, 'val1': 'new_val1'}"
      ]
     },
     "execution_count": 66,
     "metadata": {},
     "output_type": "execute_result"
    }
   ],
   "source": [
    "attr.__dict__"
   ]
  },
  {
   "cell_type": "code",
   "execution_count": 67,
   "id": "e43551e0-6346-4a08-a4e5-24f14985cf3e",
   "metadata": {},
   "outputs": [
    {
     "name": "stdout",
     "output_type": "stream",
     "text": [
      "__delattr__ name='val1'\n"
     ]
    }
   ],
   "source": [
    "delattr(attr, \"val1\")"
   ]
  },
  {
   "cell_type": "code",
   "execution_count": 68,
   "id": "2f3dc71e-82ce-4379-aad2-9d24c1aedfc6",
   "metadata": {},
   "outputs": [
    {
     "name": "stdout",
     "output_type": "stream",
     "text": [
      "__getattribute__ name='__dict__'\n"
     ]
    },
    {
     "data": {
      "text/plain": [
       "{'val': 'new_val', '_login': 99}"
      ]
     },
     "execution_count": 68,
     "metadata": {},
     "output_type": "execute_result"
    }
   ],
   "source": [
    "attr.__dict__"
   ]
  },
  {
   "cell_type": "code",
   "execution_count": 70,
   "id": "cbecb9d7-6500-4895-b9a7-8f3d8d238181",
   "metadata": {},
   "outputs": [
    {
     "name": "stdout",
     "output_type": "stream",
     "text": [
      "__getattribute__ name='calc'\n",
      "calc\n"
     ]
    }
   ],
   "source": [
    "attr.calc()"
   ]
  },
  {
   "cell_type": "code",
   "execution_count": 71,
   "id": "1795ed86-9440-4998-be9e-cc05694d10f3",
   "metadata": {},
   "outputs": [
    {
     "name": "stdout",
     "output_type": "stream",
     "text": [
      "__getattribute__ name='name'\n"
     ]
    },
    {
     "data": {
      "text/plain": [
       "'cls_attribut_access'"
      ]
     },
     "execution_count": 71,
     "metadata": {},
     "output_type": "execute_result"
    }
   ],
   "source": [
    "attr.name"
   ]
  },
  {
   "cell_type": "code",
   "execution_count": null,
   "id": "5829f7a8-df44-4586-bb35-ec856a58a07c",
   "metadata": {},
   "outputs": [],
   "source": []
  },
  {
   "cell_type": "code",
   "execution_count": null,
   "id": "833d4204-87ad-4257-b8ab-14e6d54e0f86",
   "metadata": {},
   "outputs": [],
   "source": []
  },
  {
   "cell_type": "code",
   "execution_count": null,
   "id": "c9a4b78e-a501-4d8a-98eb-3e2d71e038e9",
   "metadata": {},
   "outputs": [],
   "source": []
  },
  {
   "cell_type": "code",
   "execution_count": 77,
   "id": "507c0159-b3ca-472e-8e07-008b6c622d51",
   "metadata": {},
   "outputs": [],
   "source": [
    "class Person:\n",
    "    def __init__(self, name, login, system_id):\n",
    "        self.name = name\n",
    "        self._login = login\n",
    "        self.__system_id = system_id\n",
    "\n",
    "    def print_info(self):\n",
    "        print(f\"{self.name=}, {self._login=}, {self.__system_id=}\")"
   ]
  },
  {
   "cell_type": "code",
   "execution_count": 73,
   "id": "81017c6d-4dea-482a-bb0f-dc420e6cd2bf",
   "metadata": {},
   "outputs": [],
   "source": [
    "steve = Person(\"steve\", \"st123\", 999)"
   ]
  },
  {
   "cell_type": "code",
   "execution_count": 74,
   "id": "97e9347d-77e9-4020-ba55-6ab02860ca87",
   "metadata": {},
   "outputs": [
    {
     "data": {
      "text/plain": [
       "{'name': 'steve', '_login': 'st123', '_Person__system_id': 999}"
      ]
     },
     "execution_count": 74,
     "metadata": {},
     "output_type": "execute_result"
    }
   ],
   "source": [
    "steve.__dict__"
   ]
  },
  {
   "cell_type": "code",
   "execution_count": 75,
   "id": "48c1631c-dcb8-49dc-a15d-47d70c9ad451",
   "metadata": {},
   "outputs": [
    {
     "name": "stdout",
     "output_type": "stream",
     "text": [
      "self.name='steve', self._login='st123', self.__system_id=999\n"
     ]
    }
   ],
   "source": [
    "steve.print_info()"
   ]
  },
  {
   "cell_type": "code",
   "execution_count": null,
   "id": "11c9706c-16e1-47a9-a8ef-78df804d4413",
   "metadata": {},
   "outputs": [],
   "source": []
  },
  {
   "cell_type": "code",
   "execution_count": null,
   "id": "bfe07121-5a4d-4095-8fc7-9dbd325bdebb",
   "metadata": {},
   "outputs": [],
   "source": []
  },
  {
   "cell_type": "code",
   "execution_count": 83,
   "id": "acf5d635-2184-4a0f-977f-852bb909f725",
   "metadata": {},
   "outputs": [
    {
     "name": "stdout",
     "output_type": "stream",
     "text": [
      "Student.init \n",
      "Person.init\n"
     ]
    }
   ],
   "source": [
    "class Person:\n",
    "    def __init__(self, name, login, system_id):\n",
    "        print(\"Person.init\")\n",
    "        self.name = name\n",
    "        self._login = login\n",
    "        self.__system_id = system_id\n",
    "\n",
    "    def print_info(self):\n",
    "        print(f\"Person.print: {self.name=}, {self._login=}, {self.__system_id=}\")\n",
    "\n",
    "\n",
    "class Student(Person):\n",
    "    def __init__(self, school, *args, **kwargs):\n",
    "        print(\"Student.init \")\n",
    "        self.school = school\n",
    "        super().__init__(*args, **kwargs)\n",
    "\n",
    "\n",
    "steve = Student(\"mipt\", \"steve\", \"st123\", 999)"
   ]
  },
  {
   "cell_type": "code",
   "execution_count": 84,
   "id": "9dbeefff-f6c5-46cf-8940-ca9b8afe52cf",
   "metadata": {},
   "outputs": [
    {
     "name": "stdout",
     "output_type": "stream",
     "text": [
      "Person.print: self.name='steve', self._login='st123', self.__system_id=999\n"
     ]
    }
   ],
   "source": [
    "steve.print_info()"
   ]
  },
  {
   "cell_type": "code",
   "execution_count": 85,
   "id": "cb127c3b-5688-4eed-8eb0-9d16c9545013",
   "metadata": {},
   "outputs": [
    {
     "data": {
      "text/plain": [
       "'mipt'"
      ]
     },
     "execution_count": 85,
     "metadata": {},
     "output_type": "execute_result"
    }
   ],
   "source": [
    "steve.school"
   ]
  },
  {
   "cell_type": "code",
   "execution_count": null,
   "id": "eaf264d5-3039-4ad4-9c67-cdd57302af70",
   "metadata": {},
   "outputs": [],
   "source": []
  },
  {
   "cell_type": "code",
   "execution_count": 86,
   "id": "f00edba8-78f3-4f39-99f3-77285f9ffcb8",
   "metadata": {},
   "outputs": [
    {
     "name": "stdout",
     "output_type": "stream",
     "text": [
      "Student.init \n",
      "Person.init\n"
     ]
    }
   ],
   "source": [
    "class Person:\n",
    "    def __init__(self, name, login, system_id):\n",
    "        print(\"Person.init\")\n",
    "        self.name = name\n",
    "        self._login = login\n",
    "        self.__system_id = system_id\n",
    "\n",
    "    def print_info(self):\n",
    "        print(f\"Person.print: {self.name=}, {self._login=}, {self.__system_id=}\")\n",
    "\n",
    "\n",
    "class Student(Person):\n",
    "    def __init__(self, school, *args, **kwargs):\n",
    "        print(\"Student.init \")\n",
    "        self.school = school\n",
    "        super().__init__(*args, **kwargs)\n",
    "\n",
    "    def print_info(self):\n",
    "        print(\n",
    "            f\"Student.print: {self.school=}, {self.name=},\"\n",
    "            f\" {self._login=}, {self.__system_id=}\"\n",
    "        )\n",
    "\n",
    "\n",
    "steve = Student(\"mipt\", \"steve\", \"st123\", 999)"
   ]
  },
  {
   "cell_type": "code",
   "execution_count": 87,
   "id": "87bb0cba-c4a3-448a-86a1-adfec40de003",
   "metadata": {},
   "outputs": [
    {
     "ename": "AttributeError",
     "evalue": "'Student' object has no attribute '_Student__system_id'",
     "output_type": "error",
     "traceback": [
      "\u001b[31m---------------------------------------------------------------------------\u001b[39m",
      "\u001b[31mAttributeError\u001b[39m                            Traceback (most recent call last)",
      "\u001b[36mCell\u001b[39m\u001b[36m \u001b[39m\u001b[32mIn[87]\u001b[39m\u001b[32m, line 1\u001b[39m\n\u001b[32m----> \u001b[39m\u001b[32m1\u001b[39m \u001b[43msteve\u001b[49m\u001b[43m.\u001b[49m\u001b[43mprint_info\u001b[49m\u001b[43m(\u001b[49m\u001b[43m)\u001b[49m\n",
      "\u001b[36mCell\u001b[39m\u001b[36m \u001b[39m\u001b[32mIn[86]\u001b[39m\u001b[32m, line 21\u001b[39m, in \u001b[36mStudent.print_info\u001b[39m\u001b[34m(self)\u001b[39m\n\u001b[32m     18\u001b[39m \u001b[38;5;28;01mdef\u001b[39;00m\u001b[38;5;250m \u001b[39m\u001b[34mprint_info\u001b[39m(\u001b[38;5;28mself\u001b[39m):\n\u001b[32m     19\u001b[39m     \u001b[38;5;28mprint\u001b[39m(\n\u001b[32m     20\u001b[39m         \u001b[33mf\u001b[39m\u001b[33m\"\u001b[39m\u001b[33mStudent.print: \u001b[39m\u001b[38;5;132;01m{\u001b[39;00m\u001b[38;5;28mself\u001b[39m.school\u001b[38;5;132;01m=}\u001b[39;00m\u001b[33m, \u001b[39m\u001b[38;5;132;01m{\u001b[39;00m\u001b[38;5;28mself\u001b[39m.name\u001b[38;5;132;01m=}\u001b[39;00m\u001b[33m,\u001b[39m\u001b[33m\"\u001b[39m\n\u001b[32m---> \u001b[39m\u001b[32m21\u001b[39m         \u001b[33mf\u001b[39m\u001b[33m\"\u001b[39m\u001b[33m \u001b[39m\u001b[38;5;132;01m{\u001b[39;00m\u001b[38;5;28mself\u001b[39m._login\u001b[38;5;132;01m=}\u001b[39;00m\u001b[33m, \u001b[39m\u001b[38;5;132;01m{\u001b[39;00m\u001b[38;5;28;43mself\u001b[39;49m\u001b[43m.\u001b[49m\u001b[43m__system_id\u001b[49m\u001b[38;5;132;01m=}\u001b[39;00m\u001b[33m\"\u001b[39m\n\u001b[32m     22\u001b[39m     )\n",
      "\u001b[31mAttributeError\u001b[39m: 'Student' object has no attribute '_Student__system_id'"
     ]
    }
   ],
   "source": [
    "steve.print_info()"
   ]
  },
  {
   "cell_type": "code",
   "execution_count": 88,
   "id": "6e9a8faa-0f65-49d2-ac40-472a89381f14",
   "metadata": {},
   "outputs": [
    {
     "data": {
      "text/plain": [
       "{'school': 'mipt',\n",
       " 'name': 'steve',\n",
       " '_login': 'st123',\n",
       " '_Person__system_id': 999}"
      ]
     },
     "execution_count": 88,
     "metadata": {},
     "output_type": "execute_result"
    }
   ],
   "source": [
    "steve.__dict__"
   ]
  },
  {
   "cell_type": "code",
   "execution_count": 90,
   "id": "18d8db87-fc1d-49a4-8436-75c2d8630ed2",
   "metadata": {},
   "outputs": [
    {
     "name": "stdout",
     "output_type": "stream",
     "text": [
      "Student.init \n",
      "Person.init\n",
      "Student.print: self.school='mipt'\n",
      "Person.print: self.name='steve', self._login='st123', self.__system_id=999\n"
     ]
    }
   ],
   "source": [
    "class Person:\n",
    "    def __init__(self, name, login, system_id):\n",
    "        print(\"Person.init\")\n",
    "        self.name = name\n",
    "        self._login = login\n",
    "        self.__system_id = system_id\n",
    "\n",
    "    def print_info(self):\n",
    "        print(f\"Person.print: {self.name=}, {self._login=}, {self.__system_id=}\")\n",
    "\n",
    "\n",
    "class Student(Person):\n",
    "    def __init__(self, school, *args, **kwargs):\n",
    "        print(\"Student.init \")\n",
    "        self.school = school\n",
    "        super().__init__(*args, **kwargs)\n",
    "\n",
    "    def print_info(self):\n",
    "        print(f\"Student.print: {self.school=}\")\n",
    "        super().print_info()\n",
    "\n",
    "\n",
    "steve = Student(\"mipt\", \"steve\", \"st123\", 999)\n",
    "steve.print_info()"
   ]
  },
  {
   "cell_type": "code",
   "execution_count": null,
   "id": "504a0863-0da0-416d-904f-1433df703a50",
   "metadata": {},
   "outputs": [],
   "source": []
  },
  {
   "cell_type": "code",
   "execution_count": 91,
   "id": "7ae0b508-bb7b-44ea-a428-8461918a2b1f",
   "metadata": {},
   "outputs": [
    {
     "name": "stdout",
     "output_type": "stream",
     "text": [
      "Student.init \n",
      "Person.init\n",
      "Student.print: self.school='mipt', self.name='steve', self._login='st123', self.system_id=999\n"
     ]
    }
   ],
   "source": [
    "class Person:\n",
    "    def __init__(self, name, login, system_id):\n",
    "        print(\"Person.init\")\n",
    "        self.name = name\n",
    "        self._login = login\n",
    "        self.__system_id = system_id\n",
    "\n",
    "    def print_info(self):\n",
    "        print(f\"Person.print: {self.name=}, {self._login=}, {self.system_id=}\")\n",
    "\n",
    "    @property\n",
    "    def system_id(self):\n",
    "        return self.__system_id\n",
    "\n",
    "\n",
    "class Student(Person):\n",
    "    def __init__(self, school, *args, **kwargs):\n",
    "        print(\"Student.init \")\n",
    "        self.school = school\n",
    "        super().__init__(*args, **kwargs)\n",
    "\n",
    "    def print_info(self):\n",
    "        print(\n",
    "            f\"Student.print: {self.school=}, {self.name=},\"\n",
    "            f\" {self._login=}, {self.system_id=}\"\n",
    "        )\n",
    "\n",
    "\n",
    "steve = Student(\"mipt\", \"steve\", \"st123\", 999)\n",
    "steve.print_info()"
   ]
  },
  {
   "cell_type": "code",
   "execution_count": null,
   "id": "06eb6335-628e-43b1-9995-1534a6897acb",
   "metadata": {},
   "outputs": [],
   "source": []
  },
  {
   "cell_type": "code",
   "execution_count": null,
   "id": "e5fb1fdb-430b-4d79-a27a-9138697f7768",
   "metadata": {},
   "outputs": [],
   "source": []
  },
  {
   "cell_type": "code",
   "execution_count": 98,
   "id": "24b9320f-39fa-4c2d-a72d-213a98c74d22",
   "metadata": {},
   "outputs": [
    {
     "name": "stdout",
     "output_type": "stream",
     "text": [
      "Student.init \n",
      "Person.init\n",
      "Student.print: self.school='mipt', self.name='stu_steve', self._login='stu_st123', self.system_id=999, self.__system_id=10999\n"
     ]
    }
   ],
   "source": [
    "class Person:\n",
    "    def __init__(self, name, login, system_id):\n",
    "        print(\"Person.init\")\n",
    "        self.name = name\n",
    "        self._login = login\n",
    "        self.__system_id = system_id\n",
    "\n",
    "    def print_info(self):\n",
    "        print(f\"Person.print: {self.name=}, {self._login=}, {self.system_id=}\")\n",
    "\n",
    "    @property\n",
    "    def system_id(self):\n",
    "        return self.__system_id\n",
    "\n",
    "\n",
    "class Student(Person):\n",
    "    def __init__(self, school, name, login, system_id):\n",
    "        print(\"Student.init \")\n",
    "        super().__init__(name, login, system_id)\n",
    "\n",
    "        self.school = school\n",
    "        self.name = \"stu_\" + name\n",
    "        self._login = \"stu_\" + login\n",
    "        self.__system_id = system_id + 10000\n",
    "\n",
    "    def print_info(self):\n",
    "        print(\n",
    "            f\"Student.print: {self.school=}, {self.name=},\"\n",
    "            f\" {self._login=}, {self.system_id=}, {self.__system_id=}\"\n",
    "        )\n",
    "\n",
    "\n",
    "steve = Student(\"mipt\", \"steve\", \"st123\", 999)\n",
    "steve.print_info()"
   ]
  },
  {
   "cell_type": "code",
   "execution_count": 95,
   "id": "dfdce604-fd62-41e1-8224-4e8055fd6bb0",
   "metadata": {},
   "outputs": [
    {
     "data": {
      "text/plain": [
       "{'school': 'mipt',\n",
       " 'name': 'steve',\n",
       " '_login': 'st123',\n",
       " '_Student__system_id': 10999,\n",
       " '_Person__system_id': 999}"
      ]
     },
     "execution_count": 95,
     "metadata": {},
     "output_type": "execute_result"
    }
   ],
   "source": [
    "steve.__dict__"
   ]
  },
  {
   "cell_type": "code",
   "execution_count": null,
   "id": "14a9d531-fbee-4798-a32f-5f3170e4205f",
   "metadata": {},
   "outputs": [],
   "source": []
  },
  {
   "cell_type": "code",
   "execution_count": null,
   "id": "bdf3660e-3e9e-4b60-91df-8c32aba0f475",
   "metadata": {},
   "outputs": [],
   "source": []
  },
  {
   "cell_type": "markdown",
   "id": "c0af6688-ea01-4674-83cc-1874596d3e76",
   "metadata": {},
   "source": [
    "# Дескрипторы"
   ]
  },
  {
   "cell_type": "code",
   "execution_count": 111,
   "id": "a5166fba-bb94-402b-8372-a3340adf4990",
   "metadata": {},
   "outputs": [],
   "source": [
    "class IntField:\n",
    "    def __get__(self, obj, objtype):\n",
    "        print(f\"IntField.__get__ {obj=}, {objtype=}\")\n",
    "        \n",
    "    def __set__(self, obj, val):\n",
    "        print(f\"IntField.__set__ {obj=}, {val=}\")\n",
    "\n",
    "    def __delete__(self, obj):\n",
    "        print(f\"IntField.__delete__ {obj=}\")\n",
    "\n",
    "\n",
    "class PersonTable:\n",
    "    age = IntField()\n",
    "\n",
    "    def __init__(self, age):\n",
    "        self.age = age"
   ]
  },
  {
   "cell_type": "code",
   "execution_count": 105,
   "id": "8b6d7df8-d539-4a08-9874-ca49ace623bb",
   "metadata": {},
   "outputs": [
    {
     "data": {
      "text/plain": [
       "mappingproxy({'__module__': '__main__',\n",
       "              '__firstlineno__': 12,\n",
       "              'age': <__main__.IntField at 0x111118ec0>,\n",
       "              '__static_attributes__': (),\n",
       "              '__dict__': <attribute '__dict__' of 'PersonTable' objects>,\n",
       "              '__weakref__': <attribute '__weakref__' of 'PersonTable' objects>,\n",
       "              '__doc__': None})"
      ]
     },
     "execution_count": 105,
     "metadata": {},
     "output_type": "execute_result"
    }
   ],
   "source": [
    "PersonTable.__dict__"
   ]
  },
  {
   "cell_type": "code",
   "execution_count": 106,
   "id": "2b34dbda-9ae7-478a-a28b-7c236a217c00",
   "metadata": {},
   "outputs": [
    {
     "name": "stdout",
     "output_type": "stream",
     "text": [
      "IntField.__get__ obj=None, objtype=<class '__main__.PersonTable'>\n"
     ]
    }
   ],
   "source": [
    "PersonTable.age"
   ]
  },
  {
   "cell_type": "code",
   "execution_count": 107,
   "id": "f97eecf5-b798-4165-a258-2434b57d4758",
   "metadata": {},
   "outputs": [],
   "source": [
    "PersonTable.age = 12"
   ]
  },
  {
   "cell_type": "code",
   "execution_count": 108,
   "id": "1751a99e-9149-4237-ba6f-91d8fdcada0a",
   "metadata": {},
   "outputs": [
    {
     "data": {
      "text/plain": [
       "mappingproxy({'__module__': '__main__',\n",
       "              '__firstlineno__': 12,\n",
       "              'age': 12,\n",
       "              '__static_attributes__': (),\n",
       "              '__dict__': <attribute '__dict__' of 'PersonTable' objects>,\n",
       "              '__weakref__': <attribute '__weakref__' of 'PersonTable' objects>,\n",
       "              '__doc__': None})"
      ]
     },
     "execution_count": 108,
     "metadata": {},
     "output_type": "execute_result"
    }
   ],
   "source": [
    "PersonTable.__dict__"
   ]
  },
  {
   "cell_type": "code",
   "execution_count": null,
   "id": "4fd59a8e-b9cb-4a01-b2d9-b0b9fa0bb198",
   "metadata": {},
   "outputs": [],
   "source": []
  },
  {
   "cell_type": "code",
   "execution_count": 113,
   "id": "2ea56205-3902-4cf0-9bc5-1c3af26e82f1",
   "metadata": {},
   "outputs": [],
   "source": [
    "class IntField:\n",
    "    def __get__(self, obj, objtype):\n",
    "        print(f\"IntField.__get__ {obj=}, {objtype=}\")\n",
    "        \n",
    "    def __set__(self, obj, val):\n",
    "        print(f\"IntField.__set__ {obj=}, {val=}\")\n",
    "\n",
    "    def __delete__(self, obj):\n",
    "        print(f\"IntField.__delete__ {obj=}\")\n",
    "\n",
    "\n",
    "class PersonTable:\n",
    "    age = IntField()\n",
    "\n",
    "    def __init__(self, age):\n",
    "        self.age = age"
   ]
  },
  {
   "cell_type": "code",
   "execution_count": 114,
   "id": "9077b08d-06e6-46a8-9b66-8f884820ec85",
   "metadata": {},
   "outputs": [
    {
     "name": "stdout",
     "output_type": "stream",
     "text": [
      "IntField.__set__ obj=<__main__.PersonTable object at 0x111118830>, val=10\n"
     ]
    }
   ],
   "source": [
    "pers = PersonTable(10)"
   ]
  },
  {
   "cell_type": "code",
   "execution_count": 115,
   "id": "59e7ae3b-c711-4cb5-ba87-3702c4607c2b",
   "metadata": {},
   "outputs": [
    {
     "name": "stdout",
     "output_type": "stream",
     "text": [
      "IntField.__get__ obj=<__main__.PersonTable object at 0x111118830>, objtype=<class '__main__.PersonTable'>\n"
     ]
    }
   ],
   "source": [
    "pers.age"
   ]
  },
  {
   "cell_type": "code",
   "execution_count": 116,
   "id": "0415aa5a-461d-4ace-b225-540920c8eda9",
   "metadata": {},
   "outputs": [
    {
     "name": "stdout",
     "output_type": "stream",
     "text": [
      "IntField.__delete__ obj=<__main__.PersonTable object at 0x111118830>\n"
     ]
    }
   ],
   "source": [
    "del pers.age"
   ]
  },
  {
   "cell_type": "code",
   "execution_count": 117,
   "id": "a5c2ddf1-202b-4516-9887-8f57ecc216ea",
   "metadata": {},
   "outputs": [
    {
     "name": "stdout",
     "output_type": "stream",
     "text": [
      "IntField.__delete__ obj=<__main__.PersonTable object at 0x111118830>\n"
     ]
    }
   ],
   "source": [
    "del pers.age"
   ]
  },
  {
   "cell_type": "code",
   "execution_count": null,
   "id": "646af616-7b5f-48ce-9121-12afd34b4f5f",
   "metadata": {},
   "outputs": [],
   "source": []
  },
  {
   "cell_type": "code",
   "execution_count": null,
   "id": "18ca6c87-3546-4f8e-aa1d-72f22a153fa9",
   "metadata": {},
   "outputs": [],
   "source": []
  },
  {
   "cell_type": "code",
   "execution_count": 120,
   "id": "1dd3dcdf-e70d-4fb0-9374-9123b6026e8d",
   "metadata": {},
   "outputs": [
    {
     "name": "stdout",
     "output_type": "stream",
     "text": [
      "IntField.__set__ obj=<__main__.PersonTable object at 0x111119160>, val=10\n",
      "IntField.__set__ obj=<__main__.PersonTable object at 0x110ebf750>, val=20\n",
      "IntField.__get__ obj=<__main__.PersonTable object at 0x111119160>, objtype=<class '__main__.PersonTable'>\n",
      "IntField.__get__ obj=<__main__.PersonTable object at 0x110ebf750>, objtype=<class '__main__.PersonTable'>\n",
      "20 20\n"
     ]
    }
   ],
   "source": [
    "# (!) bad\n",
    "\n",
    "class IntField:\n",
    "    def __init__(self):\n",
    "        self._val = None\n",
    "\n",
    "    def __get__(self, obj, objtype):\n",
    "        print(f\"IntField.__get__ {obj=}, {objtype=}\")\n",
    "        return self._val\n",
    "        \n",
    "    def __set__(self, obj, val):\n",
    "        print(f\"IntField.__set__ {obj=}, {val=}\")\n",
    "        self._val = val\n",
    "\n",
    "\n",
    "class PersonTable:\n",
    "    age = IntField()\n",
    "\n",
    "    def __init__(self, age):\n",
    "        self.age = age\n",
    "\n",
    "\n",
    "pers1 = PersonTable(10)\n",
    "pers2 = PersonTable(20)\n",
    "\n",
    "print(pers1.age, pers2.age)"
   ]
  },
  {
   "cell_type": "code",
   "execution_count": 135,
   "id": "b9ca8c5a-352c-49f5-afe7-80bb054110ae",
   "metadata": {},
   "outputs": [
    {
     "name": "stdout",
     "output_type": "stream",
     "text": [
      "IntField.__set__ obj=<__main__.PersonTable object at 0x111cad010>, val=10\n",
      "IntField.__set__ obj=<__main__.PersonTable object at 0x111cad010>, val=15\n",
      "IntField.__set__ obj=<__main__.PersonTable object at 0x111d77890>, val=20\n",
      "IntField.__set__ obj=<__main__.PersonTable object at 0x111d77890>, val=25\n",
      "IntField.__get__ obj=<__main__.PersonTable object at 0x111cad010>, objtype=<class '__main__.PersonTable'>\n",
      "IntField.__get__ obj=<__main__.PersonTable object at 0x111cad010>, objtype=<class '__main__.PersonTable'>\n",
      "IntField.__get__ obj=<__main__.PersonTable object at 0x111d77890>, objtype=<class '__main__.PersonTable'>\n",
      "IntField.__get__ obj=<__main__.PersonTable object at 0x111d77890>, objtype=<class '__main__.PersonTable'>\n",
      "15 15 25 25\n"
     ]
    }
   ],
   "source": [
    "# (!) bad\n",
    "\n",
    "class IntField:\n",
    "    def __init__(self):\n",
    "        self._name = \"_hidden_int\"\n",
    "\n",
    "    def __get__(self, obj, objtype):\n",
    "        print(f\"IntField.__get__ {obj=}, {objtype=}\")\n",
    "        if obj is None:\n",
    "            return None\n",
    "\n",
    "        return getattr(obj, self._name)\n",
    "        # return obj.__dict__[self._name]\n",
    "        \n",
    "    def __set__(self, obj, val):\n",
    "        print(f\"IntField.__set__ {obj=}, {val=}\")\n",
    "\n",
    "        if not isinstance(val, int) or val < 0:\n",
    "            raise ValueError(\"not valid age\")\n",
    "\n",
    "        return setattr(obj, self._name, val)\n",
    "\n",
    "\n",
    "class PersonTable:\n",
    "    age = IntField()\n",
    "    year = IntField()\n",
    "\n",
    "    def __init__(self, age, year):\n",
    "        self.age = age\n",
    "        self.year = year\n",
    "\n",
    "\n",
    "pers1 = PersonTable(10, 15)\n",
    "pers2 = PersonTable(20, 25)\n",
    "\n",
    "print(pers1.age, pers1.year, pers2.age, pers2.year)"
   ]
  },
  {
   "cell_type": "code",
   "execution_count": 136,
   "id": "cbb08a4b-eef3-494a-82fd-aade4c8482e5",
   "metadata": {},
   "outputs": [
    {
     "name": "stdout",
     "output_type": "stream",
     "text": [
      "IntField.__set__ obj=<__main__.PersonTable object at 0x111cad010>, val=99\n"
     ]
    }
   ],
   "source": [
    "pers1.age = 99"
   ]
  },
  {
   "cell_type": "code",
   "execution_count": 137,
   "id": "1e26fd6f-d2df-427d-991d-4bae574a3cf0",
   "metadata": {},
   "outputs": [
    {
     "name": "stdout",
     "output_type": "stream",
     "text": [
      "IntField.__get__ obj=<__main__.PersonTable object at 0x111cad010>, objtype=<class '__main__.PersonTable'>\n",
      "IntField.__get__ obj=<__main__.PersonTable object at 0x111cad010>, objtype=<class '__main__.PersonTable'>\n",
      "IntField.__get__ obj=<__main__.PersonTable object at 0x111d77890>, objtype=<class '__main__.PersonTable'>\n",
      "IntField.__get__ obj=<__main__.PersonTable object at 0x111d77890>, objtype=<class '__main__.PersonTable'>\n",
      "99 99 25 25\n"
     ]
    }
   ],
   "source": [
    "print(pers1.age, pers1.year, pers2.age, pers2.year)"
   ]
  },
  {
   "cell_type": "code",
   "execution_count": 138,
   "id": "f1228ea2-f8dc-4d31-9e7a-e2d1022a05af",
   "metadata": {},
   "outputs": [
    {
     "data": {
      "text/plain": [
       "({'_hidden_int': 99}, {'_hidden_int': 25})"
      ]
     },
     "execution_count": 138,
     "metadata": {},
     "output_type": "execute_result"
    }
   ],
   "source": [
    "pers1.__dict__, pers2.__dict__"
   ]
  },
  {
   "cell_type": "code",
   "execution_count": null,
   "id": "611aaf62-5bd0-452b-8005-4aa148bfb211",
   "metadata": {},
   "outputs": [],
   "source": []
  },
  {
   "cell_type": "code",
   "execution_count": null,
   "id": "6259ee04-fdf1-453b-9d09-38acbf238495",
   "metadata": {},
   "outputs": [],
   "source": []
  },
  {
   "cell_type": "code",
   "execution_count": null,
   "id": "5973e971-44da-4a2f-b7a7-d3172167c060",
   "metadata": {},
   "outputs": [],
   "source": []
  },
  {
   "cell_type": "code",
   "execution_count": 149,
   "id": "a923f663-5f2f-41fb-b863-3811d9b53cda",
   "metadata": {},
   "outputs": [
    {
     "name": "stdout",
     "output_type": "stream",
     "text": [
      "IntField.set_name owner=<class '__main__.PersonTable'>, name='age'\n",
      "IntField.set_name owner=<class '__main__.PersonTable'>, name='year'\n",
      "NameField.set_name owner=<class '__main__.PersonTable'>, name='name'\n",
      "IntField.__set__ obj=<__main__.PersonTable object at 0x111cadbe0>, val=10\n",
      "IntField.__set__ obj=<__main__.PersonTable object at 0x111cadbe0>, val=15\n",
      "IntField.__set__ obj=<__main__.PersonTable object at 0x111f8c410>, val=20\n",
      "IntField.__set__ obj=<__main__.PersonTable object at 0x111f8c410>, val=25\n",
      "IntField.__get__ obj=<__main__.PersonTable object at 0x111cadbe0>, objtype=<class '__main__.PersonTable'>\n",
      "IntField.__get__ obj=<__main__.PersonTable object at 0x111cadbe0>, objtype=<class '__main__.PersonTable'>\n",
      "IntField.__get__ obj=<__main__.PersonTable object at 0x111f8c410>, objtype=<class '__main__.PersonTable'>\n",
      "IntField.__get__ obj=<__main__.PersonTable object at 0x111f8c410>, objtype=<class '__main__.PersonTable'>\n",
      "10 15 20 25\n"
     ]
    }
   ],
   "source": [
    "class IntField:\n",
    "    def __init__(self):\n",
    "        self._name = None\n",
    "\n",
    "    def __set_name__(self, owner, name):\n",
    "        print(f\"IntField.set_name {owner=}, {name=}\")\n",
    "        self._name = f\"_hidden_int_{name}\"\n",
    "\n",
    "    def __get__(self, obj, objtype):\n",
    "        print(f\"IntField.__get__ {obj=}, {objtype=}\")\n",
    "        if obj is None:\n",
    "            return None\n",
    "\n",
    "        return getattr(obj, self._name)\n",
    "        # return obj.__dict__[self._name]\n",
    "        \n",
    "    def __set__(self, obj, val):\n",
    "        print(f\"IntField.__set__ {obj=}, {val=}\")\n",
    "\n",
    "        if not isinstance(val, int) or val < 0:\n",
    "            raise ValueError(\"not valid age\")\n",
    "\n",
    "        return setattr(obj, self._name, val)\n",
    "\n",
    "\n",
    "class NameField:\n",
    "    def __init__(self):\n",
    "        self._name = None\n",
    "\n",
    "    def __set_name__(self, owner, name):\n",
    "        print(f\"NameField.set_name {owner=}, {name=}\")\n",
    "        self._name = f\"_hidden_name_{name}\"\n",
    "\n",
    "    def __get__(self, obj, objtype):\n",
    "        print(f\"NameField.__get__ {obj=}, {objtype=}\")\n",
    "        if obj is None:\n",
    "            return None\n",
    "\n",
    "        return getattr(obj, self._name)\n",
    "\n",
    "\n",
    "class PersonTable:\n",
    "    age = IntField()\n",
    "    year = IntField()\n",
    "    name = NameField()\n",
    "\n",
    "    def __init__(self, age, year, name):\n",
    "        self.age = age\n",
    "        self.year = year\n",
    "        self._hidden_name_name = name\n",
    "\n",
    "    def calc(self):\n",
    "        print(\"Pers.calc\")\n",
    "        return 123\n",
    "\n",
    "\n",
    "pers1 = PersonTable(10, 15, \"steve\")\n",
    "pers2 = PersonTable(20, 25, \"walter\")\n",
    "\n",
    "print(pers1.age, pers1.year, pers2.age, pers2.year)"
   ]
  },
  {
   "cell_type": "code",
   "execution_count": 140,
   "id": "bcebdfdb-aae7-4f32-b717-d34aa0936baa",
   "metadata": {},
   "outputs": [
    {
     "name": "stdout",
     "output_type": "stream",
     "text": [
      "IntField.__set__ obj=<__main__.PersonTable object at 0x111cad550>, val=12345\n"
     ]
    }
   ],
   "source": [
    "pers1.age = 12345"
   ]
  },
  {
   "cell_type": "code",
   "execution_count": 141,
   "id": "f2d94653-b229-411f-a6c1-462c2c717880",
   "metadata": {},
   "outputs": [
    {
     "name": "stdout",
     "output_type": "stream",
     "text": [
      "IntField.__get__ obj=<__main__.PersonTable object at 0x111cad550>, objtype=<class '__main__.PersonTable'>\n",
      "IntField.__get__ obj=<__main__.PersonTable object at 0x111cad550>, objtype=<class '__main__.PersonTable'>\n",
      "IntField.__get__ obj=<__main__.PersonTable object at 0x111d77750>, objtype=<class '__main__.PersonTable'>\n",
      "IntField.__get__ obj=<__main__.PersonTable object at 0x111d77750>, objtype=<class '__main__.PersonTable'>\n",
      "12345 15 20 25\n"
     ]
    }
   ],
   "source": [
    "print(pers1.age, pers1.year, pers2.age, pers2.year)"
   ]
  },
  {
   "cell_type": "code",
   "execution_count": 142,
   "id": "a9e6369e-2e04-4208-afaf-3c70b5ddb0f1",
   "metadata": {},
   "outputs": [
    {
     "data": {
      "text/plain": [
       "({'_hidden_int_age': 12345, '_hidden_int_year': 15},\n",
       " {'_hidden_int_age': 20, '_hidden_int_year': 25})"
      ]
     },
     "execution_count": 142,
     "metadata": {},
     "output_type": "execute_result"
    }
   ],
   "source": [
    "pers1.__dict__, pers2.__dict__"
   ]
  },
  {
   "cell_type": "code",
   "execution_count": 143,
   "id": "380cf92d-f619-4f9a-ba0b-941fd6be9745",
   "metadata": {},
   "outputs": [
    {
     "name": "stdout",
     "output_type": "stream",
     "text": [
      "IntField.__get__ obj=<__main__.PersonTable object at 0x111cad550>, objtype=<class '__main__.PersonTable'>\n"
     ]
    },
    {
     "data": {
      "text/plain": [
       "12345"
      ]
     },
     "execution_count": 143,
     "metadata": {},
     "output_type": "execute_result"
    }
   ],
   "source": [
    "pers1.age"
   ]
  },
  {
   "cell_type": "code",
   "execution_count": 144,
   "id": "6142c5b3-4ef1-4f58-982c-e988d0ddaf9a",
   "metadata": {},
   "outputs": [],
   "source": [
    "pers1.__dict__[\"age\"] = \"ancient\""
   ]
  },
  {
   "cell_type": "code",
   "execution_count": 145,
   "id": "90bd661f-d906-4bbb-878f-3fbfc974deb1",
   "metadata": {},
   "outputs": [
    {
     "name": "stdout",
     "output_type": "stream",
     "text": [
      "IntField.__get__ obj=<__main__.PersonTable object at 0x111cad550>, objtype=<class '__main__.PersonTable'>\n"
     ]
    },
    {
     "data": {
      "text/plain": [
       "12345"
      ]
     },
     "execution_count": 145,
     "metadata": {},
     "output_type": "execute_result"
    }
   ],
   "source": [
    "pers1.age"
   ]
  },
  {
   "cell_type": "code",
   "execution_count": 150,
   "id": "cd31ccd5-4772-4f18-aa8f-dbc3595aa917",
   "metadata": {},
   "outputs": [
    {
     "name": "stdout",
     "output_type": "stream",
     "text": [
      "NameField.__get__ obj=<__main__.PersonTable object at 0x111cadbe0>, objtype=<class '__main__.PersonTable'>\n"
     ]
    },
    {
     "data": {
      "text/plain": [
       "'steve'"
      ]
     },
     "execution_count": 150,
     "metadata": {},
     "output_type": "execute_result"
    }
   ],
   "source": [
    "pers1.name"
   ]
  },
  {
   "cell_type": "code",
   "execution_count": 151,
   "id": "f108d6b5-a7d4-4dcb-8f56-08c40f057f86",
   "metadata": {},
   "outputs": [
    {
     "data": {
      "text/plain": [
       "{'_hidden_int_age': 10, '_hidden_int_year': 15, '_hidden_name_name': 'steve'}"
      ]
     },
     "execution_count": 151,
     "metadata": {},
     "output_type": "execute_result"
    }
   ],
   "source": [
    "pers1.__dict__"
   ]
  },
  {
   "cell_type": "code",
   "execution_count": 152,
   "id": "ecbdcc2c-01fd-4dce-8de3-8da15f670722",
   "metadata": {},
   "outputs": [],
   "source": [
    "pers1.__dict__[\"name\"] = \"ancient\""
   ]
  },
  {
   "cell_type": "code",
   "execution_count": 153,
   "id": "62d40209-1f70-49fc-8ef5-fb58f56a3251",
   "metadata": {},
   "outputs": [
    {
     "data": {
      "text/plain": [
       "'ancient'"
      ]
     },
     "execution_count": 153,
     "metadata": {},
     "output_type": "execute_result"
    }
   ],
   "source": [
    "pers1.name"
   ]
  },
  {
   "cell_type": "code",
   "execution_count": 155,
   "id": "842305ee-760b-462f-8353-fce350f4a282",
   "metadata": {},
   "outputs": [],
   "source": [
    "del pers1.name"
   ]
  },
  {
   "cell_type": "code",
   "execution_count": 156,
   "id": "ef8217be-6a63-4a30-94c4-a5942530ce28",
   "metadata": {},
   "outputs": [
    {
     "name": "stdout",
     "output_type": "stream",
     "text": [
      "NameField.__get__ obj=<__main__.PersonTable object at 0x111cadbe0>, objtype=<class '__main__.PersonTable'>\n"
     ]
    },
    {
     "data": {
      "text/plain": [
       "'steve'"
      ]
     },
     "execution_count": 156,
     "metadata": {},
     "output_type": "execute_result"
    }
   ],
   "source": [
    "pers1.name"
   ]
  },
  {
   "cell_type": "code",
   "execution_count": 157,
   "id": "53271eb9-7486-41b6-a5dc-2742d17710b4",
   "metadata": {},
   "outputs": [
    {
     "name": "stdout",
     "output_type": "stream",
     "text": [
      "Pers.calc\n"
     ]
    },
    {
     "data": {
      "text/plain": [
       "123"
      ]
     },
     "execution_count": 157,
     "metadata": {},
     "output_type": "execute_result"
    }
   ],
   "source": [
    "pers1.calc()"
   ]
  },
  {
   "cell_type": "code",
   "execution_count": 158,
   "id": "d0ee5f9d-014d-44ae-8286-69f2e4a263eb",
   "metadata": {},
   "outputs": [],
   "source": [
    "pers1.__dict__[\"calc\"] = \"ancient\""
   ]
  },
  {
   "cell_type": "code",
   "execution_count": 160,
   "id": "e0f3b2ff-529c-4d52-a89b-300d98564840",
   "metadata": {},
   "outputs": [
    {
     "ename": "TypeError",
     "evalue": "'str' object is not callable",
     "output_type": "error",
     "traceback": [
      "\u001b[31m---------------------------------------------------------------------------\u001b[39m",
      "\u001b[31mTypeError\u001b[39m                                 Traceback (most recent call last)",
      "\u001b[36mCell\u001b[39m\u001b[36m \u001b[39m\u001b[32mIn[160]\u001b[39m\u001b[32m, line 1\u001b[39m\n\u001b[32m----> \u001b[39m\u001b[32m1\u001b[39m \u001b[43mpers1\u001b[49m\u001b[43m.\u001b[49m\u001b[43mcalc\u001b[49m\u001b[43m(\u001b[49m\u001b[43m)\u001b[49m\n",
      "\u001b[31mTypeError\u001b[39m: 'str' object is not callable"
     ]
    }
   ],
   "source": [
    "pers1.calc"
   ]
  },
  {
   "cell_type": "code",
   "execution_count": 161,
   "id": "19d3242a-1740-486d-ba0e-a21a69f6da66",
   "metadata": {},
   "outputs": [],
   "source": [
    "del pers1.calc"
   ]
  },
  {
   "cell_type": "code",
   "execution_count": 162,
   "id": "1ebf7c72-166e-4df7-9b63-b0db6586c5a1",
   "metadata": {},
   "outputs": [
    {
     "name": "stdout",
     "output_type": "stream",
     "text": [
      "Pers.calc\n"
     ]
    },
    {
     "data": {
      "text/plain": [
       "123"
      ]
     },
     "execution_count": 162,
     "metadata": {},
     "output_type": "execute_result"
    }
   ],
   "source": [
    "pers1.calc()"
   ]
  },
  {
   "cell_type": "code",
   "execution_count": 167,
   "id": "5f0fdc50-d3a8-453b-9b2c-20c69605b814",
   "metadata": {},
   "outputs": [
    {
     "data": {
      "text/plain": [
       "<bound method PersonTable.calc of <__main__.PersonTable object at 0x111cadbe0>>"
      ]
     },
     "execution_count": 167,
     "metadata": {},
     "output_type": "execute_result"
    }
   ],
   "source": [
    "pers1.calc"
   ]
  },
  {
   "cell_type": "code",
   "execution_count": 164,
   "id": "32bb6c1b-857f-4dc2-999f-15c8ae306473",
   "metadata": {},
   "outputs": [
    {
     "data": {
      "text/plain": [
       "<__main__.PersonTable at 0x111cadbe0>"
      ]
     },
     "execution_count": 164,
     "metadata": {},
     "output_type": "execute_result"
    }
   ],
   "source": [
    "pers1.calc.__self__"
   ]
  },
  {
   "cell_type": "code",
   "execution_count": 165,
   "id": "4fd43140-81c1-4f9a-9556-7218349cf0c8",
   "metadata": {},
   "outputs": [
    {
     "data": {
      "text/plain": [
       "<__main__.PersonTable at 0x111cadbe0>"
      ]
     },
     "execution_count": 165,
     "metadata": {},
     "output_type": "execute_result"
    }
   ],
   "source": [
    "pers1"
   ]
  },
  {
   "cell_type": "code",
   "execution_count": 169,
   "id": "ac66b9a6-ac53-40c2-9416-231d9c0206ce",
   "metadata": {},
   "outputs": [
    {
     "data": {
      "text/plain": [
       "<function __main__.PersonTable.calc(self)>"
      ]
     },
     "execution_count": 169,
     "metadata": {},
     "output_type": "execute_result"
    }
   ],
   "source": [
    "pers1.calc.__func__"
   ]
  },
  {
   "cell_type": "code",
   "execution_count": 171,
   "id": "526f17f8-b823-4dd5-8906-9186c2a53e04",
   "metadata": {},
   "outputs": [
    {
     "name": "stdout",
     "output_type": "stream",
     "text": [
      "Pers.calc\n"
     ]
    },
    {
     "data": {
      "text/plain": [
       "123"
      ]
     },
     "execution_count": 171,
     "metadata": {},
     "output_type": "execute_result"
    }
   ],
   "source": [
    "pers1.calc.__func__(pers2)"
   ]
  },
  {
   "cell_type": "code",
   "execution_count": 174,
   "id": "6916a77f-5cd1-48bc-b3f9-bc72b97b90de",
   "metadata": {},
   "outputs": [
    {
     "data": {
      "text/plain": [
       "<slot wrapper '__get__' of 'method' objects>"
      ]
     },
     "execution_count": 174,
     "metadata": {},
     "output_type": "execute_result"
    }
   ],
   "source": [
    "pers1.calc.__class__.__get__"
   ]
  },
  {
   "cell_type": "code",
   "execution_count": 176,
   "id": "c158f4de-9087-465e-a20d-2c501d17a976",
   "metadata": {},
   "outputs": [
    {
     "name": "stdout",
     "output_type": "stream",
     "text": [
      "Pers.calc\n"
     ]
    },
    {
     "data": {
      "text/plain": [
       "123"
      ]
     },
     "execution_count": 176,
     "metadata": {},
     "output_type": "execute_result"
    }
   ],
   "source": [
    "pers1.calc.__call__()"
   ]
  },
  {
   "cell_type": "code",
   "execution_count": 177,
   "id": "0d04e108-fec7-471d-9451-9d5318a6aa8e",
   "metadata": {},
   "outputs": [
    {
     "name": "stdout",
     "output_type": "stream",
     "text": [
      "Pers.calc\n"
     ]
    },
    {
     "data": {
      "text/plain": [
       "123"
      ]
     },
     "execution_count": 177,
     "metadata": {},
     "output_type": "execute_result"
    }
   ],
   "source": [
    "pers1.calc()"
   ]
  },
  {
   "cell_type": "code",
   "execution_count": null,
   "id": "1fb7dd11-515d-4a28-923d-bddcbebbaf86",
   "metadata": {},
   "outputs": [],
   "source": []
  },
  {
   "cell_type": "code",
   "execution_count": null,
   "id": "603c6b37-ae57-41e5-b367-187f0da56f01",
   "metadata": {},
   "outputs": [],
   "source": []
  },
  {
   "cell_type": "code",
   "execution_count": 191,
   "id": "63c6d901-bf0d-4abf-97a3-11683b60cc7a",
   "metadata": {},
   "outputs": [
    {
     "name": "stdout",
     "output_type": "stream",
     "text": [
      "Pers call [1, 2, 3]\n"
     ]
    }
   ],
   "source": [
    "class PersonTable:\n",
    "    \n",
    "    def __init__(self, age):\n",
    "        self.age = age\n",
    "\n",
    "    def calc(self):\n",
    "        print(\"Pers.calc\")\n",
    "        return 123\n",
    "\n",
    "    def __call__(self, data):\n",
    "        print(\"Pers call\", data)\n",
    "        return 123\n",
    "\n",
    "    def __del__(self):\n",
    "        print(\"Pers del\")\n",
    "\n",
    "\n",
    "pers = PersonTable(10)\n",
    "pers([1, 2, 3])\n",
    "\n",
    "pers1 = pers\n",
    "\n",
    "del pers1"
   ]
  },
  {
   "cell_type": "code",
   "execution_count": 194,
   "id": "ee6a21ea-243e-4423-87b7-d650b1a51d58",
   "metadata": {},
   "outputs": [
    {
     "name": "stdout",
     "output_type": "stream",
     "text": [
      "Pers call \n"
     ]
    },
    {
     "data": {
      "text/plain": [
       "123"
      ]
     },
     "execution_count": 194,
     "metadata": {},
     "output_type": "execute_result"
    }
   ],
   "source": [
    "pers.__call__(\"\")"
   ]
  },
  {
   "cell_type": "code",
   "execution_count": 197,
   "id": "986d7302-3054-46f8-b349-a61a71a73e14",
   "metadata": {},
   "outputs": [
    {
     "name": "stdout",
     "output_type": "stream",
     "text": [
      "[30]\n"
     ]
    }
   ],
   "source": [
    "def fn(param):  # param = val : param -> PyObject(id=101, [30])\n",
    "    param = param + [20]  # param -> PyObject(id=202, [30, 20])\n",
    "\n",
    "\n",
    "val = [30]  # val -> PyObject(id=101, [30])\n",
    "fn(val)\n",
    "\n",
    "print(val)"
   ]
  },
  {
   "cell_type": "code",
   "execution_count": null,
   "id": "fb8216ea-d8f9-44ab-a938-e274e0a2b828",
   "metadata": {},
   "outputs": [],
   "source": []
  }
 ],
 "metadata": {
  "kernelspec": {
   "display_name": "Python 3 (ipykernel)",
   "language": "python",
   "name": "python3"
  },
  "language_info": {
   "codemirror_mode": {
    "name": "ipython",
    "version": 3
   },
   "file_extension": ".py",
   "mimetype": "text/x-python",
   "name": "python",
   "nbconvert_exporter": "python",
   "pygments_lexer": "ipython3",
   "version": "3.13.2"
  }
 },
 "nbformat": 4,
 "nbformat_minor": 5
}
